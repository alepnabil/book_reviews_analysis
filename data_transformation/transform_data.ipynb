{
 "cells": [
  {
   "cell_type": "code",
   "execution_count": 1,
   "metadata": {},
   "outputs": [],
   "source": [
    "import pandas as pd"
   ]
  },
  {
   "cell_type": "code",
   "execution_count": 3,
   "metadata": {},
   "outputs": [],
   "source": [
    "df=pd.read_csv('Leviathan.csv')"
   ]
  },
  {
   "cell_type": "code",
   "execution_count": 3,
   "metadata": {},
   "outputs": [
    {
     "data": {
      "text/plain": [
       "name              object\n",
       "review            object\n",
       "reviewer_stats    object\n",
       "ratings_given     object\n",
       "review_like       object\n",
       "dtype: object"
      ]
     },
     "execution_count": 3,
     "metadata": {},
     "output_type": "execute_result"
    }
   ],
   "source": [
    "df.dtypes"
   ]
  },
  {
   "cell_type": "code",
   "execution_count": 13,
   "metadata": {},
   "outputs": [
    {
     "data": {
      "text/plain": [
       "Index(['name', 'review', 'reviewer_stats', 'ratings_given', 'review_like'], dtype='object')"
      ]
     },
     "execution_count": 13,
     "metadata": {},
     "output_type": "execute_result"
    }
   ],
   "source": [
    "df.columns"
   ]
  },
  {
   "cell_type": "markdown",
   "metadata": {},
   "source": [
    "# Drop rows which dont have any reviews"
   ]
  },
  {
   "cell_type": "code",
   "execution_count": 20,
   "metadata": {},
   "outputs": [
    {
     "data": {
      "text/plain": [
       "name              0\n",
       "review            9\n",
       "reviewer_stats    0\n",
       "ratings_given     0\n",
       "review_like       0\n",
       "dtype: int64"
      ]
     },
     "execution_count": 20,
     "metadata": {},
     "output_type": "execute_result"
    }
   ],
   "source": [
    "df.isnull().sum()"
   ]
  },
  {
   "cell_type": "code",
   "execution_count": 3,
   "metadata": {},
   "outputs": [
    {
     "data": {
      "text/html": [
       "<div>\n",
       "<style scoped>\n",
       "    .dataframe tbody tr th:only-of-type {\n",
       "        vertical-align: middle;\n",
       "    }\n",
       "\n",
       "    .dataframe tbody tr th {\n",
       "        vertical-align: top;\n",
       "    }\n",
       "\n",
       "    .dataframe thead th {\n",
       "        text-align: right;\n",
       "    }\n",
       "</style>\n",
       "<table border=\"1\" class=\"dataframe\">\n",
       "  <thead>\n",
       "    <tr style=\"text-align: right;\">\n",
       "      <th></th>\n",
       "      <th>name</th>\n",
       "      <th>review</th>\n",
       "      <th>reviewer_stats</th>\n",
       "      <th>ratings_given</th>\n",
       "      <th>review_like</th>\n",
       "    </tr>\n",
       "  </thead>\n",
       "  <tbody>\n",
       "    <tr>\n",
       "      <th>0</th>\n",
       "      <td>Ahmad Sharabiani</td>\n",
       "      <td>Leviathan, or The Matter, Forme and Power of a...</td>\n",
       "      <td>9,569 reviews\\n56k followers</td>\n",
       "      <td>Rating 4 out of 5</td>\n",
       "      <td>165 likes</td>\n",
       "    </tr>\n",
       "    <tr>\n",
       "      <th>1</th>\n",
       "      <td>Yasiru</td>\n",
       "      <td>Since some reviewers here seem to rate this wo...</td>\n",
       "      <td>197 reviews\\n115 followers</td>\n",
       "      <td>Rating 5 out of 5</td>\n",
       "      <td>138 likes\\n4 comments</td>\n",
       "    </tr>\n",
       "    <tr>\n",
       "      <th>2</th>\n",
       "      <td>Czarny Pies</td>\n",
       "      <td>Both the conclusions and methodology of \"Levia...</td>\n",
       "      <td>2,412 reviews\\n1 follower</td>\n",
       "      <td>Rating 5 out of 5</td>\n",
       "      <td>50 likes\\n4 comments</td>\n",
       "    </tr>\n",
       "    <tr>\n",
       "      <th>3</th>\n",
       "      <td>E. G.</td>\n",
       "      <td>Preface\\nA Scheme of Reference\\nIntroduction\\n...</td>\n",
       "      <td>1,101 reviews\\n662 followers</td>\n",
       "      <td>Rating 4 out of 5</td>\n",
       "      <td>41 likes\\n2 comments</td>\n",
       "    </tr>\n",
       "    <tr>\n",
       "      <th>4</th>\n",
       "      <td>امیر لطیفی</td>\n",
       "      <td>هدفِ اصلی کتاب پاسخ به این پرسش است: چرا به دو...</td>\n",
       "      <td>155 reviews\\n156 followers</td>\n",
       "      <td>Rating 3 out of 5</td>\n",
       "      <td>31 likes</td>\n",
       "    </tr>\n",
       "    <tr>\n",
       "      <th>...</th>\n",
       "      <td>...</td>\n",
       "      <td>...</td>\n",
       "      <td>...</td>\n",
       "      <td>...</td>\n",
       "      <td>...</td>\n",
       "    </tr>\n",
       "    <tr>\n",
       "      <th>763</th>\n",
       "      <td>AbsurdThoughts</td>\n",
       "      <td>only the first third</td>\n",
       "      <td>2 reviews</td>\n",
       "      <td>None</td>\n",
       "      <td>None</td>\n",
       "    </tr>\n",
       "    <tr>\n",
       "      <th>764</th>\n",
       "      <td>Ollie</td>\n",
       "      <td>wasn't hobbes a knob</td>\n",
       "      <td>95 reviews\\n1 follower</td>\n",
       "      <td>None</td>\n",
       "      <td>None</td>\n",
       "    </tr>\n",
       "    <tr>\n",
       "      <th>765</th>\n",
       "      <td>Malica</td>\n",
       "      <td>Very interesting and thought provoking at time...</td>\n",
       "      <td>151 reviews\\n2 followers</td>\n",
       "      <td>Rating 3 out of 5</td>\n",
       "      <td>None</td>\n",
       "    </tr>\n",
       "    <tr>\n",
       "      <th>766</th>\n",
       "      <td>Rebecca Crunden</td>\n",
       "      <td>Ah, Hobbes.</td>\n",
       "      <td>Author \\n14 books\\n345 followers</td>\n",
       "      <td>None</td>\n",
       "      <td>None</td>\n",
       "    </tr>\n",
       "    <tr>\n",
       "      <th>767</th>\n",
       "      <td>Kakada Yeun</td>\n",
       "      <td>I WAN TO KNOW HOW IT WORK?</td>\n",
       "      <td>1 review</td>\n",
       "      <td>None</td>\n",
       "      <td>None</td>\n",
       "    </tr>\n",
       "  </tbody>\n",
       "</table>\n",
       "<p>759 rows × 5 columns</p>\n",
       "</div>"
      ],
      "text/plain": [
       "                 name                                             review  \\\n",
       "0    Ahmad Sharabiani  Leviathan, or The Matter, Forme and Power of a...   \n",
       "1              Yasiru  Since some reviewers here seem to rate this wo...   \n",
       "2         Czarny Pies  Both the conclusions and methodology of \"Levia...   \n",
       "3               E. G.  Preface\\nA Scheme of Reference\\nIntroduction\\n...   \n",
       "4          امیر لطیفی  هدفِ اصلی کتاب پاسخ به این پرسش است: چرا به دو...   \n",
       "..                ...                                                ...   \n",
       "763    AbsurdThoughts                               only the first third   \n",
       "764             Ollie                               wasn't hobbes a knob   \n",
       "765            Malica  Very interesting and thought provoking at time...   \n",
       "766   Rebecca Crunden                                        Ah, Hobbes.   \n",
       "767       Kakada Yeun                         I WAN TO KNOW HOW IT WORK?   \n",
       "\n",
       "                       reviewer_stats      ratings_given  \\\n",
       "0        9,569 reviews\\n56k followers  Rating 4 out of 5   \n",
       "1          197 reviews\\n115 followers  Rating 5 out of 5   \n",
       "2           2,412 reviews\\n1 follower  Rating 5 out of 5   \n",
       "3        1,101 reviews\\n662 followers  Rating 4 out of 5   \n",
       "4          155 reviews\\n156 followers  Rating 3 out of 5   \n",
       "..                                ...                ...   \n",
       "763                         2 reviews               None   \n",
       "764            95 reviews\\n1 follower               None   \n",
       "765          151 reviews\\n2 followers  Rating 3 out of 5   \n",
       "766  Author \\n14 books\\n345 followers               None   \n",
       "767                          1 review               None   \n",
       "\n",
       "               review_like  \n",
       "0                165 likes  \n",
       "1    138 likes\\n4 comments  \n",
       "2     50 likes\\n4 comments  \n",
       "3     41 likes\\n2 comments  \n",
       "4                 31 likes  \n",
       "..                     ...  \n",
       "763                   None  \n",
       "764                   None  \n",
       "765                   None  \n",
       "766                   None  \n",
       "767                   None  \n",
       "\n",
       "[759 rows x 5 columns]"
      ]
     },
     "execution_count": 3,
     "metadata": {},
     "output_type": "execute_result"
    }
   ],
   "source": [
    "df[df['review'].notna()]"
   ]
  },
  {
   "cell_type": "code",
   "execution_count": 4,
   "metadata": {},
   "outputs": [
    {
     "data": {
      "text/html": [
       "<div>\n",
       "<style scoped>\n",
       "    .dataframe tbody tr th:only-of-type {\n",
       "        vertical-align: middle;\n",
       "    }\n",
       "\n",
       "    .dataframe tbody tr th {\n",
       "        vertical-align: top;\n",
       "    }\n",
       "\n",
       "    .dataframe thead th {\n",
       "        text-align: right;\n",
       "    }\n",
       "</style>\n",
       "<table border=\"1\" class=\"dataframe\">\n",
       "  <thead>\n",
       "    <tr style=\"text-align: right;\">\n",
       "      <th></th>\n",
       "      <th>name</th>\n",
       "      <th>review</th>\n",
       "      <th>reviewer_stats</th>\n",
       "      <th>ratings_given</th>\n",
       "      <th>review_like</th>\n",
       "    </tr>\n",
       "  </thead>\n",
       "  <tbody>\n",
       "    <tr>\n",
       "      <th>44</th>\n",
       "      <td>Dina</td>\n",
       "      <td>NaN</td>\n",
       "      <td>53 reviews</td>\n",
       "      <td>Rating 3 out of 5</td>\n",
       "      <td>4 likes</td>\n",
       "    </tr>\n",
       "    <tr>\n",
       "      <th>110</th>\n",
       "      <td>Radka Klusáčková</td>\n",
       "      <td>NaN</td>\n",
       "      <td>8 reviews</td>\n",
       "      <td>Rating 4 out of 5</td>\n",
       "      <td>1 like</td>\n",
       "    </tr>\n",
       "    <tr>\n",
       "      <th>168</th>\n",
       "      <td>drdy</td>\n",
       "      <td>NaN</td>\n",
       "      <td>122 reviews\\n17 followers</td>\n",
       "      <td>Rating 2 out of 5</td>\n",
       "      <td>1 like</td>\n",
       "    </tr>\n",
       "    <tr>\n",
       "      <th>202</th>\n",
       "      <td>Garth</td>\n",
       "      <td>NaN</td>\n",
       "      <td>193 reviews\\n1 follower</td>\n",
       "      <td>Rating 5 out of 5</td>\n",
       "      <td>None</td>\n",
       "    </tr>\n",
       "    <tr>\n",
       "      <th>226</th>\n",
       "      <td>Orlando Fernando</td>\n",
       "      <td>NaN</td>\n",
       "      <td>120 reviews</td>\n",
       "      <td>Rating 5 out of 5</td>\n",
       "      <td>None</td>\n",
       "    </tr>\n",
       "    <tr>\n",
       "      <th>242</th>\n",
       "      <td>Jens</td>\n",
       "      <td>NaN</td>\n",
       "      <td>2 reviews</td>\n",
       "      <td>Rating 5 out of 5</td>\n",
       "      <td>None</td>\n",
       "    </tr>\n",
       "    <tr>\n",
       "      <th>319</th>\n",
       "      <td>Jaakko</td>\n",
       "      <td>NaN</td>\n",
       "      <td>2 reviews</td>\n",
       "      <td>Rating 2 out of 5</td>\n",
       "      <td>None</td>\n",
       "    </tr>\n",
       "    <tr>\n",
       "      <th>407</th>\n",
       "      <td>Jazmín</td>\n",
       "      <td>NaN</td>\n",
       "      <td>201 reviews\\n32 followers</td>\n",
       "      <td>None</td>\n",
       "      <td>None</td>\n",
       "    </tr>\n",
       "    <tr>\n",
       "      <th>508</th>\n",
       "      <td>James Schrady</td>\n",
       "      <td>NaN</td>\n",
       "      <td>10 reviews</td>\n",
       "      <td>Rating 4 out of 5</td>\n",
       "      <td>None</td>\n",
       "    </tr>\n",
       "  </tbody>\n",
       "</table>\n",
       "</div>"
      ],
      "text/plain": [
       "                 name review             reviewer_stats      ratings_given  \\\n",
       "44               Dina    NaN                 53 reviews  Rating 3 out of 5   \n",
       "110  Radka Klusáčková    NaN                  8 reviews  Rating 4 out of 5   \n",
       "168              drdy    NaN  122 reviews\\n17 followers  Rating 2 out of 5   \n",
       "202             Garth    NaN    193 reviews\\n1 follower  Rating 5 out of 5   \n",
       "226  Orlando Fernando    NaN                120 reviews  Rating 5 out of 5   \n",
       "242              Jens    NaN                  2 reviews  Rating 5 out of 5   \n",
       "319            Jaakko    NaN                  2 reviews  Rating 2 out of 5   \n",
       "407            Jazmín    NaN  201 reviews\\n32 followers               None   \n",
       "508     James Schrady    NaN                 10 reviews  Rating 4 out of 5   \n",
       "\n",
       "    review_like  \n",
       "44      4 likes  \n",
       "110      1 like  \n",
       "168      1 like  \n",
       "202        None  \n",
       "226        None  \n",
       "242        None  \n",
       "319        None  \n",
       "407        None  \n",
       "508        None  "
      ]
     },
     "execution_count": 4,
     "metadata": {},
     "output_type": "execute_result"
    }
   ],
   "source": [
    "df[df['review'].isnull()]"
   ]
  },
  {
   "cell_type": "code",
   "execution_count": 5,
   "metadata": {},
   "outputs": [],
   "source": [
    "df=df[df['review'].notna()]"
   ]
  },
  {
   "cell_type": "code",
   "execution_count": 50,
   "metadata": {},
   "outputs": [
    {
     "data": {
      "text/plain": [
       "name              0\n",
       "review            0\n",
       "reviewer_stats    0\n",
       "ratings_given     0\n",
       "review_like       0\n",
       "dtype: int64"
      ]
     },
     "execution_count": 50,
     "metadata": {},
     "output_type": "execute_result"
    }
   ],
   "source": [
    "df.isnull().sum()"
   ]
  },
  {
   "cell_type": "code",
   "execution_count": 78,
   "metadata": {},
   "outputs": [],
   "source": [
    "df['name']=df['name'].astype('str')"
   ]
  },
  {
   "cell_type": "code",
   "execution_count": 87,
   "metadata": {},
   "outputs": [],
   "source": [
    "df=df.head(10)"
   ]
  },
  {
   "cell_type": "markdown",
   "metadata": {},
   "source": [
    "# Check the amounth of reviews given by reviewer"
   ]
  },
  {
   "cell_type": "code",
   "execution_count": 7,
   "metadata": {},
   "outputs": [
    {
     "data": {
      "text/plain": [
       "0                                9,569 \n",
       "1                                  197 \n",
       "2                                2,412 \n",
       "3                                1,101 \n",
       "4                                  155 \n",
       "                     ...               \n",
       "763                                  2 \n",
       "764                                 95 \n",
       "765                                151 \n",
       "766    Author \\n14 books\\n345 followers\n",
       "767                            1 review\n",
       "Name: reviewer_stats, Length: 768, dtype: object"
      ]
     },
     "execution_count": 7,
     "metadata": {},
     "output_type": "execute_result"
    }
   ],
   "source": [
    "df['reviewer_stats'].str.split(pat='reviews').str[0]"
   ]
  },
  {
   "cell_type": "code",
   "execution_count": 103,
   "metadata": {},
   "outputs": [],
   "source": [
    "df['user_reviews_amount']=df['reviewer_stats'].str.split(pat='reviews').str[0]"
   ]
  },
  {
   "cell_type": "code",
   "execution_count": 104,
   "metadata": {},
   "outputs": [
    {
     "data": {
      "text/html": [
       "<div>\n",
       "<style scoped>\n",
       "    .dataframe tbody tr th:only-of-type {\n",
       "        vertical-align: middle;\n",
       "    }\n",
       "\n",
       "    .dataframe tbody tr th {\n",
       "        vertical-align: top;\n",
       "    }\n",
       "\n",
       "    .dataframe thead th {\n",
       "        text-align: right;\n",
       "    }\n",
       "</style>\n",
       "<table border=\"1\" class=\"dataframe\">\n",
       "  <thead>\n",
       "    <tr style=\"text-align: right;\">\n",
       "      <th></th>\n",
       "      <th>name</th>\n",
       "      <th>review</th>\n",
       "      <th>reviewer_stats</th>\n",
       "      <th>ratings_given</th>\n",
       "      <th>review_like</th>\n",
       "      <th>user_reviews_amount</th>\n",
       "    </tr>\n",
       "  </thead>\n",
       "  <tbody>\n",
       "    <tr>\n",
       "      <th>0</th>\n",
       "      <td>Ahmad Sharabiani</td>\n",
       "      <td>Leviathan, or The Matter, Forme and Power of a...</td>\n",
       "      <td>9,569 reviews\\n56k followers</td>\n",
       "      <td>Rating 4 out of 5</td>\n",
       "      <td>165 likes</td>\n",
       "      <td>9,569</td>\n",
       "    </tr>\n",
       "    <tr>\n",
       "      <th>1</th>\n",
       "      <td>Yasiru</td>\n",
       "      <td>Since some reviewers here seem to rate this wo...</td>\n",
       "      <td>197 reviews\\n115 followers</td>\n",
       "      <td>Rating 5 out of 5</td>\n",
       "      <td>138 likes\\n4 comments</td>\n",
       "      <td>197</td>\n",
       "    </tr>\n",
       "    <tr>\n",
       "      <th>2</th>\n",
       "      <td>Czarny Pies</td>\n",
       "      <td>Both the conclusions and methodology of \"Levia...</td>\n",
       "      <td>2,412 reviews\\n1 follower</td>\n",
       "      <td>Rating 5 out of 5</td>\n",
       "      <td>50 likes\\n4 comments</td>\n",
       "      <td>2,412</td>\n",
       "    </tr>\n",
       "    <tr>\n",
       "      <th>3</th>\n",
       "      <td>E. G.</td>\n",
       "      <td>Preface\\nA Scheme of Reference\\nIntroduction\\n...</td>\n",
       "      <td>1,101 reviews\\n662 followers</td>\n",
       "      <td>Rating 4 out of 5</td>\n",
       "      <td>41 likes\\n2 comments</td>\n",
       "      <td>1,101</td>\n",
       "    </tr>\n",
       "    <tr>\n",
       "      <th>4</th>\n",
       "      <td>امیر لطیفی</td>\n",
       "      <td>هدفِ اصلی کتاب پاسخ به این پرسش است: چرا به دو...</td>\n",
       "      <td>155 reviews\\n156 followers</td>\n",
       "      <td>Rating 3 out of 5</td>\n",
       "      <td>31 likes</td>\n",
       "      <td>155</td>\n",
       "    </tr>\n",
       "    <tr>\n",
       "      <th>...</th>\n",
       "      <td>...</td>\n",
       "      <td>...</td>\n",
       "      <td>...</td>\n",
       "      <td>...</td>\n",
       "      <td>...</td>\n",
       "      <td>...</td>\n",
       "    </tr>\n",
       "    <tr>\n",
       "      <th>763</th>\n",
       "      <td>AbsurdThoughts</td>\n",
       "      <td>only the first third</td>\n",
       "      <td>2 reviews</td>\n",
       "      <td>None</td>\n",
       "      <td>None</td>\n",
       "      <td>2</td>\n",
       "    </tr>\n",
       "    <tr>\n",
       "      <th>764</th>\n",
       "      <td>Ollie</td>\n",
       "      <td>wasn't hobbes a knob</td>\n",
       "      <td>95 reviews\\n1 follower</td>\n",
       "      <td>None</td>\n",
       "      <td>None</td>\n",
       "      <td>95</td>\n",
       "    </tr>\n",
       "    <tr>\n",
       "      <th>765</th>\n",
       "      <td>Malica</td>\n",
       "      <td>Very interesting and thought provoking at time...</td>\n",
       "      <td>151 reviews\\n2 followers</td>\n",
       "      <td>Rating 3 out of 5</td>\n",
       "      <td>None</td>\n",
       "      <td>151</td>\n",
       "    </tr>\n",
       "    <tr>\n",
       "      <th>766</th>\n",
       "      <td>Rebecca Crunden</td>\n",
       "      <td>Ah, Hobbes.</td>\n",
       "      <td>Author \\n14 books\\n345 followers</td>\n",
       "      <td>None</td>\n",
       "      <td>None</td>\n",
       "      <td>Author \\n14 books\\n345 followers</td>\n",
       "    </tr>\n",
       "    <tr>\n",
       "      <th>767</th>\n",
       "      <td>Kakada Yeun</td>\n",
       "      <td>I WAN TO KNOW HOW IT WORK?</td>\n",
       "      <td>1 review</td>\n",
       "      <td>None</td>\n",
       "      <td>None</td>\n",
       "      <td>1 review</td>\n",
       "    </tr>\n",
       "  </tbody>\n",
       "</table>\n",
       "<p>768 rows × 6 columns</p>\n",
       "</div>"
      ],
      "text/plain": [
       "                 name                                             review  \\\n",
       "0    Ahmad Sharabiani  Leviathan, or The Matter, Forme and Power of a...   \n",
       "1              Yasiru  Since some reviewers here seem to rate this wo...   \n",
       "2         Czarny Pies  Both the conclusions and methodology of \"Levia...   \n",
       "3               E. G.  Preface\\nA Scheme of Reference\\nIntroduction\\n...   \n",
       "4          امیر لطیفی  هدفِ اصلی کتاب پاسخ به این پرسش است: چرا به دو...   \n",
       "..                ...                                                ...   \n",
       "763    AbsurdThoughts                               only the first third   \n",
       "764             Ollie                               wasn't hobbes a knob   \n",
       "765            Malica  Very interesting and thought provoking at time...   \n",
       "766   Rebecca Crunden                                        Ah, Hobbes.   \n",
       "767       Kakada Yeun                         I WAN TO KNOW HOW IT WORK?   \n",
       "\n",
       "                       reviewer_stats      ratings_given  \\\n",
       "0        9,569 reviews\\n56k followers  Rating 4 out of 5   \n",
       "1          197 reviews\\n115 followers  Rating 5 out of 5   \n",
       "2           2,412 reviews\\n1 follower  Rating 5 out of 5   \n",
       "3        1,101 reviews\\n662 followers  Rating 4 out of 5   \n",
       "4          155 reviews\\n156 followers  Rating 3 out of 5   \n",
       "..                                ...                ...   \n",
       "763                         2 reviews               None   \n",
       "764            95 reviews\\n1 follower               None   \n",
       "765          151 reviews\\n2 followers  Rating 3 out of 5   \n",
       "766  Author \\n14 books\\n345 followers               None   \n",
       "767                          1 review               None   \n",
       "\n",
       "               review_like               user_reviews_amount  \n",
       "0                165 likes                            9,569   \n",
       "1    138 likes\\n4 comments                              197   \n",
       "2     50 likes\\n4 comments                            2,412   \n",
       "3     41 likes\\n2 comments                            1,101   \n",
       "4                 31 likes                              155   \n",
       "..                     ...                               ...  \n",
       "763                   None                                2   \n",
       "764                   None                               95   \n",
       "765                   None                              151   \n",
       "766                   None  Author \\n14 books\\n345 followers  \n",
       "767                   None                          1 review  \n",
       "\n",
       "[768 rows x 6 columns]"
      ]
     },
     "execution_count": 104,
     "metadata": {},
     "output_type": "execute_result"
    }
   ],
   "source": [
    "df"
   ]
  },
  {
   "cell_type": "code",
   "execution_count": 106,
   "metadata": {},
   "outputs": [],
   "source": [
    "df=df.tail(5)"
   ]
  },
  {
   "cell_type": "markdown",
   "metadata": {
    "tags": []
   },
   "source": [
    "# Check if the reviewer is an author or not"
   ]
  },
  {
   "cell_type": "code",
   "execution_count": 3,
   "metadata": {},
   "outputs": [],
   "source": [
    "df['author']=df['reviewer_stats'].str.startswith('Author')"
   ]
  },
  {
   "cell_type": "code",
   "execution_count": 4,
   "metadata": {},
   "outputs": [
    {
     "data": {
      "text/plain": [
       "False    725\n",
       "True      43\n",
       "Name: author, dtype: int64"
      ]
     },
     "execution_count": 4,
     "metadata": {},
     "output_type": "execute_result"
    }
   ],
   "source": [
    "df['author'].value_counts()"
   ]
  },
  {
   "cell_type": "code",
   "execution_count": 5,
   "metadata": {},
   "outputs": [
    {
     "data": {
      "text/html": [
       "<div>\n",
       "<style scoped>\n",
       "    .dataframe tbody tr th:only-of-type {\n",
       "        vertical-align: middle;\n",
       "    }\n",
       "\n",
       "    .dataframe tbody tr th {\n",
       "        vertical-align: top;\n",
       "    }\n",
       "\n",
       "    .dataframe thead th {\n",
       "        text-align: right;\n",
       "    }\n",
       "</style>\n",
       "<table border=\"1\" class=\"dataframe\">\n",
       "  <thead>\n",
       "    <tr style=\"text-align: right;\">\n",
       "      <th></th>\n",
       "      <th>name</th>\n",
       "      <th>review</th>\n",
       "      <th>reviewer_stats</th>\n",
       "      <th>ratings_given</th>\n",
       "      <th>review_like</th>\n",
       "      <th>author</th>\n",
       "    </tr>\n",
       "  </thead>\n",
       "  <tbody>\n",
       "    <tr>\n",
       "      <th>763</th>\n",
       "      <td>AbsurdThoughts</td>\n",
       "      <td>only the first third</td>\n",
       "      <td>2 reviews</td>\n",
       "      <td>None</td>\n",
       "      <td>None</td>\n",
       "      <td>False</td>\n",
       "    </tr>\n",
       "    <tr>\n",
       "      <th>764</th>\n",
       "      <td>Ollie</td>\n",
       "      <td>wasn't hobbes a knob</td>\n",
       "      <td>95 reviews\\n1 follower</td>\n",
       "      <td>None</td>\n",
       "      <td>None</td>\n",
       "      <td>False</td>\n",
       "    </tr>\n",
       "    <tr>\n",
       "      <th>765</th>\n",
       "      <td>Malica</td>\n",
       "      <td>Very interesting and thought provoking at time...</td>\n",
       "      <td>151 reviews\\n2 followers</td>\n",
       "      <td>Rating 3 out of 5</td>\n",
       "      <td>None</td>\n",
       "      <td>False</td>\n",
       "    </tr>\n",
       "    <tr>\n",
       "      <th>766</th>\n",
       "      <td>Rebecca Crunden</td>\n",
       "      <td>Ah, Hobbes.</td>\n",
       "      <td>Author \\n14 books\\n345 followers</td>\n",
       "      <td>None</td>\n",
       "      <td>None</td>\n",
       "      <td>True</td>\n",
       "    </tr>\n",
       "    <tr>\n",
       "      <th>767</th>\n",
       "      <td>Kakada Yeun</td>\n",
       "      <td>I WAN TO KNOW HOW IT WORK?</td>\n",
       "      <td>1 review</td>\n",
       "      <td>None</td>\n",
       "      <td>None</td>\n",
       "      <td>False</td>\n",
       "    </tr>\n",
       "  </tbody>\n",
       "</table>\n",
       "</div>"
      ],
      "text/plain": [
       "                name                                             review  \\\n",
       "763   AbsurdThoughts                               only the first third   \n",
       "764            Ollie                               wasn't hobbes a knob   \n",
       "765           Malica  Very interesting and thought provoking at time...   \n",
       "766  Rebecca Crunden                                        Ah, Hobbes.   \n",
       "767      Kakada Yeun                         I WAN TO KNOW HOW IT WORK?   \n",
       "\n",
       "                       reviewer_stats      ratings_given review_like  author  \n",
       "763                         2 reviews               None        None   False  \n",
       "764            95 reviews\\n1 follower               None        None   False  \n",
       "765          151 reviews\\n2 followers  Rating 3 out of 5        None   False  \n",
       "766  Author \\n14 books\\n345 followers               None        None    True  \n",
       "767                          1 review               None        None   False  "
      ]
     },
     "execution_count": 5,
     "metadata": {},
     "output_type": "execute_result"
    }
   ],
   "source": [
    "df.tail(5)"
   ]
  },
  {
   "cell_type": "markdown",
   "metadata": {},
   "source": [
    "# Preprocessing authors review"
   ]
  },
  {
   "cell_type": "code",
   "execution_count": 4,
   "metadata": {},
   "outputs": [
    {
     "data": {
      "text/html": [
       "<div>\n",
       "<style scoped>\n",
       "    .dataframe tbody tr th:only-of-type {\n",
       "        vertical-align: middle;\n",
       "    }\n",
       "\n",
       "    .dataframe tbody tr th {\n",
       "        vertical-align: top;\n",
       "    }\n",
       "\n",
       "    .dataframe thead th {\n",
       "        text-align: right;\n",
       "    }\n",
       "</style>\n",
       "<table border=\"1\" class=\"dataframe\">\n",
       "  <thead>\n",
       "    <tr style=\"text-align: right;\">\n",
       "      <th></th>\n",
       "      <th>name</th>\n",
       "      <th>review</th>\n",
       "      <th>reviewer_stats</th>\n",
       "      <th>ratings_given</th>\n",
       "      <th>review_like</th>\n",
       "      <th>author</th>\n",
       "    </tr>\n",
       "  </thead>\n",
       "  <tbody>\n",
       "    <tr>\n",
       "      <th>10</th>\n",
       "      <td>Mahnam</td>\n",
       "      <td>«فراغت مادر فلسفه است و دولت مادر صلح و فراغت....</td>\n",
       "      <td>Author \\n15 books\\n271 followers</td>\n",
       "      <td>Rating 2 out of 5</td>\n",
       "      <td>20 likes</td>\n",
       "      <td>True</td>\n",
       "    </tr>\n",
       "    <tr>\n",
       "      <th>17</th>\n",
       "      <td>Steven Peterson</td>\n",
       "      <td>Three essential hallmarks of the Hobbesian sys...</td>\n",
       "      <td>Author \\n21 books\\n263 followers</td>\n",
       "      <td>Rating 5 out of 5</td>\n",
       "      <td>11 likes</td>\n",
       "      <td>True</td>\n",
       "    </tr>\n",
       "    <tr>\n",
       "      <th>22</th>\n",
       "      <td>Λευτέρης Πετρής</td>\n",
       "      <td>\"Οι πράξεις των ανθρώπων πηγάζουν από τις απόψ...</td>\n",
       "      <td>Author \\n1 book\\n31 followers</td>\n",
       "      <td>Rating 4 out of 5</td>\n",
       "      <td>10 likes\\n2 comments</td>\n",
       "      <td>True</td>\n",
       "    </tr>\n",
       "    <tr>\n",
       "      <th>34</th>\n",
       "      <td>Mary Slowik</td>\n",
       "      <td>Not the best book I've ever chosen to read whi...</td>\n",
       "      <td>Author \\n1 book\\n20 followers</td>\n",
       "      <td>Rating 2 out of 5</td>\n",
       "      <td>6 likes</td>\n",
       "      <td>True</td>\n",
       "    </tr>\n",
       "    <tr>\n",
       "      <th>70</th>\n",
       "      <td>Anderson Paz</td>\n",
       "      <td>A obra Leviatã de Hobbes foi publicada em 1651...</td>\n",
       "      <td>Author \\n3 books\\n10 followers</td>\n",
       "      <td>Rating 3 out of 5</td>\n",
       "      <td>2 likes</td>\n",
       "      <td>True</td>\n",
       "    </tr>\n",
       "    <tr>\n",
       "      <th>93</th>\n",
       "      <td>Cristina Sburlea</td>\n",
       "      <td>I first read it in high school and it was the ...</td>\n",
       "      <td>Author \\n8 books\\n61 followers</td>\n",
       "      <td>Rating 5 out of 5</td>\n",
       "      <td>2 likes</td>\n",
       "      <td>True</td>\n",
       "    </tr>\n",
       "    <tr>\n",
       "      <th>118</th>\n",
       "      <td>Gordan Karlic</td>\n",
       "      <td>It was hard decision give this book rate 5 sta...</td>\n",
       "      <td>Author \\n1 book\\n7 followers</td>\n",
       "      <td>Rating 5 out of 5</td>\n",
       "      <td>1 like</td>\n",
       "      <td>True</td>\n",
       "    </tr>\n",
       "    <tr>\n",
       "      <th>142</th>\n",
       "      <td>Shem Doupé</td>\n",
       "      <td>Kinda difficult to read because of the way and...</td>\n",
       "      <td>Author \\n1 book\\n1 follower</td>\n",
       "      <td>Rating 3 out of 5</td>\n",
       "      <td>1 like</td>\n",
       "      <td>True</td>\n",
       "    </tr>\n",
       "    <tr>\n",
       "      <th>145</th>\n",
       "      <td>Willy Schuyesmans</td>\n",
       "      <td>Boeiende filosofische visie op de mens en op d...</td>\n",
       "      <td>Author \\n21 books\\n46 followers</td>\n",
       "      <td>Rating 4 out of 5</td>\n",
       "      <td>1 like</td>\n",
       "      <td>True</td>\n",
       "    </tr>\n",
       "    <tr>\n",
       "      <th>159</th>\n",
       "      <td>John Wiswell</td>\n",
       "      <td>Fascism is treated more like a dirty word than...</td>\n",
       "      <td>Author \\n39 books\\n352 followers</td>\n",
       "      <td>Rating 3 out of 5</td>\n",
       "      <td>1 like\\n1 comment</td>\n",
       "      <td>True</td>\n",
       "    </tr>\n",
       "    <tr>\n",
       "      <th>176</th>\n",
       "      <td>Michael</td>\n",
       "      <td>I read (and assigned) this book along with 10 ...</td>\n",
       "      <td>Author \\n2 books\\n16 followers</td>\n",
       "      <td>Rating 4 out of 5</td>\n",
       "      <td>1 like</td>\n",
       "      <td>True</td>\n",
       "    </tr>\n",
       "    <tr>\n",
       "      <th>198</th>\n",
       "      <td>Jacques Coulardeau</td>\n",
       "      <td>I will only consider some chapters in this app...</td>\n",
       "      <td>Author \\n24 books\\n28 followers</td>\n",
       "      <td>Rating 5 out of 5</td>\n",
       "      <td>1 like</td>\n",
       "      <td>True</td>\n",
       "    </tr>\n",
       "    <tr>\n",
       "      <th>201</th>\n",
       "      <td>Padmanabha Reddy</td>\n",
       "      <td>A long book, a lot of lessons, and wisdom abou...</td>\n",
       "      <td>Author \\n2 books\\n11 followers</td>\n",
       "      <td>Rating 3 out of 5</td>\n",
       "      <td>None</td>\n",
       "      <td>True</td>\n",
       "    </tr>\n",
       "    <tr>\n",
       "      <th>204</th>\n",
       "      <td>Paul</td>\n",
       "      <td>Wide-ranging, perceptive, and hard-nosed, this...</td>\n",
       "      <td>Author \\n4 books\\n97 followers</td>\n",
       "      <td>Rating 4 out of 5</td>\n",
       "      <td>None</td>\n",
       "      <td>True</td>\n",
       "    </tr>\n",
       "    <tr>\n",
       "      <th>213</th>\n",
       "      <td>John Lucy</td>\n",
       "      <td>Understanding the leviathan that is government...</td>\n",
       "      <td>Author \\n3 books\\n22 followers</td>\n",
       "      <td>Rating 3 out of 5</td>\n",
       "      <td>None</td>\n",
       "      <td>True</td>\n",
       "    </tr>\n",
       "    <tr>\n",
       "      <th>225</th>\n",
       "      <td>Gina</td>\n",
       "      <td>One reason I read this is because so many poli...</td>\n",
       "      <td>Author \\n5 books\\n21 followers</td>\n",
       "      <td>Rating 3 out of 5</td>\n",
       "      <td>None</td>\n",
       "      <td>True</td>\n",
       "    </tr>\n",
       "    <tr>\n",
       "      <th>237</th>\n",
       "      <td>Patrik Sahlstrøm</td>\n",
       "      <td>Ugh, reading this was painfull. The text is ex...</td>\n",
       "      <td>Author \\n6 books\\n11 followers</td>\n",
       "      <td>Rating 2 out of 5</td>\n",
       "      <td>None</td>\n",
       "      <td>True</td>\n",
       "    </tr>\n",
       "    <tr>\n",
       "      <th>247</th>\n",
       "      <td>E.</td>\n",
       "      <td>The first two parts, wherein the essence of th...</td>\n",
       "      <td>Author \\n1 book\\n17 followers</td>\n",
       "      <td>Rating 2 out of 5</td>\n",
       "      <td>1 comment</td>\n",
       "      <td>True</td>\n",
       "    </tr>\n",
       "    <tr>\n",
       "      <th>285</th>\n",
       "      <td>Nicki Markus</td>\n",
       "      <td>Leviathan was a fascinating read, not least be...</td>\n",
       "      <td>Author \\n63 books\\n257 followers</td>\n",
       "      <td>Rating 4 out of 5</td>\n",
       "      <td>None</td>\n",
       "      <td>True</td>\n",
       "    </tr>\n",
       "    <tr>\n",
       "      <th>305</th>\n",
       "      <td>Asgrimur Hartmannsson</td>\n",
       "      <td>Needs editing.\\n\\nThe first half is tolerable,...</td>\n",
       "      <td>Author \\n18 books\\n1 follower</td>\n",
       "      <td>Rating 3 out of 5</td>\n",
       "      <td>None</td>\n",
       "      <td>True</td>\n",
       "    </tr>\n",
       "    <tr>\n",
       "      <th>370</th>\n",
       "      <td>Josef Hodgkins</td>\n",
       "      <td>Read for Ethics class at Harvard Extension Sch...</td>\n",
       "      <td>Author \\n1 book\\n5 followers</td>\n",
       "      <td>Rating 5 out of 5</td>\n",
       "      <td>None</td>\n",
       "      <td>True</td>\n",
       "    </tr>\n",
       "    <tr>\n",
       "      <th>417</th>\n",
       "      <td>Stefán Örvar Sigmundsson</td>\n",
       "      <td>A few interesting ideas sprinkled into an ocea...</td>\n",
       "      <td>Author \\n1 book\\n24 followers</td>\n",
       "      <td>Rating 2 out of 5</td>\n",
       "      <td>None</td>\n",
       "      <td>True</td>\n",
       "    </tr>\n",
       "    <tr>\n",
       "      <th>421</th>\n",
       "      <td>Patrick Stuart</td>\n",
       "      <td>I have to admit to myself, I'm just never goin...</td>\n",
       "      <td>Author \\n11 books\\n124 followers</td>\n",
       "      <td>None</td>\n",
       "      <td>None</td>\n",
       "      <td>True</td>\n",
       "    </tr>\n",
       "    <tr>\n",
       "      <th>504</th>\n",
       "      <td>J. Clayton Rogers</td>\n",
       "      <td>I surrender. The first half was marvelous and ...</td>\n",
       "      <td>Author \\n19 books\\n8 followers</td>\n",
       "      <td>Rating 4 out of 5</td>\n",
       "      <td>None</td>\n",
       "      <td>True</td>\n",
       "    </tr>\n",
       "    <tr>\n",
       "      <th>519</th>\n",
       "      <td>Deborah Markus</td>\n",
       "      <td>The good news is, Hobbes writes beautifully. T...</td>\n",
       "      <td>Author \\n4 books\\n552 followers</td>\n",
       "      <td>Rating 3 out of 5</td>\n",
       "      <td>None</td>\n",
       "      <td>True</td>\n",
       "    </tr>\n",
       "    <tr>\n",
       "      <th>521</th>\n",
       "      <td>Steph</td>\n",
       "      <td>I was trapped in the belly of the Leviathan fo...</td>\n",
       "      <td>Author \\n13 books\\n557 followers</td>\n",
       "      <td>Rating 3 out of 5</td>\n",
       "      <td>None</td>\n",
       "      <td>True</td>\n",
       "    </tr>\n",
       "    <tr>\n",
       "      <th>526</th>\n",
       "      <td>Anu Harchu</td>\n",
       "      <td>I had been appointed to do a presentation on T...</td>\n",
       "      <td>Author \\n12 books\\n620 followers</td>\n",
       "      <td>Rating 5 out of 5</td>\n",
       "      <td>None</td>\n",
       "      <td>True</td>\n",
       "    </tr>\n",
       "    <tr>\n",
       "      <th>532</th>\n",
       "      <td>Charissa</td>\n",
       "      <td>Not only did I disagree with Hobbes' conclusio...</td>\n",
       "      <td>Author \\n2 books\\n101 followers</td>\n",
       "      <td>Rating 1 out of 5</td>\n",
       "      <td>160 likes\\n83 comments</td>\n",
       "      <td>True</td>\n",
       "    </tr>\n",
       "    <tr>\n",
       "      <th>535</th>\n",
       "      <td>Tim Patrick</td>\n",
       "      <td>An important yet unusual book in that it conta...</td>\n",
       "      <td>Author \\n28 books\\n2 followers</td>\n",
       "      <td>Rating 4 out of 5</td>\n",
       "      <td>None</td>\n",
       "      <td>True</td>\n",
       "    </tr>\n",
       "    <tr>\n",
       "      <th>567</th>\n",
       "      <td>Laura Lis Scott</td>\n",
       "      <td>“Life is nasty, brutish, and short.” And we’re...</td>\n",
       "      <td>Author \\n3 books\\n21 followers</td>\n",
       "      <td>Rating 3 out of 5</td>\n",
       "      <td>None</td>\n",
       "      <td>True</td>\n",
       "    </tr>\n",
       "    <tr>\n",
       "      <th>589</th>\n",
       "      <td>Ben Kearvell</td>\n",
       "      <td>How to establish, maintain, and I suppose sanc...</td>\n",
       "      <td>Author \\n1 book\\n8 followers</td>\n",
       "      <td>Rating 3 out of 5</td>\n",
       "      <td>None</td>\n",
       "      <td>True</td>\n",
       "    </tr>\n",
       "    <tr>\n",
       "      <th>595</th>\n",
       "      <td>Peter J.</td>\n",
       "      <td>I don't agree with several of Hobbes' stances,...</td>\n",
       "      <td>Author \\n1 book\\n6 followers</td>\n",
       "      <td>Rating 3 out of 5</td>\n",
       "      <td>None</td>\n",
       "      <td>True</td>\n",
       "    </tr>\n",
       "    <tr>\n",
       "      <th>607</th>\n",
       "      <td>Skylar Burris</td>\n",
       "      <td>I understand this is a political classic, but ...</td>\n",
       "      <td>Author \\n20 books\\n222 followers</td>\n",
       "      <td>Rating 1 out of 5</td>\n",
       "      <td>None</td>\n",
       "      <td>True</td>\n",
       "    </tr>\n",
       "    <tr>\n",
       "      <th>612</th>\n",
       "      <td>Matt</td>\n",
       "      <td>Leviathan is probably the most clear expositio...</td>\n",
       "      <td>Author \\n56 books\\n17 followers</td>\n",
       "      <td>Rating 5 out of 5</td>\n",
       "      <td>None</td>\n",
       "      <td>True</td>\n",
       "    </tr>\n",
       "    <tr>\n",
       "      <th>651</th>\n",
       "      <td>Mike Jackson</td>\n",
       "      <td>This guy really liked to define words. Not an ...</td>\n",
       "      <td>Author \\n6 books\\n24 followers</td>\n",
       "      <td>Rating 2 out of 5</td>\n",
       "      <td>None</td>\n",
       "      <td>True</td>\n",
       "    </tr>\n",
       "    <tr>\n",
       "      <th>653</th>\n",
       "      <td>Edward Rathke</td>\n",
       "      <td>This is indescribably bad philosophy. From fir...</td>\n",
       "      <td>Author \\n10 books\\n123 followers</td>\n",
       "      <td>Rating 1 out of 5</td>\n",
       "      <td>None</td>\n",
       "      <td>True</td>\n",
       "    </tr>\n",
       "    <tr>\n",
       "      <th>661</th>\n",
       "      <td>Carrie</td>\n",
       "      <td>This book was anything but solitary, poor, nas...</td>\n",
       "      <td>Author \\n8 books\\n75 followers</td>\n",
       "      <td>Rating 4 out of 5</td>\n",
       "      <td>None</td>\n",
       "      <td>True</td>\n",
       "    </tr>\n",
       "    <tr>\n",
       "      <th>699</th>\n",
       "      <td>Michael</td>\n",
       "      <td>Slow going, but critical to understanding cons...</td>\n",
       "      <td>Author \\n1 book\\n16 followers</td>\n",
       "      <td>Rating 3 out of 5</td>\n",
       "      <td>None</td>\n",
       "      <td>True</td>\n",
       "    </tr>\n",
       "    <tr>\n",
       "      <th>714</th>\n",
       "      <td>Paul Gosselin</td>\n",
       "      <td>For masochistic readers only...</td>\n",
       "      <td>Author \\n3 books\\n7 followers</td>\n",
       "      <td>Rating 2 out of 5</td>\n",
       "      <td>None</td>\n",
       "      <td>True</td>\n",
       "    </tr>\n",
       "    <tr>\n",
       "      <th>719</th>\n",
       "      <td>A.A. Khan</td>\n",
       "      <td>Easy read, organization of some thoughts could...</td>\n",
       "      <td>Author \\n1 book\\n1 follower</td>\n",
       "      <td>Rating 4 out of 5</td>\n",
       "      <td>None</td>\n",
       "      <td>True</td>\n",
       "    </tr>\n",
       "    <tr>\n",
       "      <th>724</th>\n",
       "      <td>Søren Warland</td>\n",
       "      <td>The legal aspects of the book are quite intere...</td>\n",
       "      <td>Author \\n5 books</td>\n",
       "      <td>Rating 4 out of 5</td>\n",
       "      <td>None</td>\n",
       "      <td>True</td>\n",
       "    </tr>\n",
       "    <tr>\n",
       "      <th>740</th>\n",
       "      <td>Bradley</td>\n",
       "      <td>If you can make the people afraid, you can do ...</td>\n",
       "      <td>Author \\n5 books\\n95 followers</td>\n",
       "      <td>Rating 5 out of 5</td>\n",
       "      <td>None</td>\n",
       "      <td>True</td>\n",
       "    </tr>\n",
       "    <tr>\n",
       "      <th>766</th>\n",
       "      <td>Rebecca Crunden</td>\n",
       "      <td>Ah, Hobbes.</td>\n",
       "      <td>Author \\n14 books\\n345 followers</td>\n",
       "      <td>None</td>\n",
       "      <td>None</td>\n",
       "      <td>True</td>\n",
       "    </tr>\n",
       "  </tbody>\n",
       "</table>\n",
       "</div>"
      ],
      "text/plain": [
       "                         name  \\\n",
       "10                     Mahnam   \n",
       "17            Steven Peterson   \n",
       "22            Λευτέρης Πετρής   \n",
       "34                Mary Slowik   \n",
       "70               Anderson Paz   \n",
       "93           Cristina Sburlea   \n",
       "118             Gordan Karlic   \n",
       "142                Shem Doupé   \n",
       "145         Willy Schuyesmans   \n",
       "159              John Wiswell   \n",
       "176                   Michael   \n",
       "198        Jacques Coulardeau   \n",
       "201          Padmanabha Reddy   \n",
       "204                      Paul   \n",
       "213                 John Lucy   \n",
       "225                      Gina   \n",
       "237          Patrik Sahlstrøm   \n",
       "247                        E.   \n",
       "285              Nicki Markus   \n",
       "305     Asgrimur Hartmannsson   \n",
       "370            Josef Hodgkins   \n",
       "417  Stefán Örvar Sigmundsson   \n",
       "421            Patrick Stuart   \n",
       "504         J. Clayton Rogers   \n",
       "519            Deborah Markus   \n",
       "521                     Steph   \n",
       "526                Anu Harchu   \n",
       "532                  Charissa   \n",
       "535               Tim Patrick   \n",
       "567           Laura Lis Scott   \n",
       "589              Ben Kearvell   \n",
       "595                  Peter J.   \n",
       "607             Skylar Burris   \n",
       "612                      Matt   \n",
       "651              Mike Jackson   \n",
       "653             Edward Rathke   \n",
       "661                    Carrie   \n",
       "699                   Michael   \n",
       "714             Paul Gosselin   \n",
       "719                 A.A. Khan   \n",
       "724             Søren Warland   \n",
       "740                   Bradley   \n",
       "766           Rebecca Crunden   \n",
       "\n",
       "                                                review  \\\n",
       "10   «فراغت مادر فلسفه است و دولت مادر صلح و فراغت....   \n",
       "17   Three essential hallmarks of the Hobbesian sys...   \n",
       "22   \"Οι πράξεις των ανθρώπων πηγάζουν από τις απόψ...   \n",
       "34   Not the best book I've ever chosen to read whi...   \n",
       "70   A obra Leviatã de Hobbes foi publicada em 1651...   \n",
       "93   I first read it in high school and it was the ...   \n",
       "118  It was hard decision give this book rate 5 sta...   \n",
       "142  Kinda difficult to read because of the way and...   \n",
       "145  Boeiende filosofische visie op de mens en op d...   \n",
       "159  Fascism is treated more like a dirty word than...   \n",
       "176  I read (and assigned) this book along with 10 ...   \n",
       "198  I will only consider some chapters in this app...   \n",
       "201  A long book, a lot of lessons, and wisdom abou...   \n",
       "204  Wide-ranging, perceptive, and hard-nosed, this...   \n",
       "213  Understanding the leviathan that is government...   \n",
       "225  One reason I read this is because so many poli...   \n",
       "237  Ugh, reading this was painfull. The text is ex...   \n",
       "247  The first two parts, wherein the essence of th...   \n",
       "285  Leviathan was a fascinating read, not least be...   \n",
       "305  Needs editing.\\n\\nThe first half is tolerable,...   \n",
       "370  Read for Ethics class at Harvard Extension Sch...   \n",
       "417  A few interesting ideas sprinkled into an ocea...   \n",
       "421  I have to admit to myself, I'm just never goin...   \n",
       "504  I surrender. The first half was marvelous and ...   \n",
       "519  The good news is, Hobbes writes beautifully. T...   \n",
       "521  I was trapped in the belly of the Leviathan fo...   \n",
       "526  I had been appointed to do a presentation on T...   \n",
       "532  Not only did I disagree with Hobbes' conclusio...   \n",
       "535  An important yet unusual book in that it conta...   \n",
       "567  “Life is nasty, brutish, and short.” And we’re...   \n",
       "589  How to establish, maintain, and I suppose sanc...   \n",
       "595  I don't agree with several of Hobbes' stances,...   \n",
       "607  I understand this is a political classic, but ...   \n",
       "612  Leviathan is probably the most clear expositio...   \n",
       "651  This guy really liked to define words. Not an ...   \n",
       "653  This is indescribably bad philosophy. From fir...   \n",
       "661  This book was anything but solitary, poor, nas...   \n",
       "699  Slow going, but critical to understanding cons...   \n",
       "714                    For masochistic readers only...   \n",
       "719  Easy read, organization of some thoughts could...   \n",
       "724  The legal aspects of the book are quite intere...   \n",
       "740  If you can make the people afraid, you can do ...   \n",
       "766                                        Ah, Hobbes.   \n",
       "\n",
       "                       reviewer_stats      ratings_given  \\\n",
       "10   Author \\n15 books\\n271 followers  Rating 2 out of 5   \n",
       "17   Author \\n21 books\\n263 followers  Rating 5 out of 5   \n",
       "22      Author \\n1 book\\n31 followers  Rating 4 out of 5   \n",
       "34      Author \\n1 book\\n20 followers  Rating 2 out of 5   \n",
       "70     Author \\n3 books\\n10 followers  Rating 3 out of 5   \n",
       "93     Author \\n8 books\\n61 followers  Rating 5 out of 5   \n",
       "118      Author \\n1 book\\n7 followers  Rating 5 out of 5   \n",
       "142       Author \\n1 book\\n1 follower  Rating 3 out of 5   \n",
       "145   Author \\n21 books\\n46 followers  Rating 4 out of 5   \n",
       "159  Author \\n39 books\\n352 followers  Rating 3 out of 5   \n",
       "176    Author \\n2 books\\n16 followers  Rating 4 out of 5   \n",
       "198   Author \\n24 books\\n28 followers  Rating 5 out of 5   \n",
       "201    Author \\n2 books\\n11 followers  Rating 3 out of 5   \n",
       "204    Author \\n4 books\\n97 followers  Rating 4 out of 5   \n",
       "213    Author \\n3 books\\n22 followers  Rating 3 out of 5   \n",
       "225    Author \\n5 books\\n21 followers  Rating 3 out of 5   \n",
       "237    Author \\n6 books\\n11 followers  Rating 2 out of 5   \n",
       "247     Author \\n1 book\\n17 followers  Rating 2 out of 5   \n",
       "285  Author \\n63 books\\n257 followers  Rating 4 out of 5   \n",
       "305     Author \\n18 books\\n1 follower  Rating 3 out of 5   \n",
       "370      Author \\n1 book\\n5 followers  Rating 5 out of 5   \n",
       "417     Author \\n1 book\\n24 followers  Rating 2 out of 5   \n",
       "421  Author \\n11 books\\n124 followers               None   \n",
       "504    Author \\n19 books\\n8 followers  Rating 4 out of 5   \n",
       "519   Author \\n4 books\\n552 followers  Rating 3 out of 5   \n",
       "521  Author \\n13 books\\n557 followers  Rating 3 out of 5   \n",
       "526  Author \\n12 books\\n620 followers  Rating 5 out of 5   \n",
       "532   Author \\n2 books\\n101 followers  Rating 1 out of 5   \n",
       "535    Author \\n28 books\\n2 followers  Rating 4 out of 5   \n",
       "567    Author \\n3 books\\n21 followers  Rating 3 out of 5   \n",
       "589      Author \\n1 book\\n8 followers  Rating 3 out of 5   \n",
       "595      Author \\n1 book\\n6 followers  Rating 3 out of 5   \n",
       "607  Author \\n20 books\\n222 followers  Rating 1 out of 5   \n",
       "612   Author \\n56 books\\n17 followers  Rating 5 out of 5   \n",
       "651    Author \\n6 books\\n24 followers  Rating 2 out of 5   \n",
       "653  Author \\n10 books\\n123 followers  Rating 1 out of 5   \n",
       "661    Author \\n8 books\\n75 followers  Rating 4 out of 5   \n",
       "699     Author \\n1 book\\n16 followers  Rating 3 out of 5   \n",
       "714     Author \\n3 books\\n7 followers  Rating 2 out of 5   \n",
       "719       Author \\n1 book\\n1 follower  Rating 4 out of 5   \n",
       "724                  Author \\n5 books  Rating 4 out of 5   \n",
       "740    Author \\n5 books\\n95 followers  Rating 5 out of 5   \n",
       "766  Author \\n14 books\\n345 followers               None   \n",
       "\n",
       "                review_like  author  \n",
       "10                 20 likes    True  \n",
       "17                 11 likes    True  \n",
       "22     10 likes\\n2 comments    True  \n",
       "34                  6 likes    True  \n",
       "70                  2 likes    True  \n",
       "93                  2 likes    True  \n",
       "118                  1 like    True  \n",
       "142                  1 like    True  \n",
       "145                  1 like    True  \n",
       "159       1 like\\n1 comment    True  \n",
       "176                  1 like    True  \n",
       "198                  1 like    True  \n",
       "201                    None    True  \n",
       "204                    None    True  \n",
       "213                    None    True  \n",
       "225                    None    True  \n",
       "237                    None    True  \n",
       "247               1 comment    True  \n",
       "285                    None    True  \n",
       "305                    None    True  \n",
       "370                    None    True  \n",
       "417                    None    True  \n",
       "421                    None    True  \n",
       "504                    None    True  \n",
       "519                    None    True  \n",
       "521                    None    True  \n",
       "526                    None    True  \n",
       "532  160 likes\\n83 comments    True  \n",
       "535                    None    True  \n",
       "567                    None    True  \n",
       "589                    None    True  \n",
       "595                    None    True  \n",
       "607                    None    True  \n",
       "612                    None    True  \n",
       "651                    None    True  \n",
       "653                    None    True  \n",
       "661                    None    True  \n",
       "699                    None    True  \n",
       "714                    None    True  \n",
       "719                    None    True  \n",
       "724                    None    True  \n",
       "740                    None    True  \n",
       "766                    None    True  "
      ]
     },
     "execution_count": 4,
     "metadata": {},
     "output_type": "execute_result"
    }
   ],
   "source": [
    "df_author=df[df['reviewer_stats'].str.startswith('Author')==True]\n",
    "df_author"
   ]
  },
  {
   "cell_type": "markdown",
   "metadata": {},
   "source": [
    "# Processing author column data type"
   ]
  },
  {
   "cell_type": "code",
   "execution_count": 7,
   "metadata": {},
   "outputs": [
    {
     "data": {
      "text/plain": [
       "10     Author \\n15 books\\n271 followers\n",
       "17     Author \\n21 books\\n263 followers\n",
       "22        Author \\n1 book\\n31 followers\n",
       "34        Author \\n1 book\\n20 followers\n",
       "70       Author \\n3 books\\n10 followers\n",
       "93       Author \\n8 books\\n61 followers\n",
       "118        Author \\n1 book\\n7 followers\n",
       "142         Author \\n1 book\\n1 follower\n",
       "145     Author \\n21 books\\n46 followers\n",
       "159    Author \\n39 books\\n352 followers\n",
       "176      Author \\n2 books\\n16 followers\n",
       "198     Author \\n24 books\\n28 followers\n",
       "201      Author \\n2 books\\n11 followers\n",
       "204      Author \\n4 books\\n97 followers\n",
       "213      Author \\n3 books\\n22 followers\n",
       "225      Author \\n5 books\\n21 followers\n",
       "237      Author \\n6 books\\n11 followers\n",
       "247       Author \\n1 book\\n17 followers\n",
       "285    Author \\n63 books\\n257 followers\n",
       "305       Author \\n18 books\\n1 follower\n",
       "370        Author \\n1 book\\n5 followers\n",
       "417       Author \\n1 book\\n24 followers\n",
       "421    Author \\n11 books\\n124 followers\n",
       "504      Author \\n19 books\\n8 followers\n",
       "519     Author \\n4 books\\n552 followers\n",
       "521    Author \\n13 books\\n557 followers\n",
       "526    Author \\n12 books\\n620 followers\n",
       "532     Author \\n2 books\\n101 followers\n",
       "535      Author \\n28 books\\n2 followers\n",
       "567      Author \\n3 books\\n21 followers\n",
       "589        Author \\n1 book\\n8 followers\n",
       "595        Author \\n1 book\\n6 followers\n",
       "607    Author \\n20 books\\n222 followers\n",
       "612     Author \\n56 books\\n17 followers\n",
       "651      Author \\n6 books\\n24 followers\n",
       "653    Author \\n10 books\\n123 followers\n",
       "661      Author \\n8 books\\n75 followers\n",
       "699       Author \\n1 book\\n16 followers\n",
       "714       Author \\n3 books\\n7 followers\n",
       "719         Author \\n1 book\\n1 follower\n",
       "724                    Author \\n5 books\n",
       "740      Author \\n5 books\\n95 followers\n",
       "766    Author \\n14 books\\n345 followers\n",
       "Name: reviewer_stats, dtype: object"
      ]
     },
     "execution_count": 7,
     "metadata": {},
     "output_type": "execute_result"
    }
   ],
   "source": [
    "df_author['reviewer_stats']"
   ]
  },
  {
   "cell_type": "markdown",
   "metadata": {},
   "source": [
    "#### get amount of books written "
   ]
  },
  {
   "cell_type": "code",
   "execution_count": null,
   "metadata": {},
   "outputs": [
    {
     "data": {
      "text/plain": [
       "10      \\n15 books\\n271 followers\n",
       "17      \\n21 books\\n263 followers\n",
       "22         \\n1 book\\n31 followers\n",
       "34         \\n1 book\\n20 followers\n",
       "70        \\n3 books\\n10 followers\n",
       "93        \\n8 books\\n61 followers\n",
       "118         \\n1 book\\n7 followers\n",
       "142          \\n1 book\\n1 follower\n",
       "145      \\n21 books\\n46 followers\n",
       "159     \\n39 books\\n352 followers\n",
       "176       \\n2 books\\n16 followers\n",
       "198      \\n24 books\\n28 followers\n",
       "201       \\n2 books\\n11 followers\n",
       "204       \\n4 books\\n97 followers\n",
       "213       \\n3 books\\n22 followers\n",
       "225       \\n5 books\\n21 followers\n",
       "237       \\n6 books\\n11 followers\n",
       "247        \\n1 book\\n17 followers\n",
       "285     \\n63 books\\n257 followers\n",
       "305        \\n18 books\\n1 follower\n",
       "370         \\n1 book\\n5 followers\n",
       "417        \\n1 book\\n24 followers\n",
       "421     \\n11 books\\n124 followers\n",
       "504       \\n19 books\\n8 followers\n",
       "519      \\n4 books\\n552 followers\n",
       "521     \\n13 books\\n557 followers\n",
       "526     \\n12 books\\n620 followers\n",
       "532      \\n2 books\\n101 followers\n",
       "535       \\n28 books\\n2 followers\n",
       "567       \\n3 books\\n21 followers\n",
       "589         \\n1 book\\n8 followers\n",
       "595         \\n1 book\\n6 followers\n",
       "607     \\n20 books\\n222 followers\n",
       "612      \\n56 books\\n17 followers\n",
       "651       \\n6 books\\n24 followers\n",
       "653     \\n10 books\\n123 followers\n",
       "661       \\n8 books\\n75 followers\n",
       "699        \\n1 book\\n16 followers\n",
       "714        \\n3 books\\n7 followers\n",
       "719          \\n1 book\\n1 follower\n",
       "724                     \\n5 books\n",
       "740       \\n5 books\\n95 followers\n",
       "766     \\n14 books\\n345 followers\n",
       "Name: reviewer_stats, dtype: object"
      ]
     },
     "execution_count": 161,
     "metadata": {},
     "output_type": "execute_result"
    }
   ],
   "source": [
    "df_author['reviewer_stats'].str.split(pat='Author').str[1]"
   ]
  },
  {
   "cell_type": "markdown",
   "metadata": {},
   "source": [
    "#### amount of books they have written?"
   ]
  },
  {
   "cell_type": "code",
   "execution_count": 163,
   "metadata": {},
   "outputs": [
    {
     "data": {
      "text/plain": [
       "10      \\n15 \n",
       "17      \\n21 \n",
       "22       \\n1 \n",
       "34       \\n1 \n",
       "70       \\n3 \n",
       "93       \\n8 \n",
       "118      \\n1 \n",
       "142      \\n1 \n",
       "145     \\n21 \n",
       "159     \\n39 \n",
       "176      \\n2 \n",
       "198     \\n24 \n",
       "201      \\n2 \n",
       "204      \\n4 \n",
       "213      \\n3 \n",
       "225      \\n5 \n",
       "237      \\n6 \n",
       "247      \\n1 \n",
       "285     \\n63 \n",
       "305     \\n18 \n",
       "370      \\n1 \n",
       "417      \\n1 \n",
       "421     \\n11 \n",
       "504     \\n19 \n",
       "519      \\n4 \n",
       "521     \\n13 \n",
       "526     \\n12 \n",
       "532      \\n2 \n",
       "535     \\n28 \n",
       "567      \\n3 \n",
       "589      \\n1 \n",
       "595      \\n1 \n",
       "607     \\n20 \n",
       "612     \\n56 \n",
       "651      \\n6 \n",
       "653     \\n10 \n",
       "661      \\n8 \n",
       "699      \\n1 \n",
       "714      \\n3 \n",
       "719      \\n1 \n",
       "724      \\n5 \n",
       "740      \\n5 \n",
       "766     \\n14 \n",
       "Name: reviewer_stats, dtype: object"
      ]
     },
     "execution_count": 163,
     "metadata": {},
     "output_type": "execute_result"
    }
   ],
   "source": [
    "df_author['reviewer_stats'].str.split(pat='Author').str[1].str.split('book').str[0]"
   ]
  },
  {
   "cell_type": "markdown",
   "metadata": {},
   "source": [
    "#### get amount of followers"
   ]
  },
  {
   "cell_type": "code",
   "execution_count": 58,
   "metadata": {},
   "outputs": [
    {
     "data": {
      "text/plain": [
       "10     271\n",
       "17     263\n",
       "22     NaN\n",
       "34     NaN\n",
       "70      10\n",
       "93      61\n",
       "118    NaN\n",
       "142    NaN\n",
       "145     46\n",
       "159    352\n",
       "176     16\n",
       "198     28\n",
       "201     11\n",
       "204     97\n",
       "213     22\n",
       "225     21\n",
       "237     11\n",
       "247    NaN\n",
       "285    257\n",
       "305      1\n",
       "370    NaN\n",
       "417    NaN\n",
       "421    124\n",
       "504      8\n",
       "519    552\n",
       "521    557\n",
       "526    620\n",
       "532    101\n",
       "535      2\n",
       "567     21\n",
       "589    NaN\n",
       "595    NaN\n",
       "607    222\n",
       "612     17\n",
       "651     24\n",
       "653    123\n",
       "661     75\n",
       "699    NaN\n",
       "714      7\n",
       "719    NaN\n",
       "724    NaN\n",
       "740     95\n",
       "766    345\n",
       "Name: reviewer_stats, dtype: object"
      ]
     },
     "execution_count": 58,
     "metadata": {},
     "output_type": "execute_result"
    }
   ],
   "source": [
    "df_author['reviewer_stats'].str.split(pat='Author').str[1].str.split('books').str[1].str.split().str[0]"
   ]
  },
  {
   "cell_type": "code",
   "execution_count": 18,
   "metadata": {},
   "outputs": [
    {
     "data": {
      "text/plain": [
       "0      False\n",
       "1      False\n",
       "2      False\n",
       "3      False\n",
       "4      False\n",
       "       ...  \n",
       "763    False\n",
       "764    False\n",
       "765    False\n",
       "766     True\n",
       "767    False\n",
       "Name: reviewer_stats, Length: 768, dtype: bool"
      ]
     },
     "execution_count": 18,
     "metadata": {},
     "output_type": "execute_result"
    }
   ],
   "source": [
    "df['reviewer_stats'].apply(lambda author:True if author.startswith('Author') else False)"
   ]
  },
  {
   "cell_type": "code",
   "execution_count": 8,
   "metadata": {},
   "outputs": [],
   "source": [
    "def get_num_author_books(author):\n",
    "    num_author_books=author.split('Author')[1].split('book')[0]\n",
    "    return num_author_books"
   ]
  },
  {
   "cell_type": "code",
   "execution_count": 9,
   "metadata": {},
   "outputs": [],
   "source": [
    "df['num_author_books']=df['reviewer_stats'].apply(lambda author: get_num_author_books(author) if author.lower().startswith('author') else None)"
   ]
  },
  {
   "cell_type": "code",
   "execution_count": 10,
   "metadata": {},
   "outputs": [],
   "source": [
    "def get_num_author_followers(author):\n",
    "    author=author.replace('followers','follower')\n",
    "    \n",
    "    if 'books' in author:\n",
    "        num_author_followers=author.split('books')[-1].replace('follower','')\n",
    "    elif 'book':\n",
    "        num_author_followers=author.split('book')[-1].replace('follower','')\n",
    "\n",
    "   \n",
    "    return num_author_followers"
   ]
  },
  {
   "cell_type": "code",
   "execution_count": 11,
   "metadata": {},
   "outputs": [],
   "source": [
    "df['num_author_followers']=df['reviewer_stats'].apply(lambda author:get_num_author_followers(author) if author.lower().startswith('author') else None)"
   ]
  },
  {
   "cell_type": "markdown",
   "metadata": {},
   "source": [
    "### Preprocessing non author stats"
   ]
  },
  {
   "cell_type": "code",
   "execution_count": 5,
   "metadata": {},
   "outputs": [],
   "source": [
    "def get_num_reviewer_reviews(reviewer):\n",
    "    reviews=reviewer.lower()\n",
    "    reviews=reviewer.replace('reviews','review')\n",
    "    \n",
    "    \n",
    "    reviews=reviewer.split()[0]\n",
    "    \n",
    "    \n",
    "    return reviews\n",
    "    "
   ]
  },
  {
   "cell_type": "code",
   "execution_count": 6,
   "metadata": {},
   "outputs": [],
   "source": [
    "def get_num_reviewer_followers(reviewer):\n",
    "    \n",
    "    if 'follower' in reviewer:\n",
    "        followers=reviewer.split()[-2]\n",
    "    elif 'followers' in reviewer:\n",
    "        followers=reviewer.split()[-2]\n",
    "    else:\n",
    "        followers=None\n",
    " \n",
    "    return followers\n",
    "    "
   ]
  },
  {
   "cell_type": "code",
   "execution_count": 7,
   "metadata": {},
   "outputs": [],
   "source": [
    "df['reviewer_reviews']=df['reviewer_stats'].apply(lambda reviewer:get_num_reviewer_reviews(reviewer) if not(reviewer.lower().startswith('author')) else None)"
   ]
  },
  {
   "cell_type": "code",
   "execution_count": 8,
   "metadata": {},
   "outputs": [],
   "source": [
    "df['reviewer_followers']=df['reviewer_stats'].apply(lambda reviewer:get_num_reviewer_followers(reviewer) if not(reviewer.lower().startswith('author')) else None)"
   ]
  },
  {
   "cell_type": "code",
   "execution_count": 9,
   "metadata": {},
   "outputs": [
    {
     "data": {
      "text/html": [
       "<div>\n",
       "<style scoped>\n",
       "    .dataframe tbody tr th:only-of-type {\n",
       "        vertical-align: middle;\n",
       "    }\n",
       "\n",
       "    .dataframe tbody tr th {\n",
       "        vertical-align: top;\n",
       "    }\n",
       "\n",
       "    .dataframe thead th {\n",
       "        text-align: right;\n",
       "    }\n",
       "</style>\n",
       "<table border=\"1\" class=\"dataframe\">\n",
       "  <thead>\n",
       "    <tr style=\"text-align: right;\">\n",
       "      <th></th>\n",
       "      <th>reviewer_followers</th>\n",
       "      <th>reviewer_stats</th>\n",
       "    </tr>\n",
       "  </thead>\n",
       "  <tbody>\n",
       "    <tr>\n",
       "      <th>0</th>\n",
       "      <td>56k</td>\n",
       "      <td>9,569 reviews\\n56k followers</td>\n",
       "    </tr>\n",
       "    <tr>\n",
       "      <th>1</th>\n",
       "      <td>115</td>\n",
       "      <td>197 reviews\\n115 followers</td>\n",
       "    </tr>\n",
       "    <tr>\n",
       "      <th>2</th>\n",
       "      <td>1</td>\n",
       "      <td>2,412 reviews\\n1 follower</td>\n",
       "    </tr>\n",
       "    <tr>\n",
       "      <th>3</th>\n",
       "      <td>662</td>\n",
       "      <td>1,101 reviews\\n662 followers</td>\n",
       "    </tr>\n",
       "    <tr>\n",
       "      <th>4</th>\n",
       "      <td>156</td>\n",
       "      <td>155 reviews\\n156 followers</td>\n",
       "    </tr>\n",
       "    <tr>\n",
       "      <th>5</th>\n",
       "      <td>295</td>\n",
       "      <td>1,756 reviews\\n295 followers</td>\n",
       "    </tr>\n",
       "    <tr>\n",
       "      <th>6</th>\n",
       "      <td>124</td>\n",
       "      <td>393 reviews\\n124 followers</td>\n",
       "    </tr>\n",
       "    <tr>\n",
       "      <th>7</th>\n",
       "      <td>49</td>\n",
       "      <td>140 reviews\\n49 followers</td>\n",
       "    </tr>\n",
       "    <tr>\n",
       "      <th>8</th>\n",
       "      <td>542</td>\n",
       "      <td>132 reviews\\n542 followers</td>\n",
       "    </tr>\n",
       "    <tr>\n",
       "      <th>9</th>\n",
       "      <td>2</td>\n",
       "      <td>70 reviews\\n2 followers</td>\n",
       "    </tr>\n",
       "    <tr>\n",
       "      <th>10</th>\n",
       "      <td>None</td>\n",
       "      <td>Author \\n15 books\\n271 followers</td>\n",
       "    </tr>\n",
       "    <tr>\n",
       "      <th>11</th>\n",
       "      <td>5</td>\n",
       "      <td>288 reviews\\n5 followers</td>\n",
       "    </tr>\n",
       "    <tr>\n",
       "      <th>12</th>\n",
       "      <td>81</td>\n",
       "      <td>46 reviews\\n81 followers</td>\n",
       "    </tr>\n",
       "    <tr>\n",
       "      <th>13</th>\n",
       "      <td>196</td>\n",
       "      <td>394 reviews\\n196 followers</td>\n",
       "    </tr>\n",
       "    <tr>\n",
       "      <th>14</th>\n",
       "      <td>None</td>\n",
       "      <td>2,659 reviews</td>\n",
       "    </tr>\n",
       "    <tr>\n",
       "      <th>15</th>\n",
       "      <td>184</td>\n",
       "      <td>659 reviews\\n184 followers</td>\n",
       "    </tr>\n",
       "    <tr>\n",
       "      <th>16</th>\n",
       "      <td>6</td>\n",
       "      <td>48 reviews\\n6 followers</td>\n",
       "    </tr>\n",
       "    <tr>\n",
       "      <th>17</th>\n",
       "      <td>None</td>\n",
       "      <td>Author \\n21 books\\n263 followers</td>\n",
       "    </tr>\n",
       "    <tr>\n",
       "      <th>18</th>\n",
       "      <td>136</td>\n",
       "      <td>386 reviews\\n136 followers</td>\n",
       "    </tr>\n",
       "    <tr>\n",
       "      <th>19</th>\n",
       "      <td>28</td>\n",
       "      <td>491 reviews\\n28 followers</td>\n",
       "    </tr>\n",
       "    <tr>\n",
       "      <th>20</th>\n",
       "      <td>325</td>\n",
       "      <td>1,405 reviews\\n325 followers</td>\n",
       "    </tr>\n",
       "    <tr>\n",
       "      <th>21</th>\n",
       "      <td>414</td>\n",
       "      <td>730 reviews\\n414 followers</td>\n",
       "    </tr>\n",
       "    <tr>\n",
       "      <th>22</th>\n",
       "      <td>None</td>\n",
       "      <td>Author \\n1 book\\n31 followers</td>\n",
       "    </tr>\n",
       "    <tr>\n",
       "      <th>23</th>\n",
       "      <td>317</td>\n",
       "      <td>2,332 reviews\\n317 followers</td>\n",
       "    </tr>\n",
       "    <tr>\n",
       "      <th>24</th>\n",
       "      <td>521</td>\n",
       "      <td>919 reviews\\n521 followers</td>\n",
       "    </tr>\n",
       "    <tr>\n",
       "      <th>25</th>\n",
       "      <td>16</td>\n",
       "      <td>26 reviews\\n16 followers</td>\n",
       "    </tr>\n",
       "    <tr>\n",
       "      <th>26</th>\n",
       "      <td>6</td>\n",
       "      <td>46 reviews\\n6 followers</td>\n",
       "    </tr>\n",
       "    <tr>\n",
       "      <th>27</th>\n",
       "      <td>365</td>\n",
       "      <td>2,481 reviews\\n365 followers</td>\n",
       "    </tr>\n",
       "    <tr>\n",
       "      <th>28</th>\n",
       "      <td>10.6k</td>\n",
       "      <td>1,517 reviews\\n10.6k followers</td>\n",
       "    </tr>\n",
       "    <tr>\n",
       "      <th>29</th>\n",
       "      <td>57</td>\n",
       "      <td>107 reviews\\n57 followers</td>\n",
       "    </tr>\n",
       "  </tbody>\n",
       "</table>\n",
       "</div>"
      ],
      "text/plain": [
       "   reviewer_followers                    reviewer_stats\n",
       "0                 56k      9,569 reviews\\n56k followers\n",
       "1                 115        197 reviews\\n115 followers\n",
       "2                   1         2,412 reviews\\n1 follower\n",
       "3                 662      1,101 reviews\\n662 followers\n",
       "4                 156        155 reviews\\n156 followers\n",
       "5                 295      1,756 reviews\\n295 followers\n",
       "6                 124        393 reviews\\n124 followers\n",
       "7                  49         140 reviews\\n49 followers\n",
       "8                 542        132 reviews\\n542 followers\n",
       "9                   2           70 reviews\\n2 followers\n",
       "10               None  Author \\n15 books\\n271 followers\n",
       "11                  5          288 reviews\\n5 followers\n",
       "12                 81          46 reviews\\n81 followers\n",
       "13                196        394 reviews\\n196 followers\n",
       "14               None                     2,659 reviews\n",
       "15                184        659 reviews\\n184 followers\n",
       "16                  6           48 reviews\\n6 followers\n",
       "17               None  Author \\n21 books\\n263 followers\n",
       "18                136        386 reviews\\n136 followers\n",
       "19                 28         491 reviews\\n28 followers\n",
       "20                325      1,405 reviews\\n325 followers\n",
       "21                414        730 reviews\\n414 followers\n",
       "22               None     Author \\n1 book\\n31 followers\n",
       "23                317      2,332 reviews\\n317 followers\n",
       "24                521        919 reviews\\n521 followers\n",
       "25                 16          26 reviews\\n16 followers\n",
       "26                  6           46 reviews\\n6 followers\n",
       "27                365      2,481 reviews\\n365 followers\n",
       "28              10.6k    1,517 reviews\\n10.6k followers\n",
       "29                 57         107 reviews\\n57 followers"
      ]
     },
     "execution_count": 9,
     "metadata": {},
     "output_type": "execute_result"
    }
   ],
   "source": [
    "df[['reviewer_followers','reviewer_stats']].head(30)"
   ]
  },
  {
   "cell_type": "markdown",
   "metadata": {},
   "source": [
    "#### Multiple reviewer with thousands of followers\n"
   ]
  },
  {
   "cell_type": "code",
   "execution_count": 30,
   "metadata": {},
   "outputs": [],
   "source": [
    "def multiply_followers(follower):\n",
    "    \n",
    "\n",
    "    if follower is None:\n",
    "        pass\n",
    "    elif 'k' in follower:\n",
    "        follower=float(follower.strip('k'))\n",
    "        follower=follower*1000\n",
    "    else:\n",
    "        follower=follower\n",
    "    return follower"
   ]
  },
  {
   "cell_type": "code",
   "execution_count": 33,
   "metadata": {},
   "outputs": [],
   "source": [
    "df['reviewer_followers']=df['reviewer_followers'].apply(lambda follower:multiply_followers(follower))"
   ]
  },
  {
   "cell_type": "code",
   "execution_count": null,
   "metadata": {},
   "outputs": [],
   "source": []
  },
  {
   "cell_type": "markdown",
   "metadata": {},
   "source": [
    "# Cannot seem to save csv with the newly derived columns?"
   ]
  },
  {
   "cell_type": "code",
   "execution_count": 14,
   "metadata": {},
   "outputs": [
    {
     "data": {
      "text/html": [
       "<div>\n",
       "<style scoped>\n",
       "    .dataframe tbody tr th:only-of-type {\n",
       "        vertical-align: middle;\n",
       "    }\n",
       "\n",
       "    .dataframe tbody tr th {\n",
       "        vertical-align: top;\n",
       "    }\n",
       "\n",
       "    .dataframe thead th {\n",
       "        text-align: right;\n",
       "    }\n",
       "</style>\n",
       "<table border=\"1\" class=\"dataframe\">\n",
       "  <thead>\n",
       "    <tr style=\"text-align: right;\">\n",
       "      <th></th>\n",
       "      <th>name</th>\n",
       "      <th>review</th>\n",
       "      <th>reviewer_stats</th>\n",
       "      <th>ratings_given</th>\n",
       "      <th>review_like</th>\n",
       "      <th>author</th>\n",
       "      <th>num_author_books</th>\n",
       "      <th>num_author_followers</th>\n",
       "      <th>reviewer_reviews</th>\n",
       "      <th>reviewer_followers</th>\n",
       "    </tr>\n",
       "  </thead>\n",
       "  <tbody>\n",
       "    <tr>\n",
       "      <th>0</th>\n",
       "      <td>Ahmad Sharabiani</td>\n",
       "      <td>Leviathan, or The Matter, Forme and Power of a...</td>\n",
       "      <td>9,569 reviews\\n56k followers</td>\n",
       "      <td>Rating 4 out of 5</td>\n",
       "      <td>165 likes</td>\n",
       "      <td>False</td>\n",
       "      <td>None</td>\n",
       "      <td>None</td>\n",
       "      <td>9,569</td>\n",
       "      <td>56k</td>\n",
       "    </tr>\n",
       "    <tr>\n",
       "      <th>1</th>\n",
       "      <td>Yasiru</td>\n",
       "      <td>Since some reviewers here seem to rate this wo...</td>\n",
       "      <td>197 reviews\\n115 followers</td>\n",
       "      <td>Rating 5 out of 5</td>\n",
       "      <td>138 likes\\n4 comments</td>\n",
       "      <td>False</td>\n",
       "      <td>None</td>\n",
       "      <td>None</td>\n",
       "      <td>197</td>\n",
       "      <td>115</td>\n",
       "    </tr>\n",
       "    <tr>\n",
       "      <th>2</th>\n",
       "      <td>Czarny Pies</td>\n",
       "      <td>Both the conclusions and methodology of \"Levia...</td>\n",
       "      <td>2,412 reviews\\n1 follower</td>\n",
       "      <td>Rating 5 out of 5</td>\n",
       "      <td>50 likes\\n4 comments</td>\n",
       "      <td>False</td>\n",
       "      <td>None</td>\n",
       "      <td>None</td>\n",
       "      <td>2,412</td>\n",
       "      <td>1</td>\n",
       "    </tr>\n",
       "    <tr>\n",
       "      <th>3</th>\n",
       "      <td>E. G.</td>\n",
       "      <td>Preface\\nA Scheme of Reference\\nIntroduction\\n...</td>\n",
       "      <td>1,101 reviews\\n662 followers</td>\n",
       "      <td>Rating 4 out of 5</td>\n",
       "      <td>41 likes\\n2 comments</td>\n",
       "      <td>False</td>\n",
       "      <td>None</td>\n",
       "      <td>None</td>\n",
       "      <td>1,101</td>\n",
       "      <td>662</td>\n",
       "    </tr>\n",
       "    <tr>\n",
       "      <th>4</th>\n",
       "      <td>امیر لطیفی</td>\n",
       "      <td>هدفِ اصلی کتاب پاسخ به این پرسش است: چرا به دو...</td>\n",
       "      <td>155 reviews\\n156 followers</td>\n",
       "      <td>Rating 3 out of 5</td>\n",
       "      <td>31 likes</td>\n",
       "      <td>False</td>\n",
       "      <td>None</td>\n",
       "      <td>None</td>\n",
       "      <td>155</td>\n",
       "      <td>156</td>\n",
       "    </tr>\n",
       "    <tr>\n",
       "      <th>...</th>\n",
       "      <td>...</td>\n",
       "      <td>...</td>\n",
       "      <td>...</td>\n",
       "      <td>...</td>\n",
       "      <td>...</td>\n",
       "      <td>...</td>\n",
       "      <td>...</td>\n",
       "      <td>...</td>\n",
       "      <td>...</td>\n",
       "      <td>...</td>\n",
       "    </tr>\n",
       "    <tr>\n",
       "      <th>763</th>\n",
       "      <td>AbsurdThoughts</td>\n",
       "      <td>only the first third</td>\n",
       "      <td>2 reviews</td>\n",
       "      <td>None</td>\n",
       "      <td>None</td>\n",
       "      <td>False</td>\n",
       "      <td>None</td>\n",
       "      <td>None</td>\n",
       "      <td>2</td>\n",
       "      <td>None</td>\n",
       "    </tr>\n",
       "    <tr>\n",
       "      <th>764</th>\n",
       "      <td>Ollie</td>\n",
       "      <td>wasn't hobbes a knob</td>\n",
       "      <td>95 reviews\\n1 follower</td>\n",
       "      <td>None</td>\n",
       "      <td>None</td>\n",
       "      <td>False</td>\n",
       "      <td>None</td>\n",
       "      <td>None</td>\n",
       "      <td>95</td>\n",
       "      <td>1</td>\n",
       "    </tr>\n",
       "    <tr>\n",
       "      <th>765</th>\n",
       "      <td>Malica</td>\n",
       "      <td>Very interesting and thought provoking at time...</td>\n",
       "      <td>151 reviews\\n2 followers</td>\n",
       "      <td>Rating 3 out of 5</td>\n",
       "      <td>None</td>\n",
       "      <td>False</td>\n",
       "      <td>None</td>\n",
       "      <td>None</td>\n",
       "      <td>151</td>\n",
       "      <td>2</td>\n",
       "    </tr>\n",
       "    <tr>\n",
       "      <th>766</th>\n",
       "      <td>Rebecca Crunden</td>\n",
       "      <td>Ah, Hobbes.</td>\n",
       "      <td>Author \\n14 books\\n345 followers</td>\n",
       "      <td>None</td>\n",
       "      <td>None</td>\n",
       "      <td>True</td>\n",
       "      <td>\\n14</td>\n",
       "      <td>\\n345</td>\n",
       "      <td>None</td>\n",
       "      <td>None</td>\n",
       "    </tr>\n",
       "    <tr>\n",
       "      <th>767</th>\n",
       "      <td>Kakada Yeun</td>\n",
       "      <td>I WAN TO KNOW HOW IT WORK?</td>\n",
       "      <td>1 review</td>\n",
       "      <td>None</td>\n",
       "      <td>None</td>\n",
       "      <td>False</td>\n",
       "      <td>None</td>\n",
       "      <td>None</td>\n",
       "      <td>1</td>\n",
       "      <td>None</td>\n",
       "    </tr>\n",
       "  </tbody>\n",
       "</table>\n",
       "<p>768 rows × 10 columns</p>\n",
       "</div>"
      ],
      "text/plain": [
       "                 name                                             review  \\\n",
       "0    Ahmad Sharabiani  Leviathan, or The Matter, Forme and Power of a...   \n",
       "1              Yasiru  Since some reviewers here seem to rate this wo...   \n",
       "2         Czarny Pies  Both the conclusions and methodology of \"Levia...   \n",
       "3               E. G.  Preface\\nA Scheme of Reference\\nIntroduction\\n...   \n",
       "4          امیر لطیفی  هدفِ اصلی کتاب پاسخ به این پرسش است: چرا به دو...   \n",
       "..                ...                                                ...   \n",
       "763    AbsurdThoughts                               only the first third   \n",
       "764             Ollie                               wasn't hobbes a knob   \n",
       "765            Malica  Very interesting and thought provoking at time...   \n",
       "766   Rebecca Crunden                                        Ah, Hobbes.   \n",
       "767       Kakada Yeun                         I WAN TO KNOW HOW IT WORK?   \n",
       "\n",
       "                       reviewer_stats      ratings_given  \\\n",
       "0        9,569 reviews\\n56k followers  Rating 4 out of 5   \n",
       "1          197 reviews\\n115 followers  Rating 5 out of 5   \n",
       "2           2,412 reviews\\n1 follower  Rating 5 out of 5   \n",
       "3        1,101 reviews\\n662 followers  Rating 4 out of 5   \n",
       "4          155 reviews\\n156 followers  Rating 3 out of 5   \n",
       "..                                ...                ...   \n",
       "763                         2 reviews               None   \n",
       "764            95 reviews\\n1 follower               None   \n",
       "765          151 reviews\\n2 followers  Rating 3 out of 5   \n",
       "766  Author \\n14 books\\n345 followers               None   \n",
       "767                          1 review               None   \n",
       "\n",
       "               review_like  author num_author_books num_author_followers  \\\n",
       "0                165 likes   False             None                 None   \n",
       "1    138 likes\\n4 comments   False             None                 None   \n",
       "2     50 likes\\n4 comments   False             None                 None   \n",
       "3     41 likes\\n2 comments   False             None                 None   \n",
       "4                 31 likes   False             None                 None   \n",
       "..                     ...     ...              ...                  ...   \n",
       "763                   None   False             None                 None   \n",
       "764                   None   False             None                 None   \n",
       "765                   None   False             None                 None   \n",
       "766                   None    True            \\n14                \\n345    \n",
       "767                   None   False             None                 None   \n",
       "\n",
       "    reviewer_reviews reviewer_followers  \n",
       "0              9,569                56k  \n",
       "1                197                115  \n",
       "2              2,412                  1  \n",
       "3              1,101                662  \n",
       "4                155                156  \n",
       "..               ...                ...  \n",
       "763                2               None  \n",
       "764               95                  1  \n",
       "765              151                  2  \n",
       "766             None               None  \n",
       "767                1               None  \n",
       "\n",
       "[768 rows x 10 columns]"
      ]
     },
     "execution_count": 14,
     "metadata": {},
     "output_type": "execute_result"
    }
   ],
   "source": [
    "df"
   ]
  },
  {
   "cell_type": "markdown",
   "metadata": {},
   "source": [
    "# Preprocessing ratings column"
   ]
  },
  {
   "cell_type": "code",
   "execution_count": 42,
   "metadata": {},
   "outputs": [
    {
     "data": {
      "text/plain": [
       "0      [Rating, 4, out of 5]\n",
       "1      [Rating, 5, out of 5]\n",
       "2      [Rating, 5, out of 5]\n",
       "3      [Rating, 4, out of 5]\n",
       "4      [Rating, 3, out of 5]\n",
       "               ...          \n",
       "763                   [None]\n",
       "764                   [None]\n",
       "765    [Rating, 3, out of 5]\n",
       "766                   [None]\n",
       "767                   [None]\n",
       "Name: ratings_given, Length: 768, dtype: object"
      ]
     },
     "execution_count": 42,
     "metadata": {},
     "output_type": "execute_result"
    }
   ],
   "source": [
    "df['ratings_given'].str.split(n=2)"
   ]
  },
  {
   "cell_type": "code",
   "execution_count": 17,
   "metadata": {},
   "outputs": [],
   "source": [
    "def get_ratings(rating):\n",
    "    rating=rating.split()[1]\n",
    "    return rating"
   ]
  },
  {
   "cell_type": "code",
   "execution_count": 19,
   "metadata": {},
   "outputs": [
    {
     "data": {
      "text/plain": [
       "0         4\n",
       "1         5\n",
       "2         5\n",
       "3         4\n",
       "4         3\n",
       "       ... \n",
       "763    None\n",
       "764    None\n",
       "765       3\n",
       "766    None\n",
       "767    None\n",
       "Name: ratings_given, Length: 768, dtype: object"
      ]
     },
     "execution_count": 19,
     "metadata": {},
     "output_type": "execute_result"
    }
   ],
   "source": [
    "df['ratings_given'].apply(lambda rating:get_ratings(rating) if rating.lower().startswith('rating') else None)"
   ]
  },
  {
   "cell_type": "code",
   "execution_count": 54,
   "metadata": {},
   "outputs": [],
   "source": [
    "df['ratings_given_out_of_5']=df['ratings_given'].apply(lambda rating:get_ratings(rating) if rating.lower().startswith('rating') else None)"
   ]
  },
  {
   "cell_type": "markdown",
   "metadata": {},
   "source": [
    "# Preprocessing review comment likes/comments"
   ]
  },
  {
   "cell_type": "markdown",
   "metadata": {},
   "source": [
    "- Cannot get comments from those who only has comments\n",
    "- and somehow it will process also likes as comments"
   ]
  },
  {
   "cell_type": "code",
   "execution_count": 61,
   "metadata": {},
   "outputs": [],
   "source": [
    "def get_review_likes(review):\n",
    "    \n",
    "    #Case 1:138 likes 4 comments\n",
    "    #Case 2:165 likes\n",
    "    #Case 3:3 comments\n",
    "    #fixed\n",
    "    \n",
    "    #convert all reviews which has likes to like\n",
    "    if 'likes' in review:\n",
    "        review=review.replace('likes','like')\n",
    "    else:\n",
    "        pass\n",
    "    \n",
    "    \n",
    "    review=review.split()\n",
    "    if 'like' in review :\n",
    "        review=review[0]\n",
    "    else:\n",
    "        review=None\n",
    "        \n",
    "    \n",
    "    return review"
   ]
  },
  {
   "cell_type": "code",
   "execution_count": 62,
   "metadata": {},
   "outputs": [],
   "source": [
    "df['review_likes']=df['review_like'].apply(lambda review:get_review_likes(review))"
   ]
  },
  {
   "cell_type": "code",
   "execution_count": 64,
   "metadata": {},
   "outputs": [],
   "source": [
    "def get_review_comments(comment):\n",
    "    \n",
    "    \n",
    "    \n",
    "    #Case 1:138 likes 4 comments\n",
    "    #Case 2:3 comments\n",
    "    #Case 3:1 likes\n",
    "    \n",
    "    \n",
    "    if 'comments' in comment:\n",
    "        comment=comment.replace('comments','comment')\n",
    "    else:\n",
    "        pass\n",
    "    \n",
    "    #to handle different kind of cases\n",
    "    review_len=len(comment.split())\n",
    "    if review_len==4:\n",
    "        comment=comment.split()[2]\n",
    "    elif review_len==2 and 'comment' in comment:\n",
    "        comment=comment.split()[0]\n",
    "    else:\n",
    "        comment=None\n",
    "        \n",
    "    return comment"
   ]
  },
  {
   "cell_type": "code",
   "execution_count": 68,
   "metadata": {},
   "outputs": [],
   "source": [
    "df['review_comments']=df['review_like'].apply(lambda comment:get_review_comments(comment))"
   ]
  },
  {
   "cell_type": "code",
   "execution_count": 69,
   "metadata": {},
   "outputs": [
    {
     "data": {
      "text/html": [
       "<div>\n",
       "<style scoped>\n",
       "    .dataframe tbody tr th:only-of-type {\n",
       "        vertical-align: middle;\n",
       "    }\n",
       "\n",
       "    .dataframe tbody tr th {\n",
       "        vertical-align: top;\n",
       "    }\n",
       "\n",
       "    .dataframe thead th {\n",
       "        text-align: right;\n",
       "    }\n",
       "</style>\n",
       "<table border=\"1\" class=\"dataframe\">\n",
       "  <thead>\n",
       "    <tr style=\"text-align: right;\">\n",
       "      <th></th>\n",
       "      <th>review_like</th>\n",
       "      <th>review_comments</th>\n",
       "    </tr>\n",
       "  </thead>\n",
       "  <tbody>\n",
       "    <tr>\n",
       "      <th>0</th>\n",
       "      <td>165 likes</td>\n",
       "      <td>None</td>\n",
       "    </tr>\n",
       "    <tr>\n",
       "      <th>1</th>\n",
       "      <td>138 likes\\n4 comments</td>\n",
       "      <td>4</td>\n",
       "    </tr>\n",
       "    <tr>\n",
       "      <th>2</th>\n",
       "      <td>50 likes\\n4 comments</td>\n",
       "      <td>4</td>\n",
       "    </tr>\n",
       "    <tr>\n",
       "      <th>3</th>\n",
       "      <td>41 likes\\n2 comments</td>\n",
       "      <td>2</td>\n",
       "    </tr>\n",
       "    <tr>\n",
       "      <th>4</th>\n",
       "      <td>31 likes</td>\n",
       "      <td>None</td>\n",
       "    </tr>\n",
       "    <tr>\n",
       "      <th>...</th>\n",
       "      <td>...</td>\n",
       "      <td>...</td>\n",
       "    </tr>\n",
       "    <tr>\n",
       "      <th>763</th>\n",
       "      <td>None</td>\n",
       "      <td>None</td>\n",
       "    </tr>\n",
       "    <tr>\n",
       "      <th>764</th>\n",
       "      <td>None</td>\n",
       "      <td>None</td>\n",
       "    </tr>\n",
       "    <tr>\n",
       "      <th>765</th>\n",
       "      <td>None</td>\n",
       "      <td>None</td>\n",
       "    </tr>\n",
       "    <tr>\n",
       "      <th>766</th>\n",
       "      <td>None</td>\n",
       "      <td>None</td>\n",
       "    </tr>\n",
       "    <tr>\n",
       "      <th>767</th>\n",
       "      <td>None</td>\n",
       "      <td>None</td>\n",
       "    </tr>\n",
       "  </tbody>\n",
       "</table>\n",
       "<p>768 rows × 2 columns</p>\n",
       "</div>"
      ],
      "text/plain": [
       "               review_like review_comments\n",
       "0                165 likes            None\n",
       "1    138 likes\\n4 comments               4\n",
       "2     50 likes\\n4 comments               4\n",
       "3     41 likes\\n2 comments               2\n",
       "4                 31 likes            None\n",
       "..                     ...             ...\n",
       "763                   None            None\n",
       "764                   None            None\n",
       "765                   None            None\n",
       "766                   None            None\n",
       "767                   None            None\n",
       "\n",
       "[768 rows x 2 columns]"
      ]
     },
     "execution_count": 69,
     "metadata": {},
     "output_type": "execute_result"
    }
   ],
   "source": [
    "df[['review_like','review_comments']]"
   ]
  },
  {
   "cell_type": "markdown",
   "metadata": {},
   "source": [
    "# Classify review into language"
   ]
  },
  {
   "cell_type": "code",
   "execution_count": 44,
   "metadata": {},
   "outputs": [
    {
     "name": "stdout",
     "output_type": "stream",
     "text": [
      "Collecting polyglot\n",
      "  Using cached polyglot-16.7.4.tar.gz (126 kB)\n",
      "Using legacy setup.py install for polyglot, since package 'wheel' is not installed.\n",
      "Installing collected packages: polyglot\n",
      "    Running setup.py install for polyglot: started\n",
      "    Running setup.py install for polyglot: finished with status 'done'\n",
      "Successfully installed polyglot-16.7.4\n",
      "Note: you may need to restart the kernel to use updated packages.\n"
     ]
    },
    {
     "name": "stderr",
     "output_type": "stream",
     "text": [
      "WARNING: You are using pip version 20.1.1; however, version 22.2.2 is available.\n",
      "You should consider upgrading via the 'c:\\users\\aliff\\appdata\\local\\programs\\python\\python37\\python.exe -m pip install --upgrade pip' command.\n"
     ]
    }
   ],
   "source": [
    "pip install polyglot"
   ]
  },
  {
   "cell_type": "code",
   "execution_count": 8,
   "metadata": {},
   "outputs": [
    {
     "name": "stdout",
     "output_type": "stream",
     "text": [
      "Collecting chardet\n",
      "  Downloading chardet-5.0.0-py3-none-any.whl (193 kB)\n",
      "Installing collected packages: chardet\n",
      "Successfully installed chardet-5.0.0\n",
      "Note: you may need to restart the kernel to use updated packages.\n"
     ]
    },
    {
     "name": "stderr",
     "output_type": "stream",
     "text": [
      "WARNING: You are using pip version 20.1.1; however, version 22.2.2 is available.\n",
      "You should consider upgrading via the 'c:\\users\\aliff\\appdata\\local\\programs\\python\\python37\\python.exe -m pip install --upgrade pip' command.\n"
     ]
    }
   ],
   "source": [
    "pip install chardet"
   ]
  },
  {
   "cell_type": "code",
   "execution_count": 13,
   "metadata": {},
   "outputs": [
    {
     "data": {
      "text/plain": [
       "{'encoding': 'ascii', 'confidence': 1.0, 'language': ''}"
      ]
     },
     "execution_count": 13,
     "metadata": {},
     "output_type": "execute_result"
    }
   ],
   "source": [
    "import chardet\n",
    "chardet.detect(\"i am from\".encode('cp1251'))"
   ]
  },
  {
   "cell_type": "code",
   "execution_count": 25,
   "metadata": {},
   "outputs": [
    {
     "data": {
      "text/plain": [
       "{'encoding': 'ascii', 'confidence': 1.0, 'language': ''}"
      ]
     },
     "execution_count": 25,
     "metadata": {},
     "output_type": "execute_result"
    }
   ],
   "source": [
    "testing=b\"\"\"testing\"\"\"\n",
    "\n",
    "chardet.detect(testing)"
   ]
  },
  {
   "cell_type": "code",
   "execution_count": 30,
   "metadata": {},
   "outputs": [
    {
     "name": "stdout",
     "output_type": "stream",
     "text": [
      "{'encoding': 'ascii', 'confidence': 1.0, 'language': ''}\n"
     ]
    }
   ],
   "source": [
    "from chardet.universaldetector import UniversalDetector\n",
    "\n",
    "usock = b'hello my name is aliff nice to meet you let go me'\n",
    "detector = UniversalDetector()\n",
    "detector.feed(usock)\n",
    "\n",
    "detector.close()\n",
    "print(detector.result)"
   ]
  },
  {
   "cell_type": "code",
   "execution_count": 32,
   "metadata": {},
   "outputs": [
    {
     "name": "stdout",
     "output_type": "stream",
     "text": [
      "Collecting langdetect\n",
      "  Downloading langdetect-1.0.9.tar.gz (981 kB)\n",
      "Requirement already satisfied: six in c:\\users\\aliff\\appdata\\local\\programs\\python\\python37\\lib\\site-packages (from langdetect) (1.16.0)\n",
      "Using legacy setup.py install for langdetect, since package 'wheel' is not installed.\n",
      "Installing collected packages: langdetect\n",
      "    Running setup.py install for langdetect: started\n",
      "    Running setup.py install for langdetect: finished with status 'done'\n",
      "Successfully installed langdetect-1.0.9\n",
      "Note: you may need to restart the kernel to use updated packages.\n"
     ]
    },
    {
     "name": "stderr",
     "output_type": "stream",
     "text": [
      "WARNING: You are using pip version 20.1.1; however, version 22.2.2 is available.\n",
      "You should consider upgrading via the 'c:\\users\\aliff\\appdata\\local\\programs\\python\\python37\\python.exe -m pip install --upgrade pip' command.\n"
     ]
    }
   ],
   "source": [
    "pip install langdetect"
   ]
  },
  {
   "cell_type": "markdown",
   "metadata": {},
   "source": [
    "#### The perfect ez one to use"
   ]
  },
  {
   "cell_type": "code",
   "execution_count": 14,
   "metadata": {},
   "outputs": [],
   "source": [
    "from langdetect import detect, DetectorFactory"
   ]
  },
  {
   "cell_type": "code",
   "execution_count": 15,
   "metadata": {},
   "outputs": [],
   "source": [
    "def classify_language(review):\n",
    "    \n",
    "    DetectorFactory.seed = 0\n",
    "    try:\n",
    "        return detect(review)\n",
    "    except:\n",
    "        return 'None'"
   ]
  },
  {
   "cell_type": "code",
   "execution_count": 8,
   "metadata": {},
   "outputs": [
    {
     "data": {
      "text/plain": [
       "0"
      ]
     },
     "execution_count": 8,
     "metadata": {},
     "output_type": "execute_result"
    }
   ],
   "source": [
    "df['review'].isnull().sum()"
   ]
  },
  {
   "cell_type": "code",
   "execution_count": 9,
   "metadata": {},
   "outputs": [
    {
     "data": {
      "text/html": [
       "<div>\n",
       "<style scoped>\n",
       "    .dataframe tbody tr th:only-of-type {\n",
       "        vertical-align: middle;\n",
       "    }\n",
       "\n",
       "    .dataframe tbody tr th {\n",
       "        vertical-align: top;\n",
       "    }\n",
       "\n",
       "    .dataframe thead th {\n",
       "        text-align: right;\n",
       "    }\n",
       "</style>\n",
       "<table border=\"1\" class=\"dataframe\">\n",
       "  <thead>\n",
       "    <tr style=\"text-align: right;\">\n",
       "      <th></th>\n",
       "      <th>name</th>\n",
       "      <th>review</th>\n",
       "      <th>reviewer_stats</th>\n",
       "      <th>ratings_given</th>\n",
       "      <th>review_like</th>\n",
       "    </tr>\n",
       "  </thead>\n",
       "  <tbody>\n",
       "  </tbody>\n",
       "</table>\n",
       "</div>"
      ],
      "text/plain": [
       "Empty DataFrame\n",
       "Columns: [name, review, reviewer_stats, ratings_given, review_like]\n",
       "Index: []"
      ]
     },
     "execution_count": 9,
     "metadata": {},
     "output_type": "execute_result"
    }
   ],
   "source": [
    "df[df['review'].isnull()]"
   ]
  },
  {
   "cell_type": "markdown",
   "metadata": {},
   "source": [
    "The problem bfr was that some of the data have no reviews hence the model does not detect anything"
   ]
  },
  {
   "cell_type": "code",
   "execution_count": 17,
   "metadata": {},
   "outputs": [],
   "source": [
    "df['language']=df['review'].apply(classify_language)"
   ]
  },
  {
   "cell_type": "code",
   "execution_count": 18,
   "metadata": {},
   "outputs": [
    {
     "data": {
      "text/plain": [
       "en      634\n",
       "es       24\n",
       "pt       16\n",
       "fa       12\n",
       "tr       11\n",
       "it        8\n",
       "fr        8\n",
       "ar        6\n",
       "de        6\n",
       "no        3\n",
       "nl        3\n",
       "lt        2\n",
       "af        2\n",
       "da        2\n",
       "None      2\n",
       "hr        2\n",
       "ro        2\n",
       "el        2\n",
       "ru        1\n",
       "sl        1\n",
       "so        1\n",
       "sw        1\n",
       "cy        1\n",
       "sk        1\n",
       "fi        1\n",
       "tl        1\n",
       "sq        1\n",
       "et        1\n",
       "hu        1\n",
       "ca        1\n",
       "sv        1\n",
       "cs        1\n",
       "Name: language, dtype: int64"
      ]
     },
     "execution_count": 18,
     "metadata": {},
     "output_type": "execute_result"
    }
   ],
   "source": [
    "df['language'].value_counts()"
   ]
  },
  {
   "cell_type": "markdown",
   "metadata": {},
   "source": [
    "Czech lol"
   ]
  },
  {
   "cell_type": "code",
   "execution_count": 20,
   "metadata": {},
   "outputs": [
    {
     "data": {
      "text/html": [
       "<div>\n",
       "<style scoped>\n",
       "    .dataframe tbody tr th:only-of-type {\n",
       "        vertical-align: middle;\n",
       "    }\n",
       "\n",
       "    .dataframe tbody tr th {\n",
       "        vertical-align: top;\n",
       "    }\n",
       "\n",
       "    .dataframe thead th {\n",
       "        text-align: right;\n",
       "    }\n",
       "</style>\n",
       "<table border=\"1\" class=\"dataframe\">\n",
       "  <thead>\n",
       "    <tr style=\"text-align: right;\">\n",
       "      <th></th>\n",
       "      <th>name</th>\n",
       "      <th>review</th>\n",
       "      <th>reviewer_stats</th>\n",
       "      <th>ratings_given</th>\n",
       "      <th>review_like</th>\n",
       "      <th>language</th>\n",
       "    </tr>\n",
       "  </thead>\n",
       "  <tbody>\n",
       "    <tr>\n",
       "      <th>127</th>\n",
       "      <td>Yahn Wuthstrack</td>\n",
       "      <td>?</td>\n",
       "      <td>36 reviews\\n1 follower</td>\n",
       "      <td>Rating 3 out of 5</td>\n",
       "      <td>1 like</td>\n",
       "      <td>None</td>\n",
       "    </tr>\n",
       "    <tr>\n",
       "      <th>470</th>\n",
       "      <td>itsyaboisanti</td>\n",
       "      <td>2/10\\n\\n🤮🤮🤮🤮🤮</td>\n",
       "      <td>71 reviews</td>\n",
       "      <td>Rating 1 out of 5</td>\n",
       "      <td>None</td>\n",
       "      <td>None</td>\n",
       "    </tr>\n",
       "  </tbody>\n",
       "</table>\n",
       "</div>"
      ],
      "text/plain": [
       "                name         review          reviewer_stats  \\\n",
       "127  Yahn Wuthstrack              ?  36 reviews\\n1 follower   \n",
       "470    itsyaboisanti  2/10\\n\\n🤮🤮🤮🤮🤮              71 reviews   \n",
       "\n",
       "         ratings_given review_like language  \n",
       "127  Rating 3 out of 5      1 like     None  \n",
       "470  Rating 1 out of 5        None     None  "
      ]
     },
     "execution_count": 20,
     "metadata": {},
     "output_type": "execute_result"
    }
   ],
   "source": [
    "df.query('language==\"None\"')"
   ]
  },
  {
   "cell_type": "markdown",
   "metadata": {},
   "source": [
    "# Sentiment classifiers"
   ]
  },
  {
   "cell_type": "code",
   "execution_count": 25,
   "metadata": {},
   "outputs": [],
   "source": [
    "from nltk.corpus import stopwords\n",
    "\n",
    "stop=stopwords.words('english')"
   ]
  },
  {
   "cell_type": "markdown",
   "metadata": {},
   "source": [
    "Remove stop words"
   ]
  },
  {
   "cell_type": "code",
   "execution_count": 28,
   "metadata": {},
   "outputs": [],
   "source": [
    "df['review']=df['review'].apply(lambda x : ' '.join(review for review in x.split() if review not in stop)).copy()"
   ]
  },
  {
   "cell_type": "code",
   "execution_count": 30,
   "metadata": {},
   "outputs": [
    {
     "data": {
      "text/plain": [
       "\"Leviathan, The Matter, Forme Power Common Wealth Ecclesiasticall Civil, Thomas Hobbes Leviathan, book written Thomas Hobbes (1588–1679) published 1651 (revised Latin edition 1668). Its name derives biblical Leviathan. The work concerns structure society legitimate government, regarded one earliest influential examples social contract theory. Leviathan ranks classic Western work statecraft comparable Machiavelli's The Prince. Written English Civil War (1642–1651), Leviathan argues social contract rule absolute sovereign. تاریخ نخستین خوانش: روز دهم ماه آگوست سال2001میلادی عنوان: لویاتان؛ نویسنده: توماس هابز؛ مترجم: حسین بشیریه؛ تهران، نشر نی، سال1380؛ در572ص؛ چاپ دوم سال1381؛ چاپ چهارم سال1385؛ چاپ ششم سال1389؛ چاپ هفتم سال1391؛ چاپ هشتم سال1392؛ چاپ نهم سال1393؛ در576ص؛ شابک9789643125578؛ موضوع: دولت از نویسندگان و فیلسوفان بریتانیا - سده17میلادی فهرست: «یاداشت مترجم (حسین بشیریه)»؛ «مقدمه به قلم سی.بی مکفرسون»؛ «برخی منابع درباره هابز»؛ «یادداشتی درباره متن کتاب لویاتان»؛ «لویاتان به قلم توماس هابز»؛ «نامه تقدیمیه»؛ «فهرست فصول»؛ «مقدمه»؛ «بخش اول در باب انسان»؛ «بخش دوم در باب دولت»؛ «بخش سوم در باب دولت مسیحی»؛ «بخش چهارم در باب مملکت ظلمت»؛ «مرور و نتیجه گیری»؛ لویاتان بزرگ\\u200cترین، و نخستین اثر فلسفه ی سیاسی، و نخستین شرح فراگیر برای همگان، درباره ی «دولت مدرن»، و ویژگی\\u200cها، و کارکردهای آن است؛ «هابز» در «لویاتان»، با بهره\\u200c برداری از نمادهای ابزارگونه و اندام\\u200cوار، دولت را همچون انسانی بدلی، قلمداد می\\u200cکنند، که ممکن است دچار انواع بیماری\\u200cها شود؛ یکی از دلمشغولیهای «هابز» بازگشایی کالبد دولت، و بیماری\\u200cهای آن است؛ «هابز» همچنین، در گشودن چگونگی قدرت، آن را همچون پدیده\\u200c های سیال و فراگیر می\\u200cدانند، که اساس زندگی اجتماعی را، شکل می\\u200cدهند، و حوزه\\u200c های گوناگون زندگی، همچون «مالکیت اقتصادی»، «علم و دانش»، «اخلاق»، «قانون» و «حقوق» و ...، همگی در پرتو آن شکل می\\u200cگیرند، و به راستی با قدرت هم\\u200c گوهر هستند تاریخ بهنگام رسانی 19/04/1400هجری خورشیدی؛ 03/01/1401هجری خورشیدی؛ ا. شربیانی\""
      ]
     },
     "execution_count": 30,
     "metadata": {},
     "output_type": "execute_result"
    }
   ],
   "source": [
    "df['review'][0]"
   ]
  },
  {
   "cell_type": "code",
   "execution_count": 32,
   "metadata": {},
   "outputs": [],
   "source": [
    "from vaderSentiment.vaderSentiment import SentimentIntensityAnalyzer\n",
    "vader=SentimentIntensityAnalyzer()\n"
   ]
  },
  {
   "cell_type": "code",
   "execution_count": 34,
   "metadata": {},
   "outputs": [],
   "source": [
    "sentiment=pd.json_normalize(df['review'].apply(lambda review:vader.polarity_scores(str(review))))"
   ]
  },
  {
   "cell_type": "code",
   "execution_count": 35,
   "metadata": {},
   "outputs": [
    {
     "data": {
      "text/html": [
       "<div>\n",
       "<style scoped>\n",
       "    .dataframe tbody tr th:only-of-type {\n",
       "        vertical-align: middle;\n",
       "    }\n",
       "\n",
       "    .dataframe tbody tr th {\n",
       "        vertical-align: top;\n",
       "    }\n",
       "\n",
       "    .dataframe thead th {\n",
       "        text-align: right;\n",
       "    }\n",
       "</style>\n",
       "<table border=\"1\" class=\"dataframe\">\n",
       "  <thead>\n",
       "    <tr style=\"text-align: right;\">\n",
       "      <th></th>\n",
       "      <th>neg</th>\n",
       "      <th>neu</th>\n",
       "      <th>pos</th>\n",
       "      <th>compound</th>\n",
       "    </tr>\n",
       "  </thead>\n",
       "  <tbody>\n",
       "    <tr>\n",
       "      <th>0</th>\n",
       "      <td>0.022</td>\n",
       "      <td>0.954</td>\n",
       "      <td>0.024</td>\n",
       "      <td>-0.0772</td>\n",
       "    </tr>\n",
       "    <tr>\n",
       "      <th>1</th>\n",
       "      <td>0.125</td>\n",
       "      <td>0.702</td>\n",
       "      <td>0.172</td>\n",
       "      <td>0.9660</td>\n",
       "    </tr>\n",
       "    <tr>\n",
       "      <th>2</th>\n",
       "      <td>0.201</td>\n",
       "      <td>0.582</td>\n",
       "      <td>0.216</td>\n",
       "      <td>0.7879</td>\n",
       "    </tr>\n",
       "    <tr>\n",
       "      <th>3</th>\n",
       "      <td>0.000</td>\n",
       "      <td>0.945</td>\n",
       "      <td>0.055</td>\n",
       "      <td>0.0258</td>\n",
       "    </tr>\n",
       "    <tr>\n",
       "      <th>4</th>\n",
       "      <td>0.000</td>\n",
       "      <td>1.000</td>\n",
       "      <td>0.000</td>\n",
       "      <td>0.0000</td>\n",
       "    </tr>\n",
       "    <tr>\n",
       "      <th>...</th>\n",
       "      <td>...</td>\n",
       "      <td>...</td>\n",
       "      <td>...</td>\n",
       "      <td>...</td>\n",
       "    </tr>\n",
       "    <tr>\n",
       "      <th>754</th>\n",
       "      <td>0.000</td>\n",
       "      <td>1.000</td>\n",
       "      <td>0.000</td>\n",
       "      <td>0.0000</td>\n",
       "    </tr>\n",
       "    <tr>\n",
       "      <th>755</th>\n",
       "      <td>0.000</td>\n",
       "      <td>1.000</td>\n",
       "      <td>0.000</td>\n",
       "      <td>0.0000</td>\n",
       "    </tr>\n",
       "    <tr>\n",
       "      <th>756</th>\n",
       "      <td>0.188</td>\n",
       "      <td>0.650</td>\n",
       "      <td>0.162</td>\n",
       "      <td>0.1354</td>\n",
       "    </tr>\n",
       "    <tr>\n",
       "      <th>757</th>\n",
       "      <td>0.000</td>\n",
       "      <td>1.000</td>\n",
       "      <td>0.000</td>\n",
       "      <td>0.0000</td>\n",
       "    </tr>\n",
       "    <tr>\n",
       "      <th>758</th>\n",
       "      <td>0.000</td>\n",
       "      <td>1.000</td>\n",
       "      <td>0.000</td>\n",
       "      <td>0.0000</td>\n",
       "    </tr>\n",
       "  </tbody>\n",
       "</table>\n",
       "<p>759 rows × 4 columns</p>\n",
       "</div>"
      ],
      "text/plain": [
       "       neg    neu    pos  compound\n",
       "0    0.022  0.954  0.024   -0.0772\n",
       "1    0.125  0.702  0.172    0.9660\n",
       "2    0.201  0.582  0.216    0.7879\n",
       "3    0.000  0.945  0.055    0.0258\n",
       "4    0.000  1.000  0.000    0.0000\n",
       "..     ...    ...    ...       ...\n",
       "754  0.000  1.000  0.000    0.0000\n",
       "755  0.000  1.000  0.000    0.0000\n",
       "756  0.188  0.650  0.162    0.1354\n",
       "757  0.000  1.000  0.000    0.0000\n",
       "758  0.000  1.000  0.000    0.0000\n",
       "\n",
       "[759 rows x 4 columns]"
      ]
     },
     "execution_count": 35,
     "metadata": {},
     "output_type": "execute_result"
    }
   ],
   "source": [
    "sentiment"
   ]
  },
  {
   "cell_type": "code",
   "execution_count": 36,
   "metadata": {},
   "outputs": [],
   "source": [
    "df=pd.concat([df,sentiment],axis=1)\n"
   ]
  },
  {
   "cell_type": "code",
   "execution_count": 59,
   "metadata": {},
   "outputs": [],
   "source": [
    "df['sentiment']=df['compound'].apply(lambda x: 'positive' if x>=0.05 else ('neutral' if -0.05<x<0.05 else 'negative'))"
   ]
  },
  {
   "cell_type": "code",
   "execution_count": 61,
   "metadata": {},
   "outputs": [
    {
     "data": {
      "text/plain": [
       "positive    414\n",
       "negative    181\n",
       "neutral     173\n",
       "Name: sentiment, dtype: int64"
      ]
     },
     "execution_count": 61,
     "metadata": {},
     "output_type": "execute_result"
    }
   ],
   "source": [
    "df['sentiment'].value_counts()"
   ]
  },
  {
   "cell_type": "code",
   "execution_count": 60,
   "metadata": {},
   "outputs": [
    {
     "data": {
      "text/plain": [
       "<AxesSubplot:>"
      ]
     },
     "execution_count": 60,
     "metadata": {},
     "output_type": "execute_result"
    },
    {
     "data": {
      "image/png": "[encoded data removed]",
      "text/plain": [
       "<Figure size 432x288 with 1 Axes>"
      ]
     },
     "metadata": {
      "needs_background": "light"
     },
     "output_type": "display_data"
    }
   ],
   "source": [
    "df['sentiment'].value_counts().plot(kind='barh')"
   ]
  },
  {
   "cell_type": "code",
   "execution_count": 58,
   "metadata": {},
   "outputs": [
    {
     "data": {
      "text/plain": [
       "0      Rating 4 out of 5\n",
       "11     Rating 1 out of 5\n",
       "17     Rating 5 out of 5\n",
       "20     Rating 5 out of 5\n",
       "26     Rating 4 out of 5\n",
       "             ...        \n",
       "763                 None\n",
       "764                 None\n",
       "765    Rating 3 out of 5\n",
       "766                 None\n",
       "767                 None\n",
       "Name: ratings_given, Length: 181, dtype: object"
      ]
     },
     "execution_count": 58,
     "metadata": {},
     "output_type": "execute_result"
    }
   ],
   "source": [
    "df.query('sentiment==\"negative\"')['ratings_given']"
   ]
  },
  {
   "cell_type": "code",
   "execution_count": 56,
   "metadata": {},
   "outputs": [
    {
     "data": {
      "text/html": [
       "<div>\n",
       "<style scoped>\n",
       "    .dataframe tbody tr th:only-of-type {\n",
       "        vertical-align: middle;\n",
       "    }\n",
       "\n",
       "    .dataframe tbody tr th {\n",
       "        vertical-align: top;\n",
       "    }\n",
       "\n",
       "    .dataframe thead th {\n",
       "        text-align: right;\n",
       "    }\n",
       "</style>\n",
       "<table border=\"1\" class=\"dataframe\">\n",
       "  <thead>\n",
       "    <tr style=\"text-align: right;\">\n",
       "      <th></th>\n",
       "      <th>ratings_given</th>\n",
       "      <th>sentiment</th>\n",
       "    </tr>\n",
       "  </thead>\n",
       "  <tbody>\n",
       "    <tr>\n",
       "      <th>0</th>\n",
       "      <td>Rating 4 out of 5</td>\n",
       "      <td>negative</td>\n",
       "    </tr>\n",
       "    <tr>\n",
       "      <th>1</th>\n",
       "      <td>Rating 5 out of 5</td>\n",
       "      <td>positive</td>\n",
       "    </tr>\n",
       "    <tr>\n",
       "      <th>2</th>\n",
       "      <td>Rating 5 out of 5</td>\n",
       "      <td>positive</td>\n",
       "    </tr>\n",
       "    <tr>\n",
       "      <th>3</th>\n",
       "      <td>Rating 4 out of 5</td>\n",
       "      <td>neutral</td>\n",
       "    </tr>\n",
       "    <tr>\n",
       "      <th>4</th>\n",
       "      <td>Rating 3 out of 5</td>\n",
       "      <td>neutral</td>\n",
       "    </tr>\n",
       "    <tr>\n",
       "      <th>5</th>\n",
       "      <td>Rating 4 out of 5</td>\n",
       "      <td>positive</td>\n",
       "    </tr>\n",
       "    <tr>\n",
       "      <th>6</th>\n",
       "      <td>Rating 4 out of 5</td>\n",
       "      <td>neutral</td>\n",
       "    </tr>\n",
       "    <tr>\n",
       "      <th>7</th>\n",
       "      <td>Rating 3 out of 5</td>\n",
       "      <td>positive</td>\n",
       "    </tr>\n",
       "    <tr>\n",
       "      <th>8</th>\n",
       "      <td>Rating 2 out of 5</td>\n",
       "      <td>positive</td>\n",
       "    </tr>\n",
       "    <tr>\n",
       "      <th>9</th>\n",
       "      <td>Rating 5 out of 5</td>\n",
       "      <td>neutral</td>\n",
       "    </tr>\n",
       "    <tr>\n",
       "      <th>10</th>\n",
       "      <td>Rating 2 out of 5</td>\n",
       "      <td>neutral</td>\n",
       "    </tr>\n",
       "    <tr>\n",
       "      <th>11</th>\n",
       "      <td>Rating 1 out of 5</td>\n",
       "      <td>negative</td>\n",
       "    </tr>\n",
       "    <tr>\n",
       "      <th>12</th>\n",
       "      <td>Rating 5 out of 5</td>\n",
       "      <td>positive</td>\n",
       "    </tr>\n",
       "    <tr>\n",
       "      <th>13</th>\n",
       "      <td>Rating 2 out of 5</td>\n",
       "      <td>neutral</td>\n",
       "    </tr>\n",
       "    <tr>\n",
       "      <th>14</th>\n",
       "      <td>Rating 4 out of 5</td>\n",
       "      <td>positive</td>\n",
       "    </tr>\n",
       "    <tr>\n",
       "      <th>15</th>\n",
       "      <td>Rating 4 out of 5</td>\n",
       "      <td>positive</td>\n",
       "    </tr>\n",
       "    <tr>\n",
       "      <th>16</th>\n",
       "      <td>Rating 5 out of 5</td>\n",
       "      <td>neutral</td>\n",
       "    </tr>\n",
       "    <tr>\n",
       "      <th>17</th>\n",
       "      <td>Rating 5 out of 5</td>\n",
       "      <td>negative</td>\n",
       "    </tr>\n",
       "    <tr>\n",
       "      <th>18</th>\n",
       "      <td>Rating 4 out of 5</td>\n",
       "      <td>positive</td>\n",
       "    </tr>\n",
       "    <tr>\n",
       "      <th>19</th>\n",
       "      <td>Rating 3 out of 5</td>\n",
       "      <td>positive</td>\n",
       "    </tr>\n",
       "    <tr>\n",
       "      <th>20</th>\n",
       "      <td>Rating 5 out of 5</td>\n",
       "      <td>negative</td>\n",
       "    </tr>\n",
       "    <tr>\n",
       "      <th>21</th>\n",
       "      <td>Rating 1 out of 5</td>\n",
       "      <td>positive</td>\n",
       "    </tr>\n",
       "    <tr>\n",
       "      <th>22</th>\n",
       "      <td>Rating 4 out of 5</td>\n",
       "      <td>neutral</td>\n",
       "    </tr>\n",
       "    <tr>\n",
       "      <th>23</th>\n",
       "      <td>Rating 3 out of 5</td>\n",
       "      <td>positive</td>\n",
       "    </tr>\n",
       "    <tr>\n",
       "      <th>24</th>\n",
       "      <td>Rating 4 out of 5</td>\n",
       "      <td>positive</td>\n",
       "    </tr>\n",
       "    <tr>\n",
       "      <th>25</th>\n",
       "      <td>Rating 2 out of 5</td>\n",
       "      <td>neutral</td>\n",
       "    </tr>\n",
       "    <tr>\n",
       "      <th>26</th>\n",
       "      <td>Rating 4 out of 5</td>\n",
       "      <td>negative</td>\n",
       "    </tr>\n",
       "    <tr>\n",
       "      <th>27</th>\n",
       "      <td>Rating 5 out of 5</td>\n",
       "      <td>positive</td>\n",
       "    </tr>\n",
       "    <tr>\n",
       "      <th>28</th>\n",
       "      <td>Rating 3 out of 5</td>\n",
       "      <td>positive</td>\n",
       "    </tr>\n",
       "    <tr>\n",
       "      <th>29</th>\n",
       "      <td>Rating 5 out of 5</td>\n",
       "      <td>positive</td>\n",
       "    </tr>\n",
       "  </tbody>\n",
       "</table>\n",
       "</div>"
      ],
      "text/plain": [
       "        ratings_given sentiment\n",
       "0   Rating 4 out of 5  negative\n",
       "1   Rating 5 out of 5  positive\n",
       "2   Rating 5 out of 5  positive\n",
       "3   Rating 4 out of 5   neutral\n",
       "4   Rating 3 out of 5   neutral\n",
       "5   Rating 4 out of 5  positive\n",
       "6   Rating 4 out of 5   neutral\n",
       "7   Rating 3 out of 5  positive\n",
       "8   Rating 2 out of 5  positive\n",
       "9   Rating 5 out of 5   neutral\n",
       "10  Rating 2 out of 5   neutral\n",
       "11  Rating 1 out of 5  negative\n",
       "12  Rating 5 out of 5  positive\n",
       "13  Rating 2 out of 5   neutral\n",
       "14  Rating 4 out of 5  positive\n",
       "15  Rating 4 out of 5  positive\n",
       "16  Rating 5 out of 5   neutral\n",
       "17  Rating 5 out of 5  negative\n",
       "18  Rating 4 out of 5  positive\n",
       "19  Rating 3 out of 5  positive\n",
       "20  Rating 5 out of 5  negative\n",
       "21  Rating 1 out of 5  positive\n",
       "22  Rating 4 out of 5   neutral\n",
       "23  Rating 3 out of 5  positive\n",
       "24  Rating 4 out of 5  positive\n",
       "25  Rating 2 out of 5   neutral\n",
       "26  Rating 4 out of 5  negative\n",
       "27  Rating 5 out of 5  positive\n",
       "28  Rating 3 out of 5  positive\n",
       "29  Rating 5 out of 5  positive"
      ]
     },
     "execution_count": 56,
     "metadata": {},
     "output_type": "execute_result"
    }
   ],
   "source": [
    "df[['ratings_given','sentiment']].head(30)"
   ]
  },
  {
   "cell_type": "markdown",
   "metadata": {},
   "source": [
    "# Using different types of model to classify sentiment"
   ]
  },
  {
   "cell_type": "code",
   "execution_count": 68,
   "metadata": {},
   "outputs": [
    {
     "name": "stdout",
     "output_type": "stream",
     "text": [
      "Note: you may need to restart the kernel to use updated packages.\n"
     ]
    },
    {
     "name": "stderr",
     "output_type": "stream",
     "text": [
      "WARNING: You are using pip version 20.1.1; however, version 22.2.2 is available.\n",
      "You should consider upgrading via the 'c:\\users\\aliff\\appdata\\local\\programs\\python\\python37\\python.exe -m pip install --upgrade pip' command.\n"
     ]
    }
   ],
   "source": [
    "pip install -q transformers"
   ]
  },
  {
   "cell_type": "code",
   "execution_count": 71,
   "metadata": {},
   "outputs": [
    {
     "name": "stdout",
     "output_type": "stream",
     "text": [
      "^C\n",
      "Note: you may need to restart the kernel to use updated packages.\n",
      "Collecting tensorflow\n",
      "  Downloading tensorflow-2.10.0-cp37-cp37m-win_amd64.whl (455.9 MB)\n",
      "Requirement already satisfied: typing-extensions>=3.6.6 in c:\\users\\aliff\\appdata\\local\\programs\\python\\python37\\lib\\site-packages (from tensorflow) (4.1.1)\n",
      "Collecting flatbuffers>=2.0\n",
      "  Downloading flatbuffers-22.9.24-py2.py3-none-any.whl (26 kB)\n",
      "Requirement already satisfied: numpy>=1.20 in c:\\users\\aliff\\appdata\\local\\programs\\python\\python37\\lib\\site-packages (from tensorflow) (1.21.5)\n",
      "Collecting wrapt>=1.11.0\n",
      "  Using cached wrapt-1.14.1-cp37-cp37m-win_amd64.whl (35 kB)\n",
      "Collecting tensorboard<2.11,>=2.10\n",
      "  Downloading tensorboard-2.10.1-py3-none-any.whl (5.9 MB)\n",
      "Requirement already satisfied: six>=1.12.0 in c:\\users\\aliff\\appdata\\local\\programs\\python\\python37\\lib\\site-packages (from tensorflow) (1.16.0)\n",
      "Collecting grpcio<2.0,>=1.24.3\n",
      "  Downloading grpcio-1.50.0-cp37-cp37m-win_amd64.whl (3.6 MB)\n",
      "Requirement already satisfied: protobuf<3.20,>=3.9.2 in c:\\users\\aliff\\appdata\\local\\programs\\python\\python37\\lib\\site-packages (from tensorflow) (3.19.4)\n",
      "Requirement already satisfied: packaging in c:\\users\\aliff\\appdata\\local\\programs\\python\\python37\\lib\\site-packages (from tensorflow) (21.3)\n",
      "Collecting tensorflow-io-gcs-filesystem>=0.23.1\n",
      "  Downloading tensorflow_io_gcs_filesystem-0.27.0-cp37-cp37m-win_amd64.whl (1.5 MB)\n",
      "Collecting google-pasta>=0.1.1\n",
      "  Using cached google_pasta-0.2.0-py3-none-any.whl (57 kB)\n",
      "Collecting h5py>=2.9.0\n",
      "  Downloading h5py-3.7.0-cp37-cp37m-win_amd64.whl (2.6 MB)\n",
      "Collecting termcolor>=1.1.0\n",
      "  Using cached termcolor-2.0.1-py3-none-any.whl (5.4 kB)\n",
      "Collecting libclang>=13.0.0\n",
      "  Downloading libclang-14.0.6-py2.py3-none-win_amd64.whl (14.2 MB)\n",
      "Collecting keras<2.11,>=2.10.0\n",
      "  Downloading keras-2.10.0-py2.py3-none-any.whl (1.7 MB)\n",
      "Collecting absl-py>=1.0.0\n",
      "  Downloading absl_py-1.3.0-py3-none-any.whl (124 kB)\n",
      "Collecting opt-einsum>=2.3.2\n",
      "  Using cached opt_einsum-3.3.0-py3-none-any.whl (65 kB)\n",
      "Collecting astunparse>=1.6.0\n",
      "  Using cached astunparse-1.6.3-py2.py3-none-any.whl (12 kB)\n",
      "Requirement already satisfied: setuptools in c:\\users\\aliff\\appdata\\local\\programs\\python\\python37\\lib\\site-packages (from tensorflow) (47.1.0)\n",
      "Collecting tensorflow-estimator<2.11,>=2.10.0\n",
      "  Downloading tensorflow_estimator-2.10.0-py2.py3-none-any.whl (438 kB)\n",
      "Collecting keras-preprocessing>=1.1.1\n",
      "  Using cached Keras_Preprocessing-1.1.2-py2.py3-none-any.whl (42 kB)\n",
      "Collecting gast<=0.4.0,>=0.2.1\n",
      "  Downloading gast-0.4.0-py3-none-any.whl (9.8 kB)\n",
      "Collecting tensorboard-plugin-wit>=1.6.0\n",
      "  Using cached tensorboard_plugin_wit-1.8.1-py3-none-any.whl (781 kB)\n",
      "Collecting wheel>=0.26\n",
      "  Using cached wheel-0.37.1-py2.py3-none-any.whl (35 kB)\n",
      "Collecting google-auth-oauthlib<0.5,>=0.4.1\n",
      "  Using cached google_auth_oauthlib-0.4.6-py2.py3-none-any.whl (18 kB)\n",
      "Collecting google-auth<3,>=1.6.3\n",
      "  Downloading google_auth-2.13.0-py2.py3-none-any.whl (174 kB)\n",
      "Collecting markdown>=2.6.8\n",
      "  Using cached Markdown-3.4.1-py3-none-any.whl (93 kB)\n",
      "Collecting tensorboard-data-server<0.7.0,>=0.6.0\n",
      "  Using cached tensorboard_data_server-0.6.1-py3-none-any.whl (2.4 kB)\n",
      "Collecting werkzeug>=1.0.1\n",
      "  Using cached Werkzeug-2.2.2-py3-none-any.whl (232 kB)\n",
      "Requirement already satisfied: requests<3,>=2.21.0 in c:\\users\\aliff\\appdata\\local\\programs\\python\\python37\\lib\\site-packages (from tensorboard<2.11,>=2.10->tensorflow) (2.27.1)\n",
      "Requirement already satisfied: pyparsing!=3.0.5,>=2.0.2 in c:\\users\\aliff\\appdata\\local\\programs\\python\\python37\\lib\\site-packages (from packaging->tensorflow) (3.0.7)\n",
      "Requirement already satisfied: requests-oauthlib>=0.7.0 in c:\\users\\aliff\\appdata\\local\\programs\\python\\python37\\lib\\site-packages (from google-auth-oauthlib<0.5,>=0.4.1->tensorboard<2.11,>=2.10->tensorflow) (1.3.1)\n",
      "Collecting cachetools<6.0,>=2.0.0\n",
      "  Downloading cachetools-5.2.0-py3-none-any.whl (9.3 kB)\n",
      "Requirement already satisfied: pyasn1-modules>=0.2.1 in c:\\users\\aliff\\appdata\\local\\programs\\python\\python37\\lib\\site-packages (from google-auth<3,>=1.6.3->tensorboard<2.11,>=2.10->tensorflow) (0.2.8)\n",
      "Collecting rsa<5,>=3.1.4; python_version >= \"3.6\"\n",
      "  Downloading rsa-4.9-py3-none-any.whl (34 kB)\n",
      "Requirement already satisfied: importlib-metadata>=4.4; python_version < \"3.10\" in c:\\users\\aliff\\appdata\\local\\programs\\python\\python37\\lib\\site-packages (from markdown>=2.6.8->tensorboard<2.11,>=2.10->tensorflow) (4.11.3)\n",
      "Requirement already satisfied: MarkupSafe>=2.1.1 in c:\\users\\aliff\\appdata\\local\\programs\\python\\python37\\lib\\site-packages (from werkzeug>=1.0.1->tensorboard<2.11,>=2.10->tensorflow) (2.1.1)\n",
      "Requirement already satisfied: certifi>=2017.4.17 in c:\\users\\aliff\\appdata\\local\\programs\\python\\python37\\lib\\site-packages (from requests<3,>=2.21.0->tensorboard<2.11,>=2.10->tensorflow) (2021.10.8)\n",
      "Requirement already satisfied: charset-normalizer~=2.0.0; python_version >= \"3\" in c:\\users\\aliff\\appdata\\local\\programs\\python\\python37\\lib\\site-packages (from requests<3,>=2.21.0->tensorboard<2.11,>=2.10->tensorflow) (2.0.12)\n",
      "Requirement already satisfied: urllib3<1.27,>=1.21.1 in c:\\users\\aliff\\appdata\\local\\programs\\python\\python37\\lib\\site-packages (from requests<3,>=2.21.0->tensorboard<2.11,>=2.10->tensorflow) (1.26.9)\n",
      "Requirement already satisfied: idna<4,>=2.5; python_version >= \"3\" in c:\\users\\aliff\\appdata\\local\\programs\\python\\python37\\lib\\site-packages (from requests<3,>=2.21.0->tensorboard<2.11,>=2.10->tensorflow) (2.10)\n",
      "Requirement already satisfied: oauthlib>=3.0.0 in c:\\users\\aliff\\appdata\\local\\programs\\python\\python37\\lib\\site-packages (from requests-oauthlib>=0.7.0->google-auth-oauthlib<0.5,>=0.4.1->tensorboard<2.11,>=2.10->tensorflow) (3.2.0)\n",
      "Requirement already satisfied: pyasn1<0.5.0,>=0.4.6 in c:\\users\\aliff\\appdata\\local\\programs\\python\\python37\\lib\\site-packages (from pyasn1-modules>=0.2.1->google-auth<3,>=1.6.3->tensorboard<2.11,>=2.10->tensorflow) (0.4.8)\n",
      "Requirement already satisfied: zipp>=0.5 in c:\\users\\aliff\\appdata\\local\\programs\\python\\python37\\lib\\site-packages (from importlib-metadata>=4.4; python_version < \"3.10\"->markdown>=2.6.8->tensorboard<2.11,>=2.10->tensorflow) (3.7.0)\n",
      "Installing collected packages: flatbuffers, wrapt, tensorboard-plugin-wit, wheel, cachetools, rsa, google-auth, google-auth-oauthlib, absl-py, markdown, tensorboard-data-server, werkzeug, grpcio, tensorboard, tensorflow-io-gcs-filesystem, google-pasta, h5py, termcolor, libclang, keras, opt-einsum, astunparse, tensorflow-estimator, keras-preprocessing, gast, tensorflow\n",
      "Successfully installed absl-py-1.3.0 astunparse-1.6.3 cachetools-5.2.0 flatbuffers-22.9.24 gast-0.4.0 google-auth-2.13.0 google-auth-oauthlib-0.4.6 google-pasta-0.2.0 grpcio-1.50.0 h5py-3.7.0 keras-2.10.0 keras-preprocessing-1.1.2 libclang-14.0.6 markdown-3.4.1 opt-einsum-3.3.0 rsa-4.9 tensorboard-2.10.1 tensorboard-data-server-0.6.1 tensorboard-plugin-wit-1.8.1 tensorflow-2.10.0 tensorflow-estimator-2.10.0 tensorflow-io-gcs-filesystem-0.27.0 termcolor-2.0.1 werkzeug-2.2.2 wheel-0.37.1 wrapt-1.14.1\n"
     ]
    },
    {
     "name": "stderr",
     "output_type": "stream",
     "text": [
      "WARNING: You are using pip version 20.1.1; however, version 22.2.2 is available.\n",
      "You should consider upgrading via the 'c:\\users\\aliff\\appdata\\local\\programs\\python\\python37\\python.exe -m pip install --upgrade pip' command.\n"
     ]
    }
   ],
   "source": [
    "pip install tensorflow"
   ]
  },
  {
   "cell_type": "code",
   "execution_count": 66,
   "metadata": {},
   "outputs": [
    {
     "data": {
      "text/plain": [
       "0      Leviathan, The Matter, Forme Power Common Weal...\n",
       "1      Since reviewers seem rate work unfairly low di...\n",
       "2      Both conclusions methodology \"Leviathan\" shock...\n",
       "3      Preface A Scheme Reference Introduction A Note...\n",
       "4      هدفِ اصلی کتاب پاسخ به این پرسش است: چرا به دو...\n",
       "                             ...                        \n",
       "763                                          first third\n",
       "764                                          hobbes knob\n",
       "765    Very interesting thought provoking times—elusi...\n",
       "766                                          Ah, Hobbes.\n",
       "767                           I WAN TO KNOW HOW IT WORK?\n",
       "Name: review, Length: 768, dtype: object"
      ]
     },
     "execution_count": 66,
     "metadata": {},
     "output_type": "execute_result"
    }
   ],
   "source": [
    "df['review']"
   ]
  },
  {
   "cell_type": "code",
   "execution_count": 69,
   "metadata": {},
   "outputs": [
    {
     "name": "stderr",
     "output_type": "stream",
     "text": [
      "None of PyTorch, TensorFlow >= 2.0, or Flax have been found. Models won't be available and only tokenizers, configuration and file/data utilities can be used.\n"
     ]
    },
    {
     "data": {
      "application/vnd.jupyter.widget-view+json": {
       "model_id": "1fe37824fa174f4e97467c4822742210",
       "version_major": 2,
       "version_minor": 0
      },
      "text/plain": [
       "Downloading:   0%|          | 0.00/841 [00:00<?, ?B/s]"
      ]
     },
     "metadata": {},
     "output_type": "display_data"
    },
    {
     "name": "stderr",
     "output_type": "stream",
     "text": [
      "c:\\users\\aliff\\appdata\\local\\programs\\python\\python37\\lib\\site-packages\\huggingface_hub\\file_download.py:123: UserWarning: `huggingface_hub` cache-system uses symlinks by default to efficiently store duplicated files but your machine does not support them in C:\\Users\\aliff\\.cache\\huggingface\\hub. Caching files will still work but in a degraded version that might require more space on your disk. This warning can be disabled by setting the `HF_HUB_DISABLE_SYMLINKS_WARNING` environment variable. For more details, see https://huggingface.co/docs/huggingface_hub/how-to-cache#limitations.\n",
      "To support symlinks on Windows, you either need to activate Developer Mode or to run Python as an administrator. In order to see activate developer mode, see this article: https://docs.microsoft.com/en-us/windows/apps/get-started/enable-your-device-for-development\n",
      "  warnings.warn(message)\n"
     ]
    },
    {
     "ename": "RuntimeError",
     "evalue": "At least one of TensorFlow 2.0 or PyTorch should be installed. To install TensorFlow 2.0, read the instructions at https://www.tensorflow.org/install/ To install PyTorch, read the instructions at https://pytorch.org/.",
     "output_type": "error",
     "traceback": [
      "\u001b[1;31m---------------------------------------------------------------------------\u001b[0m",
      "\u001b[1;31mRuntimeError\u001b[0m                              Traceback (most recent call last)",
      "\u001b[1;32m~\\AppData\\Local\\Temp\\ipykernel_10984\\1751422064.py\u001b[0m in \u001b[0;36m<module>\u001b[1;34m\u001b[0m\n\u001b[0;32m      1\u001b[0m \u001b[1;32mfrom\u001b[0m \u001b[0mtransformers\u001b[0m \u001b[1;32mimport\u001b[0m \u001b[0mpipeline\u001b[0m\u001b[1;33m\u001b[0m\u001b[1;33m\u001b[0m\u001b[0m\n\u001b[0;32m      2\u001b[0m \u001b[0mmodel_path\u001b[0m \u001b[1;33m=\u001b[0m \u001b[1;34m\"cardiffnlp/twitter-xlm-roberta-base-sentiment\"\u001b[0m\u001b[1;33m\u001b[0m\u001b[1;33m\u001b[0m\u001b[0m\n\u001b[1;32m----> 3\u001b[1;33m \u001b[0msentiment_task\u001b[0m \u001b[1;33m=\u001b[0m \u001b[0mpipeline\u001b[0m\u001b[1;33m(\u001b[0m\u001b[1;34m\"sentiment-analysis\"\u001b[0m\u001b[1;33m,\u001b[0m \u001b[0mmodel\u001b[0m\u001b[1;33m=\u001b[0m\u001b[0mmodel_path\u001b[0m\u001b[1;33m,\u001b[0m \u001b[0mtokenizer\u001b[0m\u001b[1;33m=\u001b[0m\u001b[0mmodel_path\u001b[0m\u001b[1;33m)\u001b[0m\u001b[1;33m\u001b[0m\u001b[1;33m\u001b[0m\u001b[0m\n\u001b[0m\u001b[0;32m      4\u001b[0m \u001b[0msentiment_task\u001b[0m\u001b[1;33m(\u001b[0m\u001b[1;34m\"T'estimo!\"\u001b[0m\u001b[1;33m)\u001b[0m\u001b[1;33m\u001b[0m\u001b[1;33m\u001b[0m\u001b[0m\n",
      "\u001b[1;32mc:\\users\\aliff\\appdata\\local\\programs\\python\\python37\\lib\\site-packages\\transformers\\pipelines\\__init__.py\u001b[0m in \u001b[0;36mpipeline\u001b[1;34m(task, model, config, tokenizer, feature_extractor, framework, revision, use_fast, use_auth_token, device, device_map, torch_dtype, trust_remote_code, model_kwargs, pipeline_class, **kwargs)\u001b[0m\n\u001b[0;32m    716\u001b[0m         \u001b[0mtask\u001b[0m\u001b[1;33m=\u001b[0m\u001b[0mtask\u001b[0m\u001b[1;33m,\u001b[0m\u001b[1;33m\u001b[0m\u001b[1;33m\u001b[0m\u001b[0m\n\u001b[0;32m    717\u001b[0m         \u001b[1;33m**\u001b[0m\u001b[0mhub_kwargs\u001b[0m\u001b[1;33m,\u001b[0m\u001b[1;33m\u001b[0m\u001b[1;33m\u001b[0m\u001b[0m\n\u001b[1;32m--> 718\u001b[1;33m         \u001b[1;33m**\u001b[0m\u001b[0mmodel_kwargs\u001b[0m\u001b[1;33m,\u001b[0m\u001b[1;33m\u001b[0m\u001b[1;33m\u001b[0m\u001b[0m\n\u001b[0m\u001b[0;32m    719\u001b[0m     )\n\u001b[0;32m    720\u001b[0m \u001b[1;33m\u001b[0m\u001b[0m\n",
      "\u001b[1;32mc:\\users\\aliff\\appdata\\local\\programs\\python\\python37\\lib\\site-packages\\transformers\\pipelines\\base.py\u001b[0m in \u001b[0;36minfer_framework_load_model\u001b[1;34m(model, config, model_classes, task, framework, **model_kwargs)\u001b[0m\n\u001b[0;32m    208\u001b[0m     \u001b[1;32mif\u001b[0m \u001b[1;32mnot\u001b[0m \u001b[0mis_tf_available\u001b[0m\u001b[1;33m(\u001b[0m\u001b[1;33m)\u001b[0m \u001b[1;32mand\u001b[0m \u001b[1;32mnot\u001b[0m \u001b[0mis_torch_available\u001b[0m\u001b[1;33m(\u001b[0m\u001b[1;33m)\u001b[0m\u001b[1;33m:\u001b[0m\u001b[1;33m\u001b[0m\u001b[1;33m\u001b[0m\u001b[0m\n\u001b[0;32m    209\u001b[0m         raise RuntimeError(\n\u001b[1;32m--> 210\u001b[1;33m             \u001b[1;34m\"At least one of TensorFlow 2.0 or PyTorch should be installed. \"\u001b[0m\u001b[1;33m\u001b[0m\u001b[1;33m\u001b[0m\u001b[0m\n\u001b[0m\u001b[0;32m    211\u001b[0m             \u001b[1;34m\"To install TensorFlow 2.0, read the instructions at https://www.tensorflow.org/install/ \"\u001b[0m\u001b[1;33m\u001b[0m\u001b[1;33m\u001b[0m\u001b[0m\n\u001b[0;32m    212\u001b[0m             \u001b[1;34m\"To install PyTorch, read the instructions at https://pytorch.org/.\"\u001b[0m\u001b[1;33m\u001b[0m\u001b[1;33m\u001b[0m\u001b[0m\n",
      "\u001b[1;31mRuntimeError\u001b[0m: At least one of TensorFlow 2.0 or PyTorch should be installed. To install TensorFlow 2.0, read the instructions at https://www.tensorflow.org/install/ To install PyTorch, read the instructions at https://pytorch.org/."
     ]
    }
   ],
   "source": [
    "from transformers import pipeline\n",
    "model_path = \"cardiffnlp/twitter-xlm-roberta-base-sentiment\"\n",
    "sentiment_task = pipeline(\"sentiment-analysis\", model=model_path, tokenizer=model_path)\n",
    "sentiment_task(\"T'estimo!\")"
   ]
  },
  {
   "cell_type": "code",
   "execution_count": null,
   "metadata": {},
   "outputs": [],
   "source": []
  },
  {
   "cell_type": "code",
   "execution_count": null,
   "metadata": {},
   "outputs": [],
   "source": []
  },
  {
   "cell_type": "code",
   "execution_count": 51,
   "metadata": {},
   "outputs": [],
   "source": [
    "df.to_csv('sentiment_checking_update_20_10_2022.csv',encoding='utf-8',index=False)"
   ]
  },
  {
   "cell_type": "markdown",
   "metadata": {},
   "source": [
    "# Checking final results of dataframe"
   ]
  },
  {
   "cell_type": "code",
   "execution_count": 10,
   "metadata": {},
   "outputs": [],
   "source": [
    "import pandas as pd\n",
    "pd.set_option(\"display.max_rows\", 100)"
   ]
  },
  {
   "cell_type": "code",
   "execution_count": 12,
   "metadata": {},
   "outputs": [],
   "source": [
    "df=pd.read_csv('clean_data.csv')"
   ]
  },
  {
   "cell_type": "code",
   "execution_count": 13,
   "metadata": {},
   "outputs": [
    {
     "data": {
      "text/plain": [
       "0      negative\n",
       "1      positive\n",
       "2      positive\n",
       "3       neutral\n",
       "4       neutral\n",
       "         ...   \n",
       "763    negative\n",
       "764    negative\n",
       "765    negative\n",
       "766    negative\n",
       "767    negative\n",
       "Name: sentiment, Length: 768, dtype: object"
      ]
     },
     "execution_count": 13,
     "metadata": {},
     "output_type": "execute_result"
    }
   ],
   "source": [
    "df['sentiment']"
   ]
  },
  {
   "cell_type": "code",
   "execution_count": 17,
   "metadata": {},
   "outputs": [
    {
     "data": {
      "text/plain": [
       "'hobbes\\' theory misanthropic, elitist vision humans basically corrupt, evil stupid, must lead far-sighted guardian \"leviathan\" enforces private property relations prevents people following \"evil impulses.\" yikes.'"
      ]
     },
     "execution_count": 17,
     "metadata": {},
     "output_type": "execute_result"
    }
   ],
   "source": [
    "df.query('sentiment==\"negative\"')['review'].head(10)[11]"
   ]
  },
  {
   "cell_type": "markdown",
   "metadata": {},
   "source": [
    "# Sentiment analysis using spacy"
   ]
  },
  {
   "cell_type": "code",
   "execution_count": 4,
   "metadata": {},
   "outputs": [
    {
     "ename": "ModuleNotFoundError",
     "evalue": "No module named 'spacytextblob'",
     "output_type": "error",
     "traceback": [
      "\u001b[1;31m---------------------------------------------------------------------------\u001b[0m",
      "\u001b[1;31mModuleNotFoundError\u001b[0m                       Traceback (most recent call last)",
      "\u001b[1;32m~\\AppData\\Local\\Temp\\ipykernel_27564\\1874846113.py\u001b[0m in \u001b[0;36m<module>\u001b[1;34m\u001b[0m\n\u001b[0;32m      1\u001b[0m \u001b[1;32mimport\u001b[0m \u001b[0mspacy\u001b[0m\u001b[1;33m\u001b[0m\u001b[1;33m\u001b[0m\u001b[0m\n\u001b[0;32m      2\u001b[0m \u001b[1;32mimport\u001b[0m \u001b[0mpandas\u001b[0m \u001b[1;32mas\u001b[0m \u001b[0mpd\u001b[0m\u001b[1;33m\u001b[0m\u001b[1;33m\u001b[0m\u001b[0m\n\u001b[1;32m----> 3\u001b[1;33m \u001b[1;32mfrom\u001b[0m \u001b[0mspacytextblob\u001b[0m\u001b[1;33m.\u001b[0m\u001b[0mspacytextblob\u001b[0m \u001b[1;32mimport\u001b[0m \u001b[0mSpacyTextBlob\u001b[0m\u001b[1;33m\u001b[0m\u001b[1;33m\u001b[0m\u001b[0m\n\u001b[0m",
      "\u001b[1;31mModuleNotFoundError\u001b[0m: No module named 'spacytextblob'"
     ]
    }
   ],
   "source": [
    "import spacy\n",
    "import pandas as pd\n",
    "from spacytextblob.spacytextblob import SpacyTextBlob"
   ]
  },
  {
   "cell_type": "markdown",
   "metadata": {},
   "source": [
    "Making function to load spacy models"
   ]
  },
  {
   "cell_type": "code",
   "execution_count": 5,
   "metadata": {},
   "outputs": [],
   "source": [
    "def calculate_sentiment_score(df):\n",
    "    language = df['language']\n",
    "    review = df['clean_review']\n",
    "\n",
    "    if language == 'es':\n",
    "        model = spacy.load('es_dep_news_trf')\n",
    "        model.add_pipe('spacytextblob')\n",
    "    elif language == 'pt':\n",
    "        model = spacy.load('pt_core_news_lg')\n",
    "        model.add_pipe('spacytextblob')\n",
    "    elif language == 'it':\n",
    "        model = spacy.load('it_core_news_lg')\n",
    "        model.add_pipe('spacytextblob')\n",
    "    elif language == 'fr':\n",
    "        model = spacy.load('fr_dep_news_trf')\n",
    "        model.add_pipe('spacytextblob')\n",
    "    elif language == 'de':\n",
    "        model = spacy.load('de_dep_news_trf')\n",
    "        model.add_pipe('spacytextblob')\n",
    "    else:\n",
    "        model = spacy.load('en_core_web_trf')\n",
    "        model.add_pipe('spacytextblob')\n",
    "\n",
    "    doc = model(review)\n",
    "    sentiment_score= doc._.blob.polarity\n",
    "    sentiment_score= round(sentiment_score, 2)\n",
    "    return sentiment_score\n"
   ]
  },
  {
   "cell_type": "code",
   "execution_count": 6,
   "metadata": {},
   "outputs": [],
   "source": [
    "def classify_sentiment(score):\n",
    "\n",
    "    if score>0:\n",
    "        sentiment='positive'\n",
    "    else:\n",
    "        sentiment='negative'\n",
    "    return sentiment\n"
   ]
  },
  {
   "cell_type": "markdown",
   "metadata": {},
   "source": [
    "# Data conversions"
   ]
  },
  {
   "cell_type": "code",
   "execution_count": 81,
   "metadata": {},
   "outputs": [],
   "source": [
    "df=pd.read_csv('clean_data_spacy_sentiment_24102022.csv')"
   ]
  },
  {
   "cell_type": "code",
   "execution_count": 82,
   "metadata": {},
   "outputs": [
    {
     "data": {
      "text/plain": [
       "Index(['name', 'review', 'reviewer_stats', 'ratings_given', 'review_like',\n",
       "       'author', 'num_author_books', 'num_author_followers',\n",
       "       'reviewer_reviews', 'reviewer_followers', 'ratings_given_out_of_5',\n",
       "       'review_likes', 'review_comments', 'language', 'clean_review',\n",
       "       'sentiment_score', 'sentiment'],\n",
       "      dtype='object')"
      ]
     },
     "execution_count": 82,
     "metadata": {},
     "output_type": "execute_result"
    }
   ],
   "source": [
    "df.columns"
   ]
  },
  {
   "cell_type": "code",
   "execution_count": 83,
   "metadata": {},
   "outputs": [],
   "source": [
    "df=df.drop(['reviewer_stats','ratings_given','review_like'],axis=1).copy()"
   ]
  },
  {
   "cell_type": "code",
   "execution_count": 56,
   "metadata": {},
   "outputs": [
    {
     "data": {
      "text/html": [
       "<div>\n",
       "<style scoped>\n",
       "    .dataframe tbody tr th:only-of-type {\n",
       "        vertical-align: middle;\n",
       "    }\n",
       "\n",
       "    .dataframe tbody tr th {\n",
       "        vertical-align: top;\n",
       "    }\n",
       "\n",
       "    .dataframe thead th {\n",
       "        text-align: right;\n",
       "    }\n",
       "</style>\n",
       "<table border=\"1\" class=\"dataframe\">\n",
       "  <thead>\n",
       "    <tr style=\"text-align: right;\">\n",
       "      <th></th>\n",
       "      <th>name</th>\n",
       "      <th>review</th>\n",
       "      <th>author</th>\n",
       "      <th>num_author_books</th>\n",
       "      <th>num_author_followers</th>\n",
       "      <th>reviewer_reviews</th>\n",
       "      <th>reviewer_followers</th>\n",
       "      <th>ratings_given_out_of_5</th>\n",
       "      <th>review_likes</th>\n",
       "      <th>review_comments</th>\n",
       "      <th>language</th>\n",
       "      <th>clean_review</th>\n",
       "      <th>sentiment_score</th>\n",
       "      <th>sentiment</th>\n",
       "    </tr>\n",
       "  </thead>\n",
       "  <tbody>\n",
       "    <tr>\n",
       "      <th>0</th>\n",
       "      <td>Ahmad Sharabiani</td>\n",
       "      <td>Leviathan, or The Matter, Forme and Power of a...</td>\n",
       "      <td>False</td>\n",
       "      <td>NaN</td>\n",
       "      <td>NaN</td>\n",
       "      <td>9,569</td>\n",
       "      <td>56000.0</td>\n",
       "      <td>4.0</td>\n",
       "      <td>165.0</td>\n",
       "      <td>NaN</td>\n",
       "      <td>fa</td>\n",
       "      <td>Leviathan, The Matter, Forme Power Common Weal...</td>\n",
       "      <td>0.02</td>\n",
       "      <td>positive</td>\n",
       "    </tr>\n",
       "    <tr>\n",
       "      <th>1</th>\n",
       "      <td>Yasiru</td>\n",
       "      <td>Since some reviewers here seem to rate this wo...</td>\n",
       "      <td>False</td>\n",
       "      <td>NaN</td>\n",
       "      <td>NaN</td>\n",
       "      <td>197</td>\n",
       "      <td>115</td>\n",
       "      <td>5.0</td>\n",
       "      <td>138.0</td>\n",
       "      <td>4.0</td>\n",
       "      <td>en</td>\n",
       "      <td>Since reviewers seem rate work unfairly low di...</td>\n",
       "      <td>0.15</td>\n",
       "      <td>positive</td>\n",
       "    </tr>\n",
       "    <tr>\n",
       "      <th>2</th>\n",
       "      <td>Czarny Pies</td>\n",
       "      <td>Both the conclusions and methodology of \"Levia...</td>\n",
       "      <td>False</td>\n",
       "      <td>NaN</td>\n",
       "      <td>NaN</td>\n",
       "      <td>2,412</td>\n",
       "      <td>1</td>\n",
       "      <td>5.0</td>\n",
       "      <td>50.0</td>\n",
       "      <td>4.0</td>\n",
       "      <td>en</td>\n",
       "      <td>Both conclusions methodology \"Leviathan\" shock...</td>\n",
       "      <td>0.07</td>\n",
       "      <td>positive</td>\n",
       "    </tr>\n",
       "  </tbody>\n",
       "</table>\n",
       "</div>"
      ],
      "text/plain": [
       "               name                                             review  \\\n",
       "0  Ahmad Sharabiani  Leviathan, or The Matter, Forme and Power of a...   \n",
       "1            Yasiru  Since some reviewers here seem to rate this wo...   \n",
       "2       Czarny Pies  Both the conclusions and methodology of \"Levia...   \n",
       "\n",
       "   author  num_author_books  num_author_followers reviewer_reviews  \\\n",
       "0   False               NaN                   NaN            9,569   \n",
       "1   False               NaN                   NaN              197   \n",
       "2   False               NaN                   NaN            2,412   \n",
       "\n",
       "  reviewer_followers  ratings_given_out_of_5  review_likes  review_comments  \\\n",
       "0            56000.0                     4.0         165.0              NaN   \n",
       "1                115                     5.0         138.0              4.0   \n",
       "2                  1                     5.0          50.0              4.0   \n",
       "\n",
       "  language                                       clean_review  \\\n",
       "0       fa  Leviathan, The Matter, Forme Power Common Weal...   \n",
       "1       en  Since reviewers seem rate work unfairly low di...   \n",
       "2       en  Both conclusions methodology \"Leviathan\" shock...   \n",
       "\n",
       "   sentiment_score sentiment  \n",
       "0             0.02  positive  \n",
       "1             0.15  positive  \n",
       "2             0.07  positive  "
      ]
     },
     "execution_count": 56,
     "metadata": {},
     "output_type": "execute_result"
    }
   ],
   "source": [
    "df.head(3)"
   ]
  },
  {
   "cell_type": "code",
   "execution_count": 57,
   "metadata": {},
   "outputs": [
    {
     "data": {
      "text/plain": [
       "name                       object\n",
       "review                     object\n",
       "author                       bool\n",
       "num_author_books          float64\n",
       "num_author_followers      float64\n",
       "reviewer_reviews           object\n",
       "reviewer_followers         object\n",
       "ratings_given_out_of_5    float64\n",
       "review_likes              float64\n",
       "review_comments           float64\n",
       "language                   object\n",
       "clean_review               object\n",
       "sentiment_score           float64\n",
       "sentiment                  object\n",
       "dtype: object"
      ]
     },
     "execution_count": 57,
     "metadata": {},
     "output_type": "execute_result"
    }
   ],
   "source": [
    "df.dtypes"
   ]
  },
  {
   "cell_type": "markdown",
   "metadata": {
    "tags": []
   },
   "source": [
    "## Need to convert to float:\n",
    "    1. reviewer reviews\n",
    "    2. reviewer followers\n",
    "    "
   ]
  },
  {
   "cell_type": "code",
   "execution_count": 63,
   "metadata": {},
   "outputs": [],
   "source": [
    "df['reviewer_reviews']=df['reviewer_reviews'].str.replace(',','')"
   ]
  },
  {
   "cell_type": "markdown",
   "metadata": {},
   "source": [
    "Need to convert to float then to integer"
   ]
  },
  {
   "cell_type": "code",
   "execution_count": 64,
   "metadata": {},
   "outputs": [],
   "source": [
    "df['reviewer_reviews']=df['reviewer_reviews'].astype(float).astype(\"Int64\")"
   ]
  },
  {
   "cell_type": "code",
   "execution_count": 65,
   "metadata": {},
   "outputs": [
    {
     "data": {
      "text/plain": [
       "0     9569\n",
       "1      197\n",
       "2     2412\n",
       "3     1101\n",
       "4      155\n",
       "5     1756\n",
       "6      393\n",
       "7      140\n",
       "8      132\n",
       "9       70\n",
       "10    <NA>\n",
       "11     288\n",
       "12      46\n",
       "13     394\n",
       "14    2659\n",
       "15     659\n",
       "16      48\n",
       "17    <NA>\n",
       "18     386\n",
       "19     491\n",
       "20    1405\n",
       "21     730\n",
       "22    <NA>\n",
       "23    2332\n",
       "24     919\n",
       "25      26\n",
       "26      46\n",
       "27    2481\n",
       "28    1517\n",
       "29     107\n",
       "30     590\n",
       "31     132\n",
       "32    4137\n",
       "33     593\n",
       "34    <NA>\n",
       "35      10\n",
       "36     310\n",
       "37     182\n",
       "38     133\n",
       "39       5\n",
       "40     199\n",
       "41     102\n",
       "42     590\n",
       "43     757\n",
       "44      77\n",
       "45     363\n",
       "46     432\n",
       "47     191\n",
       "48      13\n",
       "49     164\n",
       "Name: reviewer_reviews, dtype: Int64"
      ]
     },
     "execution_count": 65,
     "metadata": {},
     "output_type": "execute_result"
    }
   ],
   "source": [
    "df['reviewer_reviews'].head(50)"
   ]
  },
  {
   "cell_type": "markdown",
   "metadata": {},
   "source": [
    "#### Converting reviewer followers"
   ]
  },
  {
   "cell_type": "code",
   "execution_count": 60,
   "metadata": {},
   "outputs": [],
   "source": [
    "df['reviewer_followers']=df['reviewer_followers'].str.replace(',','')"
   ]
  },
  {
   "cell_type": "code",
   "execution_count": 61,
   "metadata": {},
   "outputs": [],
   "source": [
    "df['reviewer_followers']=df['reviewer_followers'].astype(float).astype(\"Int64\")"
   ]
  },
  {
   "cell_type": "code",
   "execution_count": 84,
   "metadata": {},
   "outputs": [
    {
     "data": {
      "text/plain": [
       "name                       object\n",
       "review                     object\n",
       "author                       bool\n",
       "num_author_books          float64\n",
       "num_author_followers      float64\n",
       "reviewer_reviews           object\n",
       "reviewer_followers         object\n",
       "ratings_given_out_of_5    float64\n",
       "review_likes              float64\n",
       "review_comments           float64\n",
       "language                   object\n",
       "clean_review               object\n",
       "sentiment_score           float64\n",
       "sentiment                  object\n",
       "dtype: object"
      ]
     },
     "execution_count": 84,
     "metadata": {},
     "output_type": "execute_result"
    }
   ],
   "source": [
    "df.dtypes"
   ]
  },
  {
   "cell_type": "code",
   "execution_count": 79,
   "metadata": {},
   "outputs": [],
   "source": [
    "df['review_comments'] = df['review_comments'].astype(float).astype(\"Int32\")"
   ]
  },
  {
   "cell_type": "markdown",
   "metadata": {},
   "source": [
    "# Data validation 1(after scraping, bfr data cleaning)"
   ]
  },
  {
   "cell_type": "code",
   "execution_count": 40,
   "metadata": {},
   "outputs": [],
   "source": [
    "import pandas as pd"
   ]
  },
  {
   "cell_type": "code",
   "execution_count": 30,
   "metadata": {},
   "outputs": [
    {
     "name": "stdout",
     "output_type": "stream",
     "text": [
      "Collecting pandera\n",
      "  Using cached pandera-0.13.3-py3-none-any.whl (120 kB)\n",
      "Collecting typing-inspect>=0.6.0\n",
      "  Using cached typing_inspect-0.8.0-py3-none-any.whl (8.7 kB)\n",
      "Requirement already satisfied: pandas>=1.2.0 in c:\\users\\aliff\\appdata\\local\\programs\\python\\python37\\lib\\site-packages (from pandera) (1.3.5)\n",
      "Requirement already satisfied: numpy>=1.19.0 in c:\\users\\aliff\\appdata\\local\\programs\\python\\python37\\lib\\site-packages (from pandera) (1.21.5)\n",
      "Requirement already satisfied: pydantic in c:\\users\\aliff\\appdata\\local\\programs\\python\\python37\\lib\\site-packages (from pandera) (1.9.2)\n",
      "Requirement already satisfied: packaging>=20.0 in c:\\users\\aliff\\appdata\\local\\programs\\python\\python37\\lib\\site-packages (from pandera) (21.3)\n",
      "Requirement already satisfied: typing-extensions>=3.7.4.3; python_version < \"3.8\" in c:\\users\\aliff\\appdata\\local\\programs\\python\\python37\\lib\\site-packages (from pandera) (4.1.1)\n",
      "Requirement already satisfied: wrapt in c:\\users\\aliff\\appdata\\local\\programs\\python\\python37\\lib\\site-packages (from pandera) (1.14.1)\n",
      "Collecting mypy-extensions>=0.3.0\n",
      "  Using cached mypy_extensions-0.4.3-py2.py3-none-any.whl (4.5 kB)\n",
      "Requirement already satisfied: python-dateutil>=2.7.3 in c:\\users\\aliff\\appdata\\local\\programs\\python\\python37\\lib\\site-packages (from pandas>=1.2.0->pandera) (2.8.2)\n",
      "Requirement already satisfied: pytz>=2017.3 in c:\\users\\aliff\\appdata\\local\\programs\\python\\python37\\lib\\site-packages (from pandas>=1.2.0->pandera) (2022.1)\n",
      "Requirement already satisfied: pyparsing!=3.0.5,>=2.0.2 in c:\\users\\aliff\\appdata\\local\\programs\\python\\python37\\lib\\site-packages (from packaging>=20.0->pandera) (3.0.7)\n",
      "Requirement already satisfied: six>=1.5 in c:\\users\\aliff\\appdata\\local\\programs\\python\\python37\\lib\\site-packages (from python-dateutil>=2.7.3->pandas>=1.2.0->pandera) (1.16.0)\n",
      "Installing collected packages: mypy-extensions, typing-inspect, pandera\n",
      "Successfully installed mypy-extensions-0.4.3 pandera-0.13.3 typing-inspect-0.8.0\n",
      "Note: you may need to restart the kernel to use updated packages.\n"
     ]
    },
    {
     "name": "stderr",
     "output_type": "stream",
     "text": [
      "WARNING: You are using pip version 20.1.1; however, version 22.3 is available.\n",
      "You should consider upgrading via the 'c:\\users\\aliff\\appdata\\local\\programs\\python\\python37\\python.exe -m pip install --upgrade pip' command.\n"
     ]
    }
   ],
   "source": [
    "pip install pandera"
   ]
  },
  {
   "cell_type": "code",
   "execution_count": 41,
   "metadata": {},
   "outputs": [],
   "source": [
    "df=pd.read_csv('use_this_for_validation_after_data_cleaning.csv')"
   ]
  },
  {
   "cell_type": "code",
   "execution_count": 42,
   "metadata": {},
   "outputs": [],
   "source": [
    "df['reviewer_reviews'] = df['reviewer_reviews'].astype(float).astype(\"Int32\")\n",
    "\n",
    "df['reviewer_followers'] = df['reviewer_followers'].astype(float).astype(\"Int32\")\n",
    "\n",
    "\n",
    "\n",
    "df['num_author_books'] = df['num_author_books'].astype(float).astype(\"Int32\")\n",
    "\n",
    "\n",
    "df['num_author_followers'] = df['num_author_followers'].astype(float).astype(\"Int32\")\n",
    "\n",
    "df['ratings_given_out_of_5'] = df['ratings_given_out_of_5'].astype(float).astype(\"Int8\")\n",
    "\n",
    "\n",
    "df['review_likes'] = df['review_likes'].astype(float).astype(\"Int32\")\n",
    "\n",
    "\n",
    "df['review_comments'] = df['review_comments'].astype(float).astype(\"Int32\")"
   ]
  },
  {
   "cell_type": "code",
   "execution_count": 31,
   "metadata": {},
   "outputs": [
    {
     "data": {
      "text/plain": [
       "14"
      ]
     },
     "execution_count": 31,
     "metadata": {},
     "output_type": "execute_result"
    }
   ],
   "source": [
    "df.shape[1]"
   ]
  },
  {
   "cell_type": "code",
   "execution_count": 37,
   "metadata": {},
   "outputs": [],
   "source": [
    "def check_num_columns(df):\n",
    "\n",
    "    if df.shape[1]==14:\n",
    "        pass\n",
    "    else:\n",
    "        return \"Invalid number of columns\""
   ]
  },
  {
   "cell_type": "code",
   "execution_count": 36,
   "metadata": {},
   "outputs": [
    {
     "name": "stdout",
     "output_type": "stream",
     "text": [
      "suii\n"
     ]
    }
   ],
   "source": [
    "check_num_columns(df)"
   ]
  },
  {
   "cell_type": "code",
   "execution_count": 43,
   "metadata": {},
   "outputs": [
    {
     "data": {
      "text/plain": [
       "Index(['name', 'review', 'author', 'num_author_books', 'num_author_followers',\n",
       "       'reviewer_reviews', 'reviewer_followers', 'ratings_given_out_of_5',\n",
       "       'review_likes', 'review_comments', 'language', 'clean_review',\n",
       "       'sentiment_score', 'sentiment'],\n",
       "      dtype='object')"
      ]
     },
     "execution_count": 43,
     "metadata": {},
     "output_type": "execute_result"
    }
   ],
   "source": [
    "df.columns"
   ]
  },
  {
   "cell_type": "code",
   "execution_count": 45,
   "metadata": {},
   "outputs": [
    {
     "data": {
      "text/plain": [
       "name                       object\n",
       "review                     object\n",
       "author                       bool\n",
       "num_author_books            Int32\n",
       "num_author_followers        Int32\n",
       "reviewer_reviews            Int32\n",
       "reviewer_followers          Int32\n",
       "ratings_given_out_of_5       Int8\n",
       "review_likes                Int32\n",
       "review_comments             Int32\n",
       "language                   object\n",
       "clean_review               object\n",
       "sentiment_score           float64\n",
       "sentiment                  object\n",
       "dtype: object"
      ]
     },
     "execution_count": 45,
     "metadata": {},
     "output_type": "execute_result"
    }
   ],
   "source": [
    "df.dtypes"
   ]
  },
  {
   "cell_type": "markdown",
   "metadata": {
    "tags": []
   },
   "source": [
    "### Checking for all columns if it is avalaible or not"
   ]
  },
  {
   "cell_type": "code",
   "execution_count": 53,
   "metadata": {},
   "outputs": [
    {
     "data": {
      "text/plain": [
       "pandera.dtypes.Int8"
      ]
     },
     "execution_count": 54,
     "metadata": {},
     "output_type": "execute_result"
    }
   ],
   "source": [
    "pa.dtypes.Int32"
   ]
  },
  {
   "cell_type": "code",
   "execution_count": 10,
   "metadata": {},
   "outputs": [
    {
     "name": "stdout",
     "output_type": "stream",
     "text": [
      "                 name                                             review  \\\n",
      "0    Ahmad Sharabiani  Leviathan, or The Matter, Forme and Power of a...   \n",
      "1              Yasiru  Since some reviewers here seem to rate this wo...   \n",
      "2         Czarny Pies  Both the conclusions and methodology of \"Levia...   \n",
      "3               E. G.  Preface\\nA Scheme of Reference\\nIntroduction\\n...   \n",
      "4          امیر لطیفی  هدفِ اصلی کتاب پاسخ به این پرسش است: چرا به دو...   \n",
      "..                ...                                                ...   \n",
      "754    AbsurdThoughts                               only the first third   \n",
      "755             Ollie                               wasn't hobbes a knob   \n",
      "756            Malica  Very interesting and thought provoking at time...   \n",
      "757   Rebecca Crunden                                        Ah, Hobbes.   \n",
      "758       Kakada Yeun                         I WAN TO KNOW HOW IT WORK?   \n",
      "\n",
      "     author  num_author_books  num_author_followers  reviewer_reviews  \\\n",
      "0     False              <NA>                  <NA>              9569   \n",
      "1     False              <NA>                  <NA>               197   \n",
      "2     False              <NA>                  <NA>              2412   \n",
      "3     False              <NA>                  <NA>              1101   \n",
      "4     False              <NA>                  <NA>               155   \n",
      "..      ...               ...                   ...               ...   \n",
      "754   False              <NA>                  <NA>                 2   \n",
      "755   False              <NA>                  <NA>                95   \n",
      "756   False              <NA>                  <NA>               151   \n",
      "757    True                14                   345              <NA>   \n",
      "758   False              <NA>                  <NA>                 1   \n",
      "\n",
      "     reviewer_followers  ratings_given_out_of_5  review_likes  \\\n",
      "0                 56000                       4           165   \n",
      "1                   115                       5           138   \n",
      "2                     1                       5            50   \n",
      "3                   662                       4            41   \n",
      "4                   156                       3            31   \n",
      "..                  ...                     ...           ...   \n",
      "754                <NA>                    <NA>          <NA>   \n",
      "755                   1                    <NA>          <NA>   \n",
      "756                   2                       3          <NA>   \n",
      "757                <NA>                    <NA>          <NA>   \n",
      "758                <NA>                    <NA>          <NA>   \n",
      "\n",
      "     review_comments language  \\\n",
      "0               <NA>       fa   \n",
      "1                  4       en   \n",
      "2                  4       en   \n",
      "3                  2       en   \n",
      "4               <NA>       fa   \n",
      "..               ...      ...   \n",
      "754             <NA>       en   \n",
      "755             <NA>       en   \n",
      "756             <NA>       en   \n",
      "757             <NA>       en   \n",
      "758             <NA>       en   \n",
      "\n",
      "                                          clean_review  sentiment_score  \\\n",
      "0    Leviathan, The Matter, Forme Power Common Weal...             0.02   \n",
      "1    Since reviewers seem rate work unfairly low di...             0.15   \n",
      "2    Both conclusions methodology \"Leviathan\" shock...             0.07   \n",
      "3    Preface A Scheme Reference Introduction A Note...             0.00   \n",
      "4    هدفِ اصلی کتاب پاسخ به این پرسش است: چرا به دو...             0.00   \n",
      "..                                                 ...              ...   \n",
      "754                                        first third             0.12   \n",
      "755                                        hobbes knob             0.00   \n",
      "756  Very interesting thought provoking times—elusi...             0.18   \n",
      "757                                        Ah, Hobbes.             0.00   \n",
      "758                         I WAN TO KNOW HOW IT WORK?            -0.20   \n",
      "\n",
      "    sentiment  \n",
      "0    positive  \n",
      "1    positive  \n",
      "2    positive  \n",
      "3    negative  \n",
      "4    negative  \n",
      "..        ...  \n",
      "754  positive  \n",
      "755  negative  \n",
      "756  positive  \n",
      "757  negative  \n",
      "758  negative  \n",
      "\n",
      "[759 rows x 14 columns]\n"
     ]
    }
   ],
   "source": [
    "import pandas as pd\n",
    "import pandera as pa\n",
    "\n",
    "from pandera import Column, DataFrameSchema\n",
    "from pandera.errors import SchemaErrors\n",
    "\n",
    "def required_columns_validation(df):\n",
    "    try:\n",
    "        schema = DataFrameSchema({\n",
    "            \"name\": Column(object),\n",
    "            \"review\": Column(object),\n",
    "            \"author\": Column(bool),\n",
    "            \"num_author_books\": Column(pa.dtypes.Int32, required=False,nullable=True),\n",
    "            \"num_author_followers\": Column(pa.dtypes.Int32, required=False,nullable=True),\n",
    "            \"reviewer_reviews\": Column(pa.dtypes.Int32, required=False,nullable=True),\n",
    "            \"reviewer_followers\": Column(pa.dtypes.Int32, required=False,nullable=True),\n",
    "            \"ratings_given_out_of_5\": Column(pa.dtypes.Int8,nullable=True),\n",
    "            \"review_likes\": Column(pa.dtypes.Int32,required=False,nullable=True),\n",
    "            \"review_comments\": Column(pa.dtypes.Int32,required=False,nullable=True),\n",
    "            \"language\": Column(object),\n",
    "            \"clean_review\": Column(object),\n",
    "            \"sentiment_score\": Column(float),\n",
    "            \"sentiment\": Column(object)    \n",
    "        })\n",
    "        validated_df = schema.validate(df)\n",
    "        print(validated_df)\n",
    "    except SchemaErrors as err:\n",
    "            return err.failure_cases\n",
    "        \n",
    "        \n",
    "        \n",
    "required_columns_validation(df)\n",
    "    \n",
    "# validated_df = schema.validate(df)\n",
    "# print(validated_df)"
   ]
  },
  {
   "cell_type": "markdown",
   "metadata": {},
   "source": [
    "# Perform checkings for certain columns"
   ]
  },
  {
   "cell_type": "code",
   "execution_count": 15,
   "metadata": {},
   "outputs": [],
   "source": [
    "df=pd.read_csv('use_this_for_validation_after_data_cleaning.csv',index_col=False)"
   ]
  },
  {
   "cell_type": "code",
   "execution_count": 4,
   "metadata": {},
   "outputs": [
    {
     "data": {
      "text/plain": [
       "name                       object\n",
       "review                     object\n",
       "author                       bool\n",
       "num_author_books          float64\n",
       "num_author_followers      float64\n",
       "reviewer_reviews          float64\n",
       "reviewer_followers        float64\n",
       "ratings_given_out_of_5    float64\n",
       "review_likes              float64\n",
       "review_comments           float64\n",
       "language                   object\n",
       "clean_review               object\n",
       "sentiment_score           float64\n",
       "sentiment                  object\n",
       "dtype: object"
      ]
     },
     "execution_count": 4,
     "metadata": {},
     "output_type": "execute_result"
    }
   ],
   "source": [
    "df.dtypes"
   ]
  },
  {
   "cell_type": "code",
   "execution_count": 80,
   "metadata": {},
   "outputs": [],
   "source": [
    "df['reviewer_reviews'] = df['reviewer_reviews'].astype(float).astype(\"Int32\")\n",
    "\n",
    "df['reviewer_followers'] = df['reviewer_followers'].astype(float).astype(\"Int32\")\n",
    "\n",
    "\n",
    "\n",
    "df['num_author_books'] = df['num_author_books'].astype(float).astype(\"Int32\")\n",
    "\n",
    "\n",
    "df['num_author_followers'] = df['num_author_followers'].astype(float).astype(\"Int32\")\n",
    "\n",
    "df['ratings_given_out_of_5'] = df['ratings_given_out_of_5'].astype(float).astype(\"Int8\")\n",
    "\n",
    "\n",
    "df['review_likes'] = df['review_likes'].astype(float).astype(\"Int32\")\n",
    "\n",
    "\n",
    "df['review_comments'] = df['review_comments'].astype(float).astype(\"Int32\")"
   ]
  },
  {
   "cell_type": "code",
   "execution_count": 81,
   "metadata": {},
   "outputs": [
    {
     "data": {
      "text/plain": [
       "name                       object\n",
       "review                     object\n",
       "author                       bool\n",
       "num_author_books            Int32\n",
       "num_author_followers        Int32\n",
       "reviewer_reviews            Int32\n",
       "reviewer_followers          Int32\n",
       "ratings_given_out_of_5       Int8\n",
       "review_likes                Int32\n",
       "review_comments             Int32\n",
       "language                   object\n",
       "clean_review               object\n",
       "sentiment_score           float64\n",
       "sentiment                  object\n",
       "dtype: object"
      ]
     },
     "execution_count": 81,
     "metadata": {},
     "output_type": "execute_result"
    }
   ],
   "source": [
    "df.dtypes"
   ]
  },
  {
   "cell_type": "code",
   "execution_count": 125,
   "metadata": {},
   "outputs": [
    {
     "data": {
      "text/html": [
       "<div>\n",
       "<style scoped>\n",
       "    .dataframe tbody tr th:only-of-type {\n",
       "        vertical-align: middle;\n",
       "    }\n",
       "\n",
       "    .dataframe tbody tr th {\n",
       "        vertical-align: top;\n",
       "    }\n",
       "\n",
       "    .dataframe thead th {\n",
       "        text-align: right;\n",
       "    }\n",
       "</style>\n",
       "<table border=\"1\" class=\"dataframe\">\n",
       "  <thead>\n",
       "    <tr style=\"text-align: right;\">\n",
       "      <th></th>\n",
       "      <th>name</th>\n",
       "      <th>review</th>\n",
       "      <th>author</th>\n",
       "      <th>num_author_books</th>\n",
       "      <th>num_author_followers</th>\n",
       "      <th>reviewer_reviews</th>\n",
       "      <th>reviewer_followers</th>\n",
       "      <th>ratings_given_out_of_5</th>\n",
       "      <th>review_likes</th>\n",
       "      <th>review_comments</th>\n",
       "      <th>language</th>\n",
       "      <th>clean_review</th>\n",
       "      <th>sentiment_score</th>\n",
       "      <th>sentiment</th>\n",
       "    </tr>\n",
       "  </thead>\n",
       "  <tbody>\n",
       "    <tr>\n",
       "      <th>0</th>\n",
       "      <td>Ahmad Sharabiani</td>\n",
       "      <td>Leviathan, or The Matter, Forme and Power of a...</td>\n",
       "      <td>False</td>\n",
       "      <td>&lt;NA&gt;</td>\n",
       "      <td>&lt;NA&gt;</td>\n",
       "      <td>9569</td>\n",
       "      <td>56000</td>\n",
       "      <td>4</td>\n",
       "      <td>165</td>\n",
       "      <td>&lt;NA&gt;</td>\n",
       "      <td>fa</td>\n",
       "      <td>Leviathan, The Matter, Forme Power Common Weal...</td>\n",
       "      <td>0.02</td>\n",
       "      <td>positive</td>\n",
       "    </tr>\n",
       "    <tr>\n",
       "      <th>1</th>\n",
       "      <td>Yasiru</td>\n",
       "      <td>Since some reviewers here seem to rate this wo...</td>\n",
       "      <td>False</td>\n",
       "      <td>&lt;NA&gt;</td>\n",
       "      <td>&lt;NA&gt;</td>\n",
       "      <td>197</td>\n",
       "      <td>115</td>\n",
       "      <td>5</td>\n",
       "      <td>138</td>\n",
       "      <td>4</td>\n",
       "      <td>en</td>\n",
       "      <td>Since reviewers seem rate work unfairly low di...</td>\n",
       "      <td>0.15</td>\n",
       "      <td>positive</td>\n",
       "    </tr>\n",
       "    <tr>\n",
       "      <th>2</th>\n",
       "      <td>Czarny Pies</td>\n",
       "      <td>Both the conclusions and methodology of \"Levia...</td>\n",
       "      <td>False</td>\n",
       "      <td>&lt;NA&gt;</td>\n",
       "      <td>&lt;NA&gt;</td>\n",
       "      <td>2412</td>\n",
       "      <td>1</td>\n",
       "      <td>5</td>\n",
       "      <td>50</td>\n",
       "      <td>4</td>\n",
       "      <td>en</td>\n",
       "      <td>Both conclusions methodology \"Leviathan\" shock...</td>\n",
       "      <td>0.07</td>\n",
       "      <td>positive</td>\n",
       "    </tr>\n",
       "    <tr>\n",
       "      <th>3</th>\n",
       "      <td>E. G.</td>\n",
       "      <td>Preface\\nA Scheme of Reference\\nIntroduction\\n...</td>\n",
       "      <td>False</td>\n",
       "      <td>&lt;NA&gt;</td>\n",
       "      <td>&lt;NA&gt;</td>\n",
       "      <td>1101</td>\n",
       "      <td>662</td>\n",
       "      <td>4</td>\n",
       "      <td>41</td>\n",
       "      <td>2</td>\n",
       "      <td>en</td>\n",
       "      <td>Preface A Scheme Reference Introduction A Note...</td>\n",
       "      <td>0.00</td>\n",
       "      <td>negative</td>\n",
       "    </tr>\n",
       "    <tr>\n",
       "      <th>4</th>\n",
       "      <td>امیر لطیفی</td>\n",
       "      <td>هدفِ اصلی کتاب پاسخ به این پرسش است: چرا به دو...</td>\n",
       "      <td>False</td>\n",
       "      <td>&lt;NA&gt;</td>\n",
       "      <td>&lt;NA&gt;</td>\n",
       "      <td>155</td>\n",
       "      <td>156</td>\n",
       "      <td>3</td>\n",
       "      <td>31</td>\n",
       "      <td>&lt;NA&gt;</td>\n",
       "      <td>fa</td>\n",
       "      <td>هدفِ اصلی کتاب پاسخ به این پرسش است: چرا به دو...</td>\n",
       "      <td>0.00</td>\n",
       "      <td>negative</td>\n",
       "    </tr>\n",
       "    <tr>\n",
       "      <th>...</th>\n",
       "      <td>...</td>\n",
       "      <td>...</td>\n",
       "      <td>...</td>\n",
       "      <td>...</td>\n",
       "      <td>...</td>\n",
       "      <td>...</td>\n",
       "      <td>...</td>\n",
       "      <td>...</td>\n",
       "      <td>...</td>\n",
       "      <td>...</td>\n",
       "      <td>...</td>\n",
       "      <td>...</td>\n",
       "      <td>...</td>\n",
       "      <td>...</td>\n",
       "    </tr>\n",
       "    <tr>\n",
       "      <th>754</th>\n",
       "      <td>AbsurdThoughts</td>\n",
       "      <td>only the first third</td>\n",
       "      <td>False</td>\n",
       "      <td>&lt;NA&gt;</td>\n",
       "      <td>&lt;NA&gt;</td>\n",
       "      <td>2</td>\n",
       "      <td>&lt;NA&gt;</td>\n",
       "      <td>&lt;NA&gt;</td>\n",
       "      <td>&lt;NA&gt;</td>\n",
       "      <td>&lt;NA&gt;</td>\n",
       "      <td>en</td>\n",
       "      <td>first third</td>\n",
       "      <td>0.12</td>\n",
       "      <td>positive</td>\n",
       "    </tr>\n",
       "    <tr>\n",
       "      <th>755</th>\n",
       "      <td>Ollie</td>\n",
       "      <td>wasn't hobbes a knob</td>\n",
       "      <td>False</td>\n",
       "      <td>&lt;NA&gt;</td>\n",
       "      <td>&lt;NA&gt;</td>\n",
       "      <td>95</td>\n",
       "      <td>1</td>\n",
       "      <td>&lt;NA&gt;</td>\n",
       "      <td>&lt;NA&gt;</td>\n",
       "      <td>&lt;NA&gt;</td>\n",
       "      <td>en</td>\n",
       "      <td>hobbes knob</td>\n",
       "      <td>0.00</td>\n",
       "      <td>negative</td>\n",
       "    </tr>\n",
       "    <tr>\n",
       "      <th>756</th>\n",
       "      <td>Malica</td>\n",
       "      <td>Very interesting and thought provoking at time...</td>\n",
       "      <td>False</td>\n",
       "      <td>&lt;NA&gt;</td>\n",
       "      <td>&lt;NA&gt;</td>\n",
       "      <td>151</td>\n",
       "      <td>2</td>\n",
       "      <td>3</td>\n",
       "      <td>&lt;NA&gt;</td>\n",
       "      <td>&lt;NA&gt;</td>\n",
       "      <td>en</td>\n",
       "      <td>Very interesting thought provoking times—elusi...</td>\n",
       "      <td>0.18</td>\n",
       "      <td>positive</td>\n",
       "    </tr>\n",
       "    <tr>\n",
       "      <th>757</th>\n",
       "      <td>Rebecca Crunden</td>\n",
       "      <td>Ah, Hobbes.</td>\n",
       "      <td>True</td>\n",
       "      <td>14</td>\n",
       "      <td>345</td>\n",
       "      <td>&lt;NA&gt;</td>\n",
       "      <td>&lt;NA&gt;</td>\n",
       "      <td>&lt;NA&gt;</td>\n",
       "      <td>&lt;NA&gt;</td>\n",
       "      <td>&lt;NA&gt;</td>\n",
       "      <td>en</td>\n",
       "      <td>Ah, Hobbes.</td>\n",
       "      <td>0.00</td>\n",
       "      <td>negative</td>\n",
       "    </tr>\n",
       "    <tr>\n",
       "      <th>758</th>\n",
       "      <td>Kakada Yeun</td>\n",
       "      <td>I WAN TO KNOW HOW IT WORK?</td>\n",
       "      <td>False</td>\n",
       "      <td>&lt;NA&gt;</td>\n",
       "      <td>&lt;NA&gt;</td>\n",
       "      <td>1</td>\n",
       "      <td>&lt;NA&gt;</td>\n",
       "      <td>&lt;NA&gt;</td>\n",
       "      <td>&lt;NA&gt;</td>\n",
       "      <td>&lt;NA&gt;</td>\n",
       "      <td>en</td>\n",
       "      <td>I WAN TO KNOW HOW IT WORK?</td>\n",
       "      <td>-0.20</td>\n",
       "      <td>negative</td>\n",
       "    </tr>\n",
       "  </tbody>\n",
       "</table>\n",
       "<p>759 rows × 14 columns</p>\n",
       "</div>"
      ],
      "text/plain": [
       "                 name                                             review  \\\n",
       "0    Ahmad Sharabiani  Leviathan, or The Matter, Forme and Power of a...   \n",
       "1              Yasiru  Since some reviewers here seem to rate this wo...   \n",
       "2         Czarny Pies  Both the conclusions and methodology of \"Levia...   \n",
       "3               E. G.  Preface\\nA Scheme of Reference\\nIntroduction\\n...   \n",
       "4          امیر لطیفی  هدفِ اصلی کتاب پاسخ به این پرسش است: چرا به دو...   \n",
       "..                ...                                                ...   \n",
       "754    AbsurdThoughts                               only the first third   \n",
       "755             Ollie                               wasn't hobbes a knob   \n",
       "756            Malica  Very interesting and thought provoking at time...   \n",
       "757   Rebecca Crunden                                        Ah, Hobbes.   \n",
       "758       Kakada Yeun                         I WAN TO KNOW HOW IT WORK?   \n",
       "\n",
       "     author  num_author_books  num_author_followers  reviewer_reviews  \\\n",
       "0     False              <NA>                  <NA>              9569   \n",
       "1     False              <NA>                  <NA>               197   \n",
       "2     False              <NA>                  <NA>              2412   \n",
       "3     False              <NA>                  <NA>              1101   \n",
       "4     False              <NA>                  <NA>               155   \n",
       "..      ...               ...                   ...               ...   \n",
       "754   False              <NA>                  <NA>                 2   \n",
       "755   False              <NA>                  <NA>                95   \n",
       "756   False              <NA>                  <NA>               151   \n",
       "757    True                14                   345              <NA>   \n",
       "758   False              <NA>                  <NA>                 1   \n",
       "\n",
       "     reviewer_followers  ratings_given_out_of_5  review_likes  \\\n",
       "0                 56000                       4           165   \n",
       "1                   115                       5           138   \n",
       "2                     1                       5            50   \n",
       "3                   662                       4            41   \n",
       "4                   156                       3            31   \n",
       "..                  ...                     ...           ...   \n",
       "754                <NA>                    <NA>          <NA>   \n",
       "755                   1                    <NA>          <NA>   \n",
       "756                   2                       3          <NA>   \n",
       "757                <NA>                    <NA>          <NA>   \n",
       "758                <NA>                    <NA>          <NA>   \n",
       "\n",
       "     review_comments language  \\\n",
       "0               <NA>       fa   \n",
       "1                  4       en   \n",
       "2                  4       en   \n",
       "3                  2       en   \n",
       "4               <NA>       fa   \n",
       "..               ...      ...   \n",
       "754             <NA>       en   \n",
       "755             <NA>       en   \n",
       "756             <NA>       en   \n",
       "757             <NA>       en   \n",
       "758             <NA>       en   \n",
       "\n",
       "                                          clean_review  sentiment_score  \\\n",
       "0    Leviathan, The Matter, Forme Power Common Weal...             0.02   \n",
       "1    Since reviewers seem rate work unfairly low di...             0.15   \n",
       "2    Both conclusions methodology \"Leviathan\" shock...             0.07   \n",
       "3    Preface A Scheme Reference Introduction A Note...             0.00   \n",
       "4    هدفِ اصلی کتاب پاسخ به این پرسش است: چرا به دو...             0.00   \n",
       "..                                                 ...              ...   \n",
       "754                                        first third             0.12   \n",
       "755                                        hobbes knob             0.00   \n",
       "756  Very interesting thought provoking times—elusi...             0.18   \n",
       "757                                        Ah, Hobbes.             0.00   \n",
       "758                         I WAN TO KNOW HOW IT WORK?            -0.20   \n",
       "\n",
       "    sentiment  \n",
       "0    positive  \n",
       "1    positive  \n",
       "2    positive  \n",
       "3    negative  \n",
       "4    negative  \n",
       "..        ...  \n",
       "754  positive  \n",
       "755  negative  \n",
       "756  positive  \n",
       "757  negative  \n",
       "758  negative  \n",
       "\n",
       "[759 rows x 14 columns]"
      ]
     },
     "execution_count": 125,
     "metadata": {},
     "output_type": "execute_result"
    }
   ],
   "source": [
    "import pandera as pa\n",
    "from pandera import Column, Check, DataFrameSchema\n",
    "\n",
    "schema = DataFrameSchema({\n",
    "    \"num_author_books\": Column(pa.dtypes.Int32, Check.greater_than_or_equal_to(0),nullable=True),\n",
    "    \"num_author_followers\": Column(pa.dtypes.Int32, Check.greater_than_or_equal_to(0),nullable=True),\n",
    "    \"reviewer_reviews\": Column(pa.dtypes.Int32, Check.greater_than_or_equal_to(0),nullable=True),\n",
    "    \"reviewer_followers\": Column(pa.dtypes.Int32, Check.greater_than_or_equal_to(0),nullable=True),\n",
    "    \"ratings_given_out_of_5\": Column(pa.dtypes.Int8, Check.in_range(0,5),nullable=True),\n",
    "    \"review_likes\": Column(pa.dtypes.Int32, Check.greater_than_or_equal_to(0),nullable=True),\n",
    "    \"reviewer_followers\": Column(pa.dtypes.Int32, Check.greater_than_or_equal_to(0),nullable=True),\n",
    "    \"review_comments\": Column(pa.dtypes.Int32, Check.greater_than_or_equal_to(0),nullable=True),\n",
    "    \"sentiment_score\": Column(pa.dtypes.Float64, Check.in_range(-1,1),nullable=True),    \n",
    "})\n",
    "schema.validate(df)"
   ]
  },
  {
   "cell_type": "code",
   "execution_count": 121,
   "metadata": {},
   "outputs": [
    {
     "data": {
      "text/html": [
       "<div>\n",
       "<style scoped>\n",
       "    .dataframe tbody tr th:only-of-type {\n",
       "        vertical-align: middle;\n",
       "    }\n",
       "\n",
       "    .dataframe tbody tr th {\n",
       "        vertical-align: top;\n",
       "    }\n",
       "\n",
       "    .dataframe thead th {\n",
       "        text-align: right;\n",
       "    }\n",
       "</style>\n",
       "<table border=\"1\" class=\"dataframe\">\n",
       "  <thead>\n",
       "    <tr style=\"text-align: right;\">\n",
       "      <th></th>\n",
       "      <th>name</th>\n",
       "      <th>review</th>\n",
       "      <th>author</th>\n",
       "      <th>num_author_books</th>\n",
       "      <th>num_author_followers</th>\n",
       "      <th>reviewer_reviews</th>\n",
       "      <th>reviewer_followers</th>\n",
       "      <th>ratings_given_out_of_5</th>\n",
       "      <th>review_likes</th>\n",
       "      <th>review_comments</th>\n",
       "      <th>language</th>\n",
       "      <th>clean_review</th>\n",
       "      <th>sentiment_score</th>\n",
       "      <th>sentiment</th>\n",
       "    </tr>\n",
       "  </thead>\n",
       "  <tbody>\n",
       "    <tr>\n",
       "      <th>0</th>\n",
       "      <td>Ahmad Sharabiani</td>\n",
       "      <td>Leviathan, or The Matter, Forme and Power of a...</td>\n",
       "      <td>False</td>\n",
       "      <td>&lt;NA&gt;</td>\n",
       "      <td>&lt;NA&gt;</td>\n",
       "      <td>9569</td>\n",
       "      <td>56000</td>\n",
       "      <td>4</td>\n",
       "      <td>165</td>\n",
       "      <td>&lt;NA&gt;</td>\n",
       "      <td>fa</td>\n",
       "      <td>Leviathan, The Matter, Forme Power Common Weal...</td>\n",
       "      <td>0.02</td>\n",
       "      <td>positive</td>\n",
       "    </tr>\n",
       "    <tr>\n",
       "      <th>1</th>\n",
       "      <td>Yasiru</td>\n",
       "      <td>Since some reviewers here seem to rate this wo...</td>\n",
       "      <td>False</td>\n",
       "      <td>&lt;NA&gt;</td>\n",
       "      <td>&lt;NA&gt;</td>\n",
       "      <td>197</td>\n",
       "      <td>115</td>\n",
       "      <td>5</td>\n",
       "      <td>138</td>\n",
       "      <td>4</td>\n",
       "      <td>en</td>\n",
       "      <td>Since reviewers seem rate work unfairly low di...</td>\n",
       "      <td>0.15</td>\n",
       "      <td>positive</td>\n",
       "    </tr>\n",
       "    <tr>\n",
       "      <th>2</th>\n",
       "      <td>Czarny Pies</td>\n",
       "      <td>Both the conclusions and methodology of \"Levia...</td>\n",
       "      <td>False</td>\n",
       "      <td>&lt;NA&gt;</td>\n",
       "      <td>&lt;NA&gt;</td>\n",
       "      <td>2412</td>\n",
       "      <td>1</td>\n",
       "      <td>5</td>\n",
       "      <td>50</td>\n",
       "      <td>4</td>\n",
       "      <td>en</td>\n",
       "      <td>Both conclusions methodology \"Leviathan\" shock...</td>\n",
       "      <td>0.07</td>\n",
       "      <td>positive</td>\n",
       "    </tr>\n",
       "    <tr>\n",
       "      <th>3</th>\n",
       "      <td>E. G.</td>\n",
       "      <td>Preface\\nA Scheme of Reference\\nIntroduction\\n...</td>\n",
       "      <td>False</td>\n",
       "      <td>&lt;NA&gt;</td>\n",
       "      <td>&lt;NA&gt;</td>\n",
       "      <td>1101</td>\n",
       "      <td>662</td>\n",
       "      <td>4</td>\n",
       "      <td>41</td>\n",
       "      <td>2</td>\n",
       "      <td>en</td>\n",
       "      <td>Preface A Scheme Reference Introduction A Note...</td>\n",
       "      <td>0.00</td>\n",
       "      <td>negative</td>\n",
       "    </tr>\n",
       "    <tr>\n",
       "      <th>4</th>\n",
       "      <td>امیر لطیفی</td>\n",
       "      <td>هدفِ اصلی کتاب پاسخ به این پرسش است: چرا به دو...</td>\n",
       "      <td>False</td>\n",
       "      <td>&lt;NA&gt;</td>\n",
       "      <td>&lt;NA&gt;</td>\n",
       "      <td>155</td>\n",
       "      <td>156</td>\n",
       "      <td>3</td>\n",
       "      <td>31</td>\n",
       "      <td>&lt;NA&gt;</td>\n",
       "      <td>fa</td>\n",
       "      <td>هدفِ اصلی کتاب پاسخ به این پرسش است: چرا به دو...</td>\n",
       "      <td>0.00</td>\n",
       "      <td>negative</td>\n",
       "    </tr>\n",
       "    <tr>\n",
       "      <th>...</th>\n",
       "      <td>...</td>\n",
       "      <td>...</td>\n",
       "      <td>...</td>\n",
       "      <td>...</td>\n",
       "      <td>...</td>\n",
       "      <td>...</td>\n",
       "      <td>...</td>\n",
       "      <td>...</td>\n",
       "      <td>...</td>\n",
       "      <td>...</td>\n",
       "      <td>...</td>\n",
       "      <td>...</td>\n",
       "      <td>...</td>\n",
       "      <td>...</td>\n",
       "    </tr>\n",
       "    <tr>\n",
       "      <th>754</th>\n",
       "      <td>AbsurdThoughts</td>\n",
       "      <td>only the first third</td>\n",
       "      <td>False</td>\n",
       "      <td>&lt;NA&gt;</td>\n",
       "      <td>&lt;NA&gt;</td>\n",
       "      <td>2</td>\n",
       "      <td>&lt;NA&gt;</td>\n",
       "      <td>&lt;NA&gt;</td>\n",
       "      <td>&lt;NA&gt;</td>\n",
       "      <td>&lt;NA&gt;</td>\n",
       "      <td>en</td>\n",
       "      <td>first third</td>\n",
       "      <td>0.12</td>\n",
       "      <td>positive</td>\n",
       "    </tr>\n",
       "    <tr>\n",
       "      <th>755</th>\n",
       "      <td>Ollie</td>\n",
       "      <td>wasn't hobbes a knob</td>\n",
       "      <td>False</td>\n",
       "      <td>&lt;NA&gt;</td>\n",
       "      <td>&lt;NA&gt;</td>\n",
       "      <td>95</td>\n",
       "      <td>1</td>\n",
       "      <td>&lt;NA&gt;</td>\n",
       "      <td>&lt;NA&gt;</td>\n",
       "      <td>&lt;NA&gt;</td>\n",
       "      <td>en</td>\n",
       "      <td>hobbes knob</td>\n",
       "      <td>0.00</td>\n",
       "      <td>negative</td>\n",
       "    </tr>\n",
       "    <tr>\n",
       "      <th>756</th>\n",
       "      <td>Malica</td>\n",
       "      <td>Very interesting and thought provoking at time...</td>\n",
       "      <td>False</td>\n",
       "      <td>&lt;NA&gt;</td>\n",
       "      <td>&lt;NA&gt;</td>\n",
       "      <td>151</td>\n",
       "      <td>2</td>\n",
       "      <td>3</td>\n",
       "      <td>&lt;NA&gt;</td>\n",
       "      <td>&lt;NA&gt;</td>\n",
       "      <td>en</td>\n",
       "      <td>Very interesting thought provoking times—elusi...</td>\n",
       "      <td>0.18</td>\n",
       "      <td>positive</td>\n",
       "    </tr>\n",
       "    <tr>\n",
       "      <th>757</th>\n",
       "      <td>Rebecca Crunden</td>\n",
       "      <td>Ah, Hobbes.</td>\n",
       "      <td>True</td>\n",
       "      <td>14</td>\n",
       "      <td>345</td>\n",
       "      <td>&lt;NA&gt;</td>\n",
       "      <td>&lt;NA&gt;</td>\n",
       "      <td>&lt;NA&gt;</td>\n",
       "      <td>&lt;NA&gt;</td>\n",
       "      <td>&lt;NA&gt;</td>\n",
       "      <td>en</td>\n",
       "      <td>Ah, Hobbes.</td>\n",
       "      <td>0.00</td>\n",
       "      <td>negative</td>\n",
       "    </tr>\n",
       "    <tr>\n",
       "      <th>758</th>\n",
       "      <td>Kakada Yeun</td>\n",
       "      <td>I WAN TO KNOW HOW IT WORK?</td>\n",
       "      <td>False</td>\n",
       "      <td>&lt;NA&gt;</td>\n",
       "      <td>&lt;NA&gt;</td>\n",
       "      <td>1</td>\n",
       "      <td>&lt;NA&gt;</td>\n",
       "      <td>&lt;NA&gt;</td>\n",
       "      <td>&lt;NA&gt;</td>\n",
       "      <td>&lt;NA&gt;</td>\n",
       "      <td>en</td>\n",
       "      <td>I WAN TO KNOW HOW IT WORK?</td>\n",
       "      <td>-0.20</td>\n",
       "      <td>negative</td>\n",
       "    </tr>\n",
       "  </tbody>\n",
       "</table>\n",
       "<p>759 rows × 14 columns</p>\n",
       "</div>"
      ],
      "text/plain": [
       "                 name                                             review  \\\n",
       "0    Ahmad Sharabiani  Leviathan, or The Matter, Forme and Power of a...   \n",
       "1              Yasiru  Since some reviewers here seem to rate this wo...   \n",
       "2         Czarny Pies  Both the conclusions and methodology of \"Levia...   \n",
       "3               E. G.  Preface\\nA Scheme of Reference\\nIntroduction\\n...   \n",
       "4          امیر لطیفی  هدفِ اصلی کتاب پاسخ به این پرسش است: چرا به دو...   \n",
       "..                ...                                                ...   \n",
       "754    AbsurdThoughts                               only the first third   \n",
       "755             Ollie                               wasn't hobbes a knob   \n",
       "756            Malica  Very interesting and thought provoking at time...   \n",
       "757   Rebecca Crunden                                        Ah, Hobbes.   \n",
       "758       Kakada Yeun                         I WAN TO KNOW HOW IT WORK?   \n",
       "\n",
       "     author  num_author_books  num_author_followers  reviewer_reviews  \\\n",
       "0     False              <NA>                  <NA>              9569   \n",
       "1     False              <NA>                  <NA>               197   \n",
       "2     False              <NA>                  <NA>              2412   \n",
       "3     False              <NA>                  <NA>              1101   \n",
       "4     False              <NA>                  <NA>               155   \n",
       "..      ...               ...                   ...               ...   \n",
       "754   False              <NA>                  <NA>                 2   \n",
       "755   False              <NA>                  <NA>                95   \n",
       "756   False              <NA>                  <NA>               151   \n",
       "757    True                14                   345              <NA>   \n",
       "758   False              <NA>                  <NA>                 1   \n",
       "\n",
       "     reviewer_followers  ratings_given_out_of_5  review_likes  \\\n",
       "0                 56000                       4           165   \n",
       "1                   115                       5           138   \n",
       "2                     1                       5            50   \n",
       "3                   662                       4            41   \n",
       "4                   156                       3            31   \n",
       "..                  ...                     ...           ...   \n",
       "754                <NA>                    <NA>          <NA>   \n",
       "755                   1                    <NA>          <NA>   \n",
       "756                   2                       3          <NA>   \n",
       "757                <NA>                    <NA>          <NA>   \n",
       "758                <NA>                    <NA>          <NA>   \n",
       "\n",
       "     review_comments language  \\\n",
       "0               <NA>       fa   \n",
       "1                  4       en   \n",
       "2                  4       en   \n",
       "3                  2       en   \n",
       "4               <NA>       fa   \n",
       "..               ...      ...   \n",
       "754             <NA>       en   \n",
       "755             <NA>       en   \n",
       "756             <NA>       en   \n",
       "757             <NA>       en   \n",
       "758             <NA>       en   \n",
       "\n",
       "                                          clean_review  sentiment_score  \\\n",
       "0    Leviathan, The Matter, Forme Power Common Weal...             0.02   \n",
       "1    Since reviewers seem rate work unfairly low di...             0.15   \n",
       "2    Both conclusions methodology \"Leviathan\" shock...             0.07   \n",
       "3    Preface A Scheme Reference Introduction A Note...             0.00   \n",
       "4    هدفِ اصلی کتاب پاسخ به این پرسش است: چرا به دو...             0.00   \n",
       "..                                                 ...              ...   \n",
       "754                                        first third             0.12   \n",
       "755                                        hobbes knob             0.00   \n",
       "756  Very interesting thought provoking times—elusi...             0.18   \n",
       "757                                        Ah, Hobbes.             0.00   \n",
       "758                         I WAN TO KNOW HOW IT WORK?            -0.20   \n",
       "\n",
       "    sentiment  \n",
       "0    positive  \n",
       "1    positive  \n",
       "2    positive  \n",
       "3    negative  \n",
       "4    negative  \n",
       "..        ...  \n",
       "754  positive  \n",
       "755  negative  \n",
       "756  positive  \n",
       "757  negative  \n",
       "758  negative  \n",
       "\n",
       "[759 rows x 14 columns]"
      ]
     },
     "execution_count": 121,
     "metadata": {},
     "output_type": "execute_result"
    }
   ],
   "source": [
    "schema.validate(df)"
   ]
  },
  {
   "cell_type": "code",
   "execution_count": null,
   "metadata": {},
   "outputs": [],
   "source": []
  },
  {
   "cell_type": "code",
   "execution_count": null,
   "metadata": {},
   "outputs": [],
   "source": []
  },
  {
   "cell_type": "code",
   "execution_count": null,
   "metadata": {},
   "outputs": [],
   "source": []
  },
  {
   "cell_type": "code",
   "execution_count": 70,
   "metadata": {},
   "outputs": [],
   "source": [
    "df.to_csv('checking_float.csv')"
   ]
  },
  {
   "cell_type": "code",
   "execution_count": null,
   "metadata": {},
   "outputs": [],
   "source": []
  }
 ],
 "metadata": {
  "kernelspec": {
   "display_name": "Python 3 (ipykernel)",
   "language": "python",
   "name": "python3"
  },
  "language_info": {
   "codemirror_mode": {
    "name": "ipython",
    "version": 3
   },
   "file_extension": ".py",
   "mimetype": "text/x-python",
   "name": "python",
   "nbconvert_exporter": "python",
   "pygments_lexer": "ipython3",
   "version": "3.7.8"
  },
  "vscode": {
   "interpreter": {
    "hash": "d20a590bd2b62bbfc9c68bfc687517ad0da78568b89918491ef8befdc4f46b0e"
   }
  }
 },
 "nbformat": 4,
 "nbformat_minor": 4
}
