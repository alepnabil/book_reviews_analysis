{
 "cells": [
  {
   "cell_type": "markdown",
   "id": "a822b653",
   "metadata": {},
   "source": [
    "# On the harmony of religion and philosophy by Ibnu Rushd book reviews analysis"
   ]
  },
  {
   "cell_type": "markdown",
   "id": "723e26b3",
   "metadata": {},
   "source": [
    "29/8/2021"
   ]
  },
  {
   "cell_type": "code",
   "execution_count": 43,
   "id": "20052485",
   "metadata": {},
   "outputs": [],
   "source": [
    "from bs4 import BeautifulSoup\n",
    "import pandas as pd\n",
    "import requests\n",
    "from textblob import TextBlob\n",
    "from nltk.corpus import stopwords\n",
    "from textblob import Word\n",
    "import re\n",
    "import nltk\n",
    "from wordcloud import WordCloud\n",
    "from wordcloud import STOPWORDS\n",
    "import matplotlib.pyplot as plt\n",
    "from vaderSentiment.vaderSentiment import SentimentIntensityAnalyzer\n",
    "import seaborn as sns\n",
    "\n",
    "#nltk.download()"
   ]
  },
  {
   "cell_type": "markdown",
   "id": "8b75be8f",
   "metadata": {},
   "source": [
    "#### Steps:\n",
    "    \n",
    "Get user's user name\n",
    "\n",
    "Get user's review\n",
    "\n",
    "Create username's pandas series\n",
    "\n",
    "Create user's review pandas series\n"
   ]
  },
  {
   "cell_type": "code",
   "execution_count": 3,
   "id": "053c6831",
   "metadata": {},
   "outputs": [],
   "source": [
    "url='https://www.goodreads.com/book/show/6283443-on-the-harmony-of-religions-and-philosophy'\n",
    "\n",
    "request=requests.get(url)"
   ]
  },
  {
   "cell_type": "code",
   "execution_count": 4,
   "id": "0e9ec299",
   "metadata": {},
   "outputs": [],
   "source": [
    "soup=BeautifulSoup(request.content,'lxml')"
   ]
  },
  {
   "cell_type": "code",
   "execution_count": 53,
   "id": "e90fdf64",
   "metadata": {},
   "outputs": [],
   "source": [
    "#soup.prettify"
   ]
  },
  {
   "cell_type": "code",
   "execution_count": 5,
   "id": "a4fb6646",
   "metadata": {},
   "outputs": [
    {
     "data": {
      "text/plain": [
       "[<a class=\"user\" href=\"/user/show/47844236-julian\" itemprop=\"url\" name=\"Julian\" title=\"Julian\">Julian</a>,\n",
       " <a class=\"user\" href=\"/user/show/15947308-haider-hussain\" itemprop=\"url\" name=\"Haider Hussain\" title=\"Haider Hussain\">Haider Hussain</a>,\n",
       " <a class=\"user\" href=\"/user/show/83373076-h-a-a-zayour\" itemprop=\"url\" name=\"H.A.A. Zayour\" title=\"H.A.A. Zayour\">H.A.A. Zayour</a>,\n",
       " <a class=\"user\" href=\"/user/show/108877475-isma-l-isma-lovitch\" itemprop=\"url\" name=\"Ismaïl  Ismaïlovitch \" title=\"Ismaïl  Ismaïlovitch \">Ismaïl  Ismaïlovitch </a>,\n",
       " <a class=\"user\" href=\"/user/show/55660633-edwin-setiadi\" itemprop=\"url\" name=\"Edwin Setiadi\" title=\"Edwin Setiadi\">Edwin Setiadi</a>,\n",
       " <a class=\"user\" href=\"/user/show/87202631-barry-edwards\" itemprop=\"url\" name=\"Barry Edwards\" title=\"Barry Edwards\">Barry Edwards</a>,\n",
       " <a class=\"user\" href=\"/user/show/98517293-maher-khaled\" itemprop=\"url\" name=\"Maher Khaled\" title=\"Maher Khaled\">Maher Khaled</a>,\n",
       " <a class=\"user\" href=\"/user/show/14639661-loubna-mckouar\" itemprop=\"url\" name=\"Loubna Mckouar\" title=\"Loubna Mckouar\">Loubna Mckouar</a>,\n",
       " <a class=\"user\" href=\"/user/show/124174306-osman-ali\" itemprop=\"url\" name=\"Osman Ali\" title=\"Osman Ali\">Osman Ali</a>,\n",
       " <a class=\"user\" href=\"/user/show/76337124-osm-afifi\" itemprop=\"url\" name=\"Osm Afifi\" title=\"Osm Afifi\">Osm Afifi</a>,\n",
       " <a class=\"user\" href=\"/user/show/89277436-saikat-mazumdar\" itemprop=\"url\" name=\"Saikat Mazumdar\" title=\"Saikat Mazumdar\">Saikat Mazumdar</a>,\n",
       " <a class=\"user\" href=\"/user/show/48883863-mohammed-alae\" itemprop=\"url\" name=\"Mohammed Alae\" title=\"Mohammed Alae\">Mohammed Alae</a>,\n",
       " <a class=\"user\" href=\"/user/show/8544672-carla\" itemprop=\"url\" name=\"Carla\" title=\"Carla\">Carla</a>,\n",
       " <a class=\"user\" href=\"/user/show/15103832-ashfaq-farooqui\" itemprop=\"url\" name=\"Ashfaq Farooqui\" title=\"Ashfaq Farooqui\">Ashfaq Farooqui</a>,\n",
       " <a class=\"user\" href=\"/user/show/80564390-mauricio-amar\" itemprop=\"url\" name=\"Mauricio Amar\" title=\"Mauricio Amar\">Mauricio Amar</a>,\n",
       " <a class=\"user\" href=\"/user/show/66850849-a-m\" itemprop=\"url\" name=\"A.M\" title=\"A.M\">A.M</a>,\n",
       " <a class=\"user\" href=\"/user/show/93992941-shafik-mandhai\" itemprop=\"url\" name=\"Shafik Mandhai\" title=\"Shafik Mandhai\">Shafik Mandhai</a>,\n",
       " <a class=\"user\" href=\"/user/show/109323700-karol-na-ka-parov\" itemprop=\"url\" name=\"Karolína Kašparová\" title=\"Karolína Kašparová\">Karolína Kašparová</a>,\n",
       " <a class=\"user\" href=\"/user/show/95922412-o-m\" itemprop=\"url\" name=\"O.M.\" title=\"O.M.\">O.M.</a>,\n",
       " <a class=\"user\" href=\"/user/show/15561093-liska-crofts\" itemprop=\"url\" name=\"Liska Crofts\" title=\"Liska Crofts\">Liska Crofts</a>,\n",
       " <a class=\"user\" href=\"/user/show/62042925-william\" itemprop=\"url\" name=\"William\" title=\"William\">William</a>,\n",
       " <a class=\"user\" href=\"/user/show/59564248-angel-e-pariente\" itemprop=\"url\" name=\"Angel E Pariente\" title=\"Angel E Pariente\">Angel E Pariente</a>,\n",
       " <a class=\"user\" href=\"/user/show/49619237-nabil\" itemprop=\"url\" name=\"Nabil\" title=\"Nabil\">Nabil</a>,\n",
       " <a class=\"user\" href=\"/user/show/30979247-ismail-tutar\" itemprop=\"url\" name=\"Ismail Tutar\" title=\"Ismail Tutar\">Ismail Tutar</a>,\n",
       " <a class=\"user\" href=\"/user/show/127569782-gabe\" itemprop=\"url\" name=\"Gabe\" title=\"Gabe\">Gabe</a>,\n",
       " <a class=\"user\" href=\"/user/show/78023613-abdul-haqq-sam-bailey\" itemprop=\"url\" name=\"Abdul Haqq Sam Bailey\" title=\"Abdul Haqq Sam Bailey\">Abdul Haqq Sam Bailey</a>,\n",
       " <a class=\"user\" href=\"/user/show/55827877-jamal\" itemprop=\"url\" name=\"Jamal\" title=\"Jamal\">Jamal</a>,\n",
       " <a class=\"user\" href=\"/user/show/54605032-pratik-luitel\" itemprop=\"url\" name=\"Pratik Luitel\" title=\"Pratik Luitel\">Pratik Luitel</a>,\n",
       " <a class=\"user\" href=\"/user/show/5425481-hizer-mir\" itemprop=\"url\" name=\"Hizer Mir\" title=\"Hizer Mir\">Hizer Mir</a>,\n",
       " <a class=\"user\" href=\"/user/show/732995-fakih\" itemprop=\"url\" name=\"Fakih\" title=\"Fakih\">Fakih</a>,\n",
       " <a class=\"user\" href=\"/user/show/4998955-muhammad-ma-mun\" itemprop=\"url\" name=\"Muhammad Ma'mun\" title=\"Muhammad Ma'mun\">Muhammad Ma'mun</a>,\n",
       " <a class=\"user\" href=\"/user/show/15173945-jade\" itemprop=\"url\" name=\"Jade\" title=\"Jade\">Jade</a>,\n",
       " <a class=\"user\" href=\"/user/show/16622560-khalil\" itemprop=\"url\" name=\"Khalil\" title=\"Khalil\">Khalil</a>,\n",
       " <a class=\"user\" href=\"/user/show/8635513-mustapha-safadieh\" itemprop=\"url\" name=\"Mustapha Safadieh\" title=\"Mustapha Safadieh\">Mustapha Safadieh</a>,\n",
       " <a class=\"user\" href=\"/user/show/856072-christopher-hurtado\" itemprop=\"url\" name=\"Christopher Hurtado\" title=\"Christopher Hurtado\">Christopher Hurtado</a>,\n",
       " <a class=\"user\" href=\"/user/show/13438159-dan\" itemprop=\"url\" name=\"Dan\" title=\"Dan\">Dan</a>,\n",
       " <a class=\"user\" href=\"/user/show/24739246-carlos-franco\" itemprop=\"url\" name=\"Carlos Franco\" title=\"Carlos Franco\">Carlos Franco</a>,\n",
       " <a class=\"user\" href=\"/user/show/5405456-aisha\" itemprop=\"url\" name=\"Aisha\" title=\"Aisha\">Aisha</a>,\n",
       " <a class=\"user\" href=\"/user/show/4777656-mjaballah\" itemprop=\"url\" name=\"Mjaballah\" title=\"Mjaballah\">Mjaballah</a>,\n",
       " <a class=\"user\" href=\"/user/show/4579132-olga\" itemprop=\"url\" name=\"Olga\" title=\"Olga\">Olga</a>,\n",
       " <a class=\"user\" href=\"/user/show/1755262-jbondandrews\" itemprop=\"url\" name=\"Jbondandrews\" title=\"Jbondandrews\">Jbondandrews</a>,\n",
       " <a class=\"user\" href=\"/user/show/4656777-hatercakes\" itemprop=\"url\" name=\"hatercakes\" title=\"hatercakes\">hatercakes</a>,\n",
       " <a class=\"user\" href=\"/user/show/16275841-ingy-higazy\" itemprop=\"url\" name=\"Ingy Higazy\" title=\"Ingy Higazy\">Ingy Higazy</a>,\n",
       " <a class=\"user\" href=\"/user/show/23430417-omar-el-kashawy\" itemprop=\"url\" name=\"Omar El kashawy\" title=\"Omar El kashawy\">Omar El kashawy</a>,\n",
       " <a class=\"user\" href=\"/user/show/7707435-scott\" itemprop=\"url\" name=\"Scott\" title=\"Scott\">Scott</a>,\n",
       " <a class=\"user\" href=\"/user/show/36180846-ibrahim-abdelghany\" itemprop=\"url\" name=\"Ibrahim Abdelghany\" title=\"Ibrahim Abdelghany\">Ibrahim Abdelghany</a>,\n",
       " <a class=\"user\" href=\"/user/show/13833635-logan-blackisle\" itemprop=\"url\" name=\"Logan Blackisle\" title=\"Logan Blackisle\">Logan Blackisle</a>,\n",
       " <a class=\"user\" href=\"/user/show/5425481-hizer-mir\" itemprop=\"url\" name=\"Hizer Mir\" title=\"Hizer Mir\">Hizer Mir</a>,\n",
       " <a class=\"user\" href=\"/user/show/38706578-vicente\" itemprop=\"url\" name=\"Vicente\" title=\"Vicente\">Vicente</a>,\n",
       " <a class=\"user\" href=\"/user/show/8805371-hany\" itemprop=\"url\" name=\"Hany\" title=\"Hany\">Hany</a>,\n",
       " <a class=\"user\" href=\"/user/show/42889385-izaakhaliq\" itemprop=\"url\" name=\"Izaakhaliq\" title=\"Izaakhaliq\">Izaakhaliq</a>,\n",
       " <a class=\"user\" href=\"/user/show/43157682-john-shihat\" itemprop=\"url\" name=\"John Shihat\" title=\"John Shihat\">John Shihat</a>,\n",
       " <a class=\"user\" href=\"/user/show/62843781-jannatul-ferdous\" itemprop=\"url\" name=\"Jannatul Ferdous\" title=\"Jannatul Ferdous\">Jannatul Ferdous</a>,\n",
       " <a class=\"user\" href=\"/user/show/50035392-illya\" itemprop=\"url\" name=\"Illya\" title=\"Illya\">Illya</a>,\n",
       " <a class=\"user\" href=\"/user/show/1442420-conrado\" itemprop=\"url\" name=\"Conrado\" title=\"Conrado\">Conrado</a>,\n",
       " <a class=\"user\" href=\"/user/show/82026032-sara\" itemprop=\"url\" name=\"Sara\" title=\"Sara\">Sara</a>,\n",
       " <a class=\"user\" href=\"/user/show/70454453-cody-mashburn\" itemprop=\"url\" name=\"Cody Mashburn\" title=\"Cody Mashburn\">Cody Mashburn</a>]"
      ]
     },
     "execution_count": 5,
     "metadata": {},
     "output_type": "execute_result"
    }
   ],
   "source": [
    "usernames=soup.select('a.user ')\n",
    "usernames"
   ]
  },
  {
   "cell_type": "code",
   "execution_count": 6,
   "id": "b30ca08a",
   "metadata": {},
   "outputs": [
    {
     "data": {
      "text/plain": [
       "['Julian',\n",
       " 'Haider Hussain',\n",
       " 'H.A.A. Zayour',\n",
       " 'Ismaïl  Ismaïlovitch ',\n",
       " 'Edwin Setiadi',\n",
       " 'Barry Edwards',\n",
       " 'Maher Khaled',\n",
       " 'Loubna Mckouar',\n",
       " 'Osman Ali',\n",
       " 'Osm Afifi',\n",
       " 'Saikat Mazumdar',\n",
       " 'Mohammed Alae',\n",
       " 'Carla',\n",
       " 'Ashfaq Farooqui',\n",
       " 'Mauricio Amar',\n",
       " 'A.M',\n",
       " 'Shafik Mandhai',\n",
       " 'Karolína Kašparová',\n",
       " 'O.M.',\n",
       " 'Liska Crofts',\n",
       " 'William',\n",
       " 'Angel E Pariente',\n",
       " 'Nabil',\n",
       " 'Ismail Tutar',\n",
       " 'Gabe',\n",
       " 'Abdul Haqq Sam Bailey',\n",
       " 'Jamal',\n",
       " 'Pratik Luitel',\n",
       " 'Hizer Mir',\n",
       " 'Fakih',\n",
       " \"Muhammad Ma'mun\",\n",
       " 'Jade',\n",
       " 'Khalil',\n",
       " 'Mustapha Safadieh',\n",
       " 'Christopher Hurtado',\n",
       " 'Dan',\n",
       " 'Carlos Franco',\n",
       " 'Aisha',\n",
       " 'Mjaballah',\n",
       " 'Olga',\n",
       " 'Jbondandrews',\n",
       " 'hatercakes',\n",
       " 'Ingy Higazy',\n",
       " 'Omar El kashawy',\n",
       " 'Scott',\n",
       " 'Ibrahim Abdelghany',\n",
       " 'Logan Blackisle',\n",
       " 'Hizer Mir',\n",
       " 'Vicente',\n",
       " 'Hany',\n",
       " 'Izaakhaliq',\n",
       " 'John Shihat',\n",
       " 'Jannatul Ferdous',\n",
       " 'Illya',\n",
       " 'Conrado',\n",
       " 'Sara',\n",
       " 'Cody Mashburn']"
      ]
     },
     "execution_count": 6,
     "metadata": {},
     "output_type": "execute_result"
    }
   ],
   "source": [
    "user_usernames=[user.string for user in usernames ]\n",
    "user_usernames\n"
   ]
  },
  {
   "cell_type": "markdown",
   "id": "40cd9704",
   "metadata": {},
   "source": [
    "#### Since not all of them gave reviews(some only rate the book), we will just drop their names"
   ]
  },
  {
   "cell_type": "code",
   "execution_count": 32,
   "id": "cbb6bef6",
   "metadata": {},
   "outputs": [
    {
     "data": {
      "text/plain": [
       "['Julian',\n",
       " 'Haider Hussain',\n",
       " 'H.A.A. Zayour',\n",
       " 'Ismaïl  Ismaïlovitch ',\n",
       " 'Edwin Setiadi',\n",
       " 'Barry Edwards',\n",
       " 'Maher Khaled',\n",
       " 'Loubna Mckouar']"
      ]
     },
     "execution_count": 32,
     "metadata": {},
     "output_type": "execute_result"
    }
   ],
   "source": [
    "user_usernames=user_usernames[:8]\n",
    "user_usernames"
   ]
  },
  {
   "cell_type": "markdown",
   "id": "dc432ba6",
   "metadata": {},
   "source": [
    "## Scraping reviews given by each user"
   ]
  },
  {
   "cell_type": "markdown",
   "id": "ed8df4f1",
   "metadata": {},
   "source": [
    "-Navigate to the review body\n",
    "\n",
    "-Then, select the span tag which has the reviews\n",
    "\n",
    "-Since there are 2 review text(?), we select the reviews with style selector"
   ]
  },
  {
   "cell_type": "markdown",
   "id": "b32310a1",
   "metadata": {},
   "source": [
    "##### This solution to select style selector css was found here:\n",
    "https://stackoverflow.com/questions/52703476/how-to-select-a-html-tag-by-its-style-with-beautifulsoup-and-python\n",
    "\n",
    "https://stackoverflow.com/questions/59461796/how-do-i-web-scrape-an-element-using-its-style-definitions-like-padding-font-si\n",
    "\n",
    "\n",
    "This was a bit of researching because we can only iterate throuhg the review text when we only navigate straight to the span with style of display:none. But, it was quite hard to implement the style syntax in the select function."
   ]
  },
  {
   "cell_type": "markdown",
   "id": "ebd82005",
   "metadata": {},
   "source": [
    "navigate to review_body with style=display:none--->1 text reviews--->iterate thorugh to get only the review/text"
   ]
  },
  {
   "cell_type": "code",
   "execution_count": 8,
   "id": "598e67db",
   "metadata": {},
   "outputs": [
    {
     "data": {
      "text/plain": [
       "[<span id=\"freeText4953749023701073407\" style=\"display:none\">Averroes was a great philosopher, but the end of his life was miserable his books burned he was exiled and I don't find this surprising; his ideas were not accepted, it was too hard for the people to understand it, to understand that his word is better for them and for humanity. in this book he tried to defend the ideas of Avicenna and Al-Farabi because they said that the world is old as a God and God does not know the molecules; because someone started a war on the philosophers by his book The Incoherence of the Philosophers by Mohammed al-Ghazali. Averroes also tried to say that the mind and religions can work together but at the end, Averroes lost everything Muslims now are studying Mohammed al-Ghazali and Ibn Taymiyyah, not Averroes.<br/>Update 6/5/2020 This review sounds childish now.</span>,\n",
       " <span id=\"freeText16248122400539735936\" style=\"display:none\">Two important takeaways from the book:<br/><br/>1. On its own, there is nothing ground breaking about this book. However, when you read it while keeping the historical context in mind (the time it was written, and the issues it touches), this is an important work.<br/><br/>2. If you are expecting a detailed discussion of the issues where philosophy and religion are on the same (or different) page, you will be disappointed. Averroes only briefly touches upon as to why the disentanglement between philosophy and religion arises. So the title might be a bit misleading for some. More appropriately, the book is more a prolegomena in which Averroes touches upon three key issues:<br/><br/> (i) Why there are different interpretations of some Scriptural (Quranic) texts, and what are the consequences of these different interpretations.<br/><br/> (ii) Who should interpret the Scripture and how.<br/><br/> (iii) Why it is important to know the audience, as not every interpretation (exegesis) is for everyone. For instance, if the allegorical interpretations are expressed to someone whose mental capacity is only enough to understand apparent meaning, he can be led into unbelief.<br/><br/>Averroes criticizes Mu'tazilites and Ash'araites for exposing the masses to such allegorical interpretations of Quran that are only suitable for learned scholars. He is of the view that it was due to the these allegorical interpretations (especially the false ones) <i>“of Mu'tazilites and Ash'araites and the supposition that such interpretations of the Scripture ought to be expressed to everyone, that the sects of Islam arose, with result that each one accused the others of unbelief and hearsay.”</i></span>,\n",
       " <span id=\"freeText15861866583243010246\" style=\"display:none\">I want to read this book for a second time, and that is because I am employing a very essential concept being discussed by this brilliant scholar here. <br/>After my second read, I will be writing a new thorough review with a general outline of what I have adopted from his views and what I have humbly rejected.<br/>Put in simple words, I am amazed by this Philosopher, and I have found great joy and enlightenment as I read this work, although I regard him to be a little bit of an elitist.<br/>Such organization, such brilliance, such lucidity: Ibn Rushd is simply an amazing and a beautiful mind.</span>,\n",
       " <span id=\"freeText8690948316979951415\" style=\"display:none\">After reading this book, I have a better idea about the philosophy of Averroes, the translation and notes by Hourani are very useful and helps to understand the obscure passages. I believe the ultimate message of this book is to help us live a good life, as it is cited by the author in certain passages like this one \" Right practice consists in performing the acts which brings happiness and avoiding the acts which brings misery\".</span>,\n",
       " <span id=\"freeText16874471193968608992\" style=\"display:none\">Averroes, also known as Ibn Rushd, was a legal scholar of the Maliki school of Islamic law. He inspired St Thomas Aquinas and many Muslim, Catholic and Jewish scholars alike, while at the same time regarded as the “founding father of secular thought in Europe.” He is the only Muslim painted in the Sistine Chapel (the guy with the turban in the “Scuola di Atene” painting), and grouped by Dante in his 14th century masterpiece “Divine Comedy” among great philosophers such as Plato and Aristotle.<br/><br/>Famous for bringing back the almost vanished teachings of Aristotle through his commentary work, he was trained in law, medicine and philosophy, and became the chief judge of Cordoba during the Golden Age of inventions in the Muslim world in the 12th century (that brought us al-gebra, al-chemy, al-gorithm among many others).<br/><br/>His life story alone reveals so much about the lost Islamic history and the rich culture Muslims had way before the Renaissance (which started to civilise the West 2 centuries later). And his resulting thinkings are the product of the advanced knowledge during that Islamic Golden Age, which would make today’s Islamic culture (with de-facto caliphate of the descendants of Muhhamad bin Saud and Abdul-Wahhab) looks medieval and simplistic by comparison. But yet, just like Ibn Al-Haytam who wrote the theory of gravity 600 years before Isaac Newton, and Al-Tusi and Al-Gazali whose work on free-market economy were copied by Adam Smith, the work of Averroes remains unknown in our modern world.<br/><br/>This well-researched book (written in 1960) is the attempt to bring back the stories of the complex theological debates between Muslim scholars during the Golden Age of Islam. The book is divided into 3 parts: 1.) The fascinating introduction that sets the intellectual scene of c. 10-12th century Muslim world. 2.) the translation on Averroes’ own writings. 3.) the brilliant elaborating notes on the translation. And central to all of this is Averroes’ superb thoughts on the question of the era – the harmony of religion and philosophy – that may have already settled the age-old debate between religion and philosophy around 900 years ago.</span>,\n",
       " <span id=\"freeText2067603966831666437\" style=\"display:none\">I must say that I am quite conflicted about this book. Particularly because, the version of it I read, by Dodo Press, was quite a shoddy work. Translation, how it was structured and the terms that were used, were confusing to say the least, especially if one is already familiar with the larger philosophical context in which the work was written: That is, primarily to say, that the book was written with the translator's own (potentially limited) understanding, rather than with modern counterparts of the terms used by Ibn Rushd himself. <br/><br/>This makes the book quite a confusing read, that is not to say that it wouldn't have been a confusing read otherwise, but... I don't know.<br/><br/>Other than that, Ibn Rushd seems to touch upon some interesting points and \"novel\" arguments, within his context. While I suspect that, especially the earlier parts, are muddled by the translation.</span>]"
      ]
     },
     "execution_count": 8,
     "metadata": {},
     "output_type": "execute_result"
    }
   ],
   "source": [
    "reviews_body=soup.select('div#reviews span.readable [style=\"display:none\"]')\n",
    "reviews_body"
   ]
  },
  {
   "cell_type": "code",
   "execution_count": 10,
   "id": "7122426d",
   "metadata": {},
   "outputs": [
    {
     "name": "stdout",
     "output_type": "stream",
     "text": [
      "Averroes was a great philosopher, but the end of his life was miserable his books burned he was exiled and I don't find this surprising; his ideas were not accepted, it was too hard for the people to understand it, to understand that his word is better for them and for humanity. in this book he tried to defend the ideas of Avicenna and Al-Farabi because they said that the world is old as a God and God does not know the molecules; because someone started a war on the philosophers by his book The Incoherence of the Philosophers by Mohammed al-Ghazali. Averroes also tried to say that the mind and religions can work together but at the end, Averroes lost everything Muslims now are studying Mohammed al-Ghazali and Ibn Taymiyyah, not Averroes.Update 6/5/2020 This review sounds childish now.\n",
      "---\n",
      "Two important takeaways from the book:1. On its own, there is nothing ground breaking about this book. However, when you read it while keeping the historical context in mind (the time it was written, and the issues it touches), this is an important work.2. If you are expecting a detailed discussion of the issues where philosophy and religion are on the same (or different) page, you will be disappointed. Averroes only briefly touches upon as to why the disentanglement between philosophy and religion arises. So the title might be a bit misleading for some. More appropriately, the book is more a prolegomena in which Averroes touches upon three key issues: (i) Why there are different interpretations of some Scriptural (Quranic) texts, and what are the consequences of these different interpretations. (ii) Who should interpret the Scripture and how. (iii) Why it is important to know the audience, as not every interpretation (exegesis) is for everyone. For instance, if the allegorical interpretations are expressed to someone whose mental capacity is only enough to understand apparent meaning, he can be led into unbelief.Averroes criticizes Mu'tazilites and Ash'araites for exposing the masses to such allegorical interpretations of Quran that are only suitable for learned scholars. He is of the view that it was due to the these allegorical interpretations (especially the false ones) “of Mu'tazilites and Ash'araites and the supposition that such interpretations of the Scripture ought to be expressed to everyone, that the sects of Islam arose, with result that each one accused the others of unbelief and hearsay.”\n",
      "---\n",
      "I want to read this book for a second time, and that is because I am employing a very essential concept being discussed by this brilliant scholar here. After my second read, I will be writing a new thorough review with a general outline of what I have adopted from his views and what I have humbly rejected.Put in simple words, I am amazed by this Philosopher, and I have found great joy and enlightenment as I read this work, although I regard him to be a little bit of an elitist.Such organization, such brilliance, such lucidity: Ibn Rushd is simply an amazing and a beautiful mind.\n",
      "---\n",
      "After reading this book, I have a better idea about the philosophy of Averroes, the translation and notes by Hourani are very useful and helps to understand the obscure passages. I believe the ultimate message of this book is to help us live a good life, as it is cited by the author in certain passages like this one \" Right practice consists in performing the acts which brings happiness and avoiding the acts which brings misery\".\n",
      "---\n",
      "Averroes, also known as Ibn Rushd, was a legal scholar of the Maliki school of Islamic law. He inspired St Thomas Aquinas and many Muslim, Catholic and Jewish scholars alike, while at the same time regarded as the “founding father of secular thought in Europe.” He is the only Muslim painted in the Sistine Chapel (the guy with the turban in the “Scuola di Atene” painting), and grouped by Dante in his 14th century masterpiece “Divine Comedy” among great philosophers such as Plato and Aristotle.Famous for bringing back the almost vanished teachings of Aristotle through his commentary work, he was trained in law, medicine and philosophy, and became the chief judge of Cordoba during the Golden Age of inventions in the Muslim world in the 12th century (that brought us al-gebra, al-chemy, al-gorithm among many others).His life story alone reveals so much about the lost Islamic history and the rich culture Muslims had way before the Renaissance (which started to civilise the West 2 centuries later). And his resulting thinkings are the product of the advanced knowledge during that Islamic Golden Age, which would make today’s Islamic culture (with de-facto caliphate of the descendants of Muhhamad bin Saud and Abdul-Wahhab) looks medieval and simplistic by comparison. But yet, just like Ibn Al-Haytam who wrote the theory of gravity 600 years before Isaac Newton, and Al-Tusi and Al-Gazali whose work on free-market economy were copied by Adam Smith, the work of Averroes remains unknown in our modern world.This well-researched book (written in 1960) is the attempt to bring back the stories of the complex theological debates between Muslim scholars during the Golden Age of Islam. The book is divided into 3 parts: 1.) The fascinating introduction that sets the intellectual scene of c. 10-12th century Muslim world. 2.) the translation on Averroes’ own writings. 3.) the brilliant elaborating notes on the translation. And central to all of this is Averroes’ superb thoughts on the question of the era – the harmony of religion and philosophy – that may have already settled the age-old debate between religion and philosophy around 900 years ago.\n",
      "---\n",
      "I must say that I am quite conflicted about this book. Particularly because, the version of it I read, by Dodo Press, was quite a shoddy work. Translation, how it was structured and the terms that were used, were confusing to say the least, especially if one is already familiar with the larger philosophical context in which the work was written: That is, primarily to say, that the book was written with the translator's own (potentially limited) understanding, rather than with modern counterparts of the terms used by Ibn Rushd himself. This makes the book quite a confusing read, that is not to say that it wouldn't have been a confusing read otherwise, but... I don't know.Other than that, Ibn Rushd seems to touch upon some interesting points and \"novel\" arguments, within his context. While I suspect that, especially the earlier parts, are muddled by the translation.\n",
      "---\n"
     ]
    }
   ],
   "source": [
    "for x in reviews_body:\n",
    "    print(x.text)\n",
    "    print('---')"
   ]
  },
  {
   "cell_type": "markdown",
   "id": "4dffd0e6",
   "metadata": {},
   "source": [
    "#### This was the old solution. But, we cannot get only the actual review/text since we navigated to the body and to the span with the style=display:none"
   ]
  },
  {
   "cell_type": "markdown",
   "id": "3c954909",
   "metadata": {},
   "source": [
    "review_body--->2 text reviews--->navigate to review with styl=disply:none--->cannot iterate throught the text"
   ]
  },
  {
   "cell_type": "code",
   "execution_count": 103,
   "id": "a1b5ff86",
   "metadata": {},
   "outputs": [
    {
     "name": "stdout",
     "output_type": "stream",
     "text": [
      "[<span id=\"freeText12787922183483073471\" style=\"display:none\">Averroes was a great philosopher, but the end of his life was miserable his books burned he was exiled and I don't find this surprising; his ideas were not accepted, it was too hard for the people to understand it, to understand that his word is better for them and for humanity. in this book he tried to defend the ideas of Avicenna and Al-Farabi because they said that the world is old as a God and God does not know the molecules; because someone started a war on the philosophers by his book The Incoherence of the Philosophers by Mohammed al-Ghazali. Averroes also tried to say that the mind and religions can work together but at the end, Averroes lost everything Muslims now are studying Mohammed al-Ghazali and Ibn Taymiyyah, not Averroes.<br/>Update 6/5/2020 This review sounds childish now.</span>]\n",
      "[<span id=\"freeText17800258229666942108\" style=\"display:none\">Two important takeaways from the book:<br/><br/>1. On its own, there is nothing ground breaking about this book. However, when you read it while keeping the historical context in mind (the time it was written, and the issues it touches), this is an important work.<br/><br/>2. If you are expecting a detailed discussion of the issues where philosophy and religion are on the same (or different) page, you will be disappointed. Averroes only briefly touches upon as to why the disentanglement between philosophy and religion arises. So the title might be a bit misleading for some. More appropriately, the book is more a prolegomena in which Averroes touches upon three key issues:<br/><br/> (i) Why there are different interpretations of some Scriptural (Quranic) texts, and what are the consequences of these different interpretations.<br/><br/> (ii) Who should interpret the Scripture and how.<br/><br/> (iii) Why it is important to know the audience, as not every interpretation (exegesis) is for everyone. For instance, if the allegorical interpretations are expressed to someone whose mental capacity is only enough to understand apparent meaning, he can be led into unbelief.<br/><br/>Averroes criticizes Mu'tazilites and Ash'araites for exposing the masses to such allegorical interpretations of Quran that are only suitable for learned scholars. He is of the view that it was due to the these allegorical interpretations (especially the false ones) <i>“of Mu'tazilites and Ash'araites and the supposition that such interpretations of the Scripture ought to be expressed to everyone, that the sects of Islam arose, with result that each one accused the others of unbelief and hearsay.”</i></span>]\n",
      "[<span id=\"freeText5963477303334037097\" style=\"display:none\">I want to read this book for a second time, and that is because I am employing a very essential concept being discussed by this brilliant scholar here. <br/>After my second read, I will be writing a new thorough review with a general outline of what I have adopted from his views and what I have humbly rejected.<br/>Put in simple words, I am amazed by this Philosopher, and I have found great joy and enlightenment as I read this work, although I regard him to be a little bit of an elitist.<br/>Such organization, such brilliance, such lucidity: Ibn Rushd is simply an amazing and a beautiful mind.</span>]\n",
      "[<span id=\"freeText662507161654079237\" style=\"display:none\">After reading this book, I have a better idea about the philosophy of Averroes, the translation and notes by Hourani are very useful and helps to understand the obscure passages. I believe the ultimate message of this book is to help us live a good life, as it is cited by the author in certain passages like this one \" Right practice consists in performing the acts which brings happiness and avoiding the acts which brings misery\".</span>]\n",
      "[<span id=\"freeText15010365374264826179\" style=\"display:none\">Averroes, also known as Ibn Rushd, was a legal scholar of the Maliki school of Islamic law. He inspired St Thomas Aquinas and many Muslim, Catholic and Jewish scholars alike, while at the same time regarded as the “founding father of secular thought in Europe.” He is the only Muslim painted in the Sistine Chapel (the guy with the turban in the “Scuola di Atene” painting), and grouped by Dante in his 14th century masterpiece “Divine Comedy” among great philosophers such as Plato and Aristotle.<br/><br/>Famous for bringing back the almost vanished teachings of Aristotle through his commentary work, he was trained in law, medicine and philosophy, and became the chief judge of Cordoba during the Golden Age of inventions in the Muslim world in the 12th century (that brought us al-gebra, al-chemy, al-gorithm among many others).<br/><br/>His life story alone reveals so much about the lost Islamic history and the rich culture Muslims had way before the Renaissance (which started to civilise the West 2 centuries later). And his resulting thinkings are the product of the advanced knowledge during that Islamic Golden Age, which would make today’s Islamic culture (with de-facto caliphate of the descendants of Muhhamad bin Saud and Abdul-Wahhab) looks medieval and simplistic by comparison. But yet, just like Ibn Al-Haytam who wrote the theory of gravity 600 years before Isaac Newton, and Al-Tusi and Al-Gazali whose work on free-market economy were copied by Adam Smith, the work of Averroes remains unknown in our modern world.<br/><br/>This well-researched book (written in 1960) is the attempt to bring back the stories of the complex theological debates between Muslim scholars during the Golden Age of Islam. The book is divided into 3 parts: 1.) The fascinating introduction that sets the intellectual scene of c. 10-12th century Muslim world. 2.) the translation on Averroes’ own writings. 3.) the brilliant elaborating notes on the translation. And central to all of this is Averroes’ superb thoughts on the question of the era – the harmony of religion and philosophy – that may have already settled the age-old debate between religion and philosophy around 900 years ago.</span>]\n",
      "[<span id=\"freeText9319013594934650078\" style=\"display:none\">I must say that I am quite conflicted about this book. Particularly because, the version of it I read, by Dodo Press, was quite a shoddy work. Translation, how it was structured and the terms that were used, were confusing to say the least, especially if one is already familiar with the larger philosophical context in which the work was written: That is, primarily to say, that the book was written with the translator's own (potentially limited) understanding, rather than with modern counterparts of the terms used by Ibn Rushd himself. <br/><br/>This makes the book quite a confusing read, that is not to say that it wouldn't have been a confusing read otherwise, but... I don't know.<br/><br/>Other than that, Ibn Rushd seems to touch upon some interesting points and \"novel\" arguments, within his context. While I suspect that, especially the earlier parts, are muddled by the translation.</span>]\n",
      "[]\n",
      "[]\n"
     ]
    }
   ],
   "source": [
    "for x in reviews_body:\n",
    "    print(x.select(\"[style*='display:none']\"))"
   ]
  },
  {
   "cell_type": "code",
   "execution_count": 20,
   "id": "c1a4ebe2",
   "metadata": {},
   "outputs": [
    {
     "data": {
      "text/plain": [
       "[\"Averroes was a great philosopher, but the end of his life was miserable his books burned he was exiled and I don't find this surprising; his ideas were not accepted, it was too hard for the people to understand it, to understand that his word is better for them and for humanity. in this book he tried to defend the ideas of Avicenna and Al-Farabi because they said that the world is old as a God and God does not know the molecules; because someone started a war on the philosophers by his book The Incoherence of the Philosophers by Mohammed al-Ghazali. Averroes also tried to say that the mind and religions can work together but at the end, Averroes lost everything Muslims now are studying Mohammed al-Ghazali and Ibn Taymiyyah, not Averroes.Update 6/5/2020 This review sounds childish now.\",\n",
       " \"Two important takeaways from the book:1. On its own, there is nothing ground breaking about this book. However, when you read it while keeping the historical context in mind (the time it was written, and the issues it touches), this is an important work.2. If you are expecting a detailed discussion of the issues where philosophy and religion are on the same (or different) page, you will be disappointed. Averroes only briefly touches upon as to why the disentanglement between philosophy and religion arises. So the title might be a bit misleading for some. More appropriately, the book is more a prolegomena in which Averroes touches upon three key issues: (i) Why there are different interpretations of some Scriptural (Quranic) texts, and what are the consequences of these different interpretations. (ii) Who should interpret the Scripture and how. (iii) Why it is important to know the audience, as not every interpretation (exegesis) is for everyone. For instance, if the allegorical interpretations are expressed to someone whose mental capacity is only enough to understand apparent meaning, he can be led into unbelief.Averroes criticizes Mu'tazilites and Ash'araites for exposing the masses to such allegorical interpretations of Quran that are only suitable for learned scholars. He is of the view that it was due to the these allegorical interpretations (especially the false ones) “of Mu'tazilites and Ash'araites and the supposition that such interpretations of the Scripture ought to be expressed to everyone, that the sects of Islam arose, with result that each one accused the others of unbelief and hearsay.”\",\n",
       " 'I want to read this book for a second time, and that is because I am employing a very essential concept being discussed by this brilliant scholar here. After my second read, I will be writing a new thorough review with a general outline of what I have adopted from his views and what I have humbly rejected.Put in simple words, I am amazed by this Philosopher, and I have found great joy and enlightenment as I read this work, although I regard him to be a little bit of an elitist.Such organization, such brilliance, such lucidity: Ibn Rushd is simply an amazing and a beautiful mind.',\n",
       " 'After reading this book, I have a better idea about the philosophy of Averroes, the translation and notes by Hourani are very useful and helps to understand the obscure passages. I believe the ultimate message of this book is to help us live a good life, as it is cited by the author in certain passages like this one \" Right practice consists in performing the acts which brings happiness and avoiding the acts which brings misery\".',\n",
       " 'Averroes, also known as Ibn Rushd, was a legal scholar of the Maliki school of Islamic law. He inspired St Thomas Aquinas and many Muslim, Catholic and Jewish scholars alike, while at the same time regarded as the “founding father of secular thought in Europe.” He is the only Muslim painted in the Sistine Chapel (the guy with the turban in the “Scuola di Atene” painting), and grouped by Dante in his 14th century masterpiece “Divine Comedy” among great philosophers such as Plato and Aristotle.Famous for bringing back the almost vanished teachings of Aristotle through his commentary work, he was trained in law, medicine and philosophy, and became the chief judge of Cordoba during the Golden Age of inventions in the Muslim world in the 12th century (that brought us al-gebra, al-chemy, al-gorithm among many others).His life story alone reveals so much about the lost Islamic history and the rich culture Muslims had way before the Renaissance (which started to civilise the West 2 centuries later). And his resulting thinkings are the product of the advanced knowledge during that Islamic Golden Age, which would make today’s Islamic culture (with de-facto caliphate of the descendants of Muhhamad bin Saud and Abdul-Wahhab) looks medieval and simplistic by comparison. But yet, just like Ibn Al-Haytam who wrote the theory of gravity 600 years before Isaac Newton, and Al-Tusi and Al-Gazali whose work on free-market economy were copied by Adam Smith, the work of Averroes remains unknown in our modern world.This well-researched book (written in 1960) is the attempt to bring back the stories of the complex theological debates between Muslim scholars during the Golden Age of Islam. The book is divided into 3 parts: 1.) The fascinating introduction that sets the intellectual scene of c. 10-12th century Muslim world. 2.) the translation on Averroes’ own writings. 3.) the brilliant elaborating notes on the translation. And central to all of this is Averroes’ superb thoughts on the question of the era – the harmony of religion and philosophy – that may have already settled the age-old debate between religion and philosophy around 900 years ago.',\n",
       " 'I must say that I am quite conflicted about this book. Particularly because, the version of it I read, by Dodo Press, was quite a shoddy work. Translation, how it was structured and the terms that were used, were confusing to say the least, especially if one is already familiar with the larger philosophical context in which the work was written: That is, primarily to say, that the book was written with the translator\\'s own (potentially limited) understanding, rather than with modern counterparts of the terms used by Ibn Rushd himself. This makes the book quite a confusing read, that is not to say that it wouldn\\'t have been a confusing read otherwise, but... I don\\'t know.Other than that, Ibn Rushd seems to touch upon some interesting points and \"novel\" arguments, within his context. While I suspect that, especially the earlier parts, are muddled by the translation.']"
      ]
     },
     "execution_count": 20,
     "metadata": {},
     "output_type": "execute_result"
    }
   ],
   "source": [
    "user_reviews=[review.text for review in reviews_body]\n",
    "user_reviews"
   ]
  },
  {
   "cell_type": "markdown",
   "id": "619f42b7",
   "metadata": {},
   "source": [
    "# Making dataframe"
   ]
  },
  {
   "cell_type": "code",
   "execution_count": 33,
   "id": "e501c5a5",
   "metadata": {},
   "outputs": [
    {
     "data": {
      "text/plain": [
       "['Julian',\n",
       " 'Haider Hussain',\n",
       " 'H.A.A. Zayour',\n",
       " 'Ismaïl  Ismaïlovitch ',\n",
       " 'Edwin Setiadi',\n",
       " 'Barry Edwards',\n",
       " 'Maher Khaled',\n",
       " 'Loubna Mckouar']"
      ]
     },
     "execution_count": 33,
     "metadata": {},
     "output_type": "execute_result"
    }
   ],
   "source": [
    "user_usernames"
   ]
  },
  {
   "cell_type": "code",
   "execution_count": 34,
   "id": "8a2a6226",
   "metadata": {},
   "outputs": [
    {
     "data": {
      "text/plain": [
       "[\"Averroes was a great philosopher, but the end of his life was miserable his books burned he was exiled and I don't find this surprising; his ideas were not accepted, it was too hard for the people to understand it, to understand that his word is better for them and for humanity. in this book he tried to defend the ideas of Avicenna and Al-Farabi because they said that the world is old as a God and God does not know the molecules; because someone started a war on the philosophers by his book The Incoherence of the Philosophers by Mohammed al-Ghazali. Averroes also tried to say that the mind and religions can work together but at the end, Averroes lost everything Muslims now are studying Mohammed al-Ghazali and Ibn Taymiyyah, not Averroes.Update 6/5/2020 This review sounds childish now.\",\n",
       " \"Two important takeaways from the book:1. On its own, there is nothing ground breaking about this book. However, when you read it while keeping the historical context in mind (the time it was written, and the issues it touches), this is an important work.2. If you are expecting a detailed discussion of the issues where philosophy and religion are on the same (or different) page, you will be disappointed. Averroes only briefly touches upon as to why the disentanglement between philosophy and religion arises. So the title might be a bit misleading for some. More appropriately, the book is more a prolegomena in which Averroes touches upon three key issues: (i) Why there are different interpretations of some Scriptural (Quranic) texts, and what are the consequences of these different interpretations. (ii) Who should interpret the Scripture and how. (iii) Why it is important to know the audience, as not every interpretation (exegesis) is for everyone. For instance, if the allegorical interpretations are expressed to someone whose mental capacity is only enough to understand apparent meaning, he can be led into unbelief.Averroes criticizes Mu'tazilites and Ash'araites for exposing the masses to such allegorical interpretations of Quran that are only suitable for learned scholars. He is of the view that it was due to the these allegorical interpretations (especially the false ones) “of Mu'tazilites and Ash'araites and the supposition that such interpretations of the Scripture ought to be expressed to everyone, that the sects of Islam arose, with result that each one accused the others of unbelief and hearsay.”\",\n",
       " 'I want to read this book for a second time, and that is because I am employing a very essential concept being discussed by this brilliant scholar here. After my second read, I will be writing a new thorough review with a general outline of what I have adopted from his views and what I have humbly rejected.Put in simple words, I am amazed by this Philosopher, and I have found great joy and enlightenment as I read this work, although I regard him to be a little bit of an elitist.Such organization, such brilliance, such lucidity: Ibn Rushd is simply an amazing and a beautiful mind.',\n",
       " 'After reading this book, I have a better idea about the philosophy of Averroes, the translation and notes by Hourani are very useful and helps to understand the obscure passages. I believe the ultimate message of this book is to help us live a good life, as it is cited by the author in certain passages like this one \" Right practice consists in performing the acts which brings happiness and avoiding the acts which brings misery\".',\n",
       " 'Averroes, also known as Ibn Rushd, was a legal scholar of the Maliki school of Islamic law. He inspired St Thomas Aquinas and many Muslim, Catholic and Jewish scholars alike, while at the same time regarded as the “founding father of secular thought in Europe.” He is the only Muslim painted in the Sistine Chapel (the guy with the turban in the “Scuola di Atene” painting), and grouped by Dante in his 14th century masterpiece “Divine Comedy” among great philosophers such as Plato and Aristotle.Famous for bringing back the almost vanished teachings of Aristotle through his commentary work, he was trained in law, medicine and philosophy, and became the chief judge of Cordoba during the Golden Age of inventions in the Muslim world in the 12th century (that brought us al-gebra, al-chemy, al-gorithm among many others).His life story alone reveals so much about the lost Islamic history and the rich culture Muslims had way before the Renaissance (which started to civilise the West 2 centuries later). And his resulting thinkings are the product of the advanced knowledge during that Islamic Golden Age, which would make today’s Islamic culture (with de-facto caliphate of the descendants of Muhhamad bin Saud and Abdul-Wahhab) looks medieval and simplistic by comparison. But yet, just like Ibn Al-Haytam who wrote the theory of gravity 600 years before Isaac Newton, and Al-Tusi and Al-Gazali whose work on free-market economy were copied by Adam Smith, the work of Averroes remains unknown in our modern world.This well-researched book (written in 1960) is the attempt to bring back the stories of the complex theological debates between Muslim scholars during the Golden Age of Islam. The book is divided into 3 parts: 1.) The fascinating introduction that sets the intellectual scene of c. 10-12th century Muslim world. 2.) the translation on Averroes’ own writings. 3.) the brilliant elaborating notes on the translation. And central to all of this is Averroes’ superb thoughts on the question of the era – the harmony of religion and philosophy – that may have already settled the age-old debate between religion and philosophy around 900 years ago.',\n",
       " 'I must say that I am quite conflicted about this book. Particularly because, the version of it I read, by Dodo Press, was quite a shoddy work. Translation, how it was structured and the terms that were used, were confusing to say the least, especially if one is already familiar with the larger philosophical context in which the work was written: That is, primarily to say, that the book was written with the translator\\'s own (potentially limited) understanding, rather than with modern counterparts of the terms used by Ibn Rushd himself. This makes the book quite a confusing read, that is not to say that it wouldn\\'t have been a confusing read otherwise, but... I don\\'t know.Other than that, Ibn Rushd seems to touch upon some interesting points and \"novel\" arguments, within his context. While I suspect that, especially the earlier parts, are muddled by the translation.']"
      ]
     },
     "execution_count": 34,
     "metadata": {},
     "output_type": "execute_result"
    }
   ],
   "source": [
    "user_reviews"
   ]
  },
  {
   "cell_type": "code",
   "execution_count": 38,
   "id": "c490cfed",
   "metadata": {},
   "outputs": [
    {
     "data": {
      "text/plain": [
       "0                   Julian\n",
       "1           Haider Hussain\n",
       "2            H.A.A. Zayour\n",
       "3    Ismaïl  Ismaïlovitch \n",
       "4            Edwin Setiadi\n",
       "5            Barry Edwards\n",
       "6             Maher Khaled\n",
       "7           Loubna Mckouar\n",
       "dtype: object"
      ]
     },
     "execution_count": 38,
     "metadata": {},
     "output_type": "execute_result"
    }
   ],
   "source": [
    "user_usernames_series=pd.Series(user_usernames)\n",
    "user_usernames_series"
   ]
  },
  {
   "cell_type": "code",
   "execution_count": 40,
   "id": "8c641cf1",
   "metadata": {},
   "outputs": [
    {
     "data": {
      "text/plain": [
       "0    Averroes was a great philosopher, but the end ...\n",
       "1    Two important takeaways from the book:1. On it...\n",
       "2    I want to read this book for a second time, an...\n",
       "3    After reading this book, I have a better idea ...\n",
       "4    Averroes, also known as Ibn Rushd, was a legal...\n",
       "5    I must say that I am quite conflicted about th...\n",
       "dtype: object"
      ]
     },
     "execution_count": 40,
     "metadata": {},
     "output_type": "execute_result"
    }
   ],
   "source": [
    "user_reviews_series=pd.Series(user_reviews)\n",
    "user_reviews_series"
   ]
  },
  {
   "cell_type": "code",
   "execution_count": 43,
   "id": "48ba597d",
   "metadata": {},
   "outputs": [
    {
     "data": {
      "text/html": [
       "<div>\n",
       "<style scoped>\n",
       "    .dataframe tbody tr th:only-of-type {\n",
       "        vertical-align: middle;\n",
       "    }\n",
       "\n",
       "    .dataframe tbody tr th {\n",
       "        vertical-align: top;\n",
       "    }\n",
       "\n",
       "    .dataframe thead th {\n",
       "        text-align: right;\n",
       "    }\n",
       "</style>\n",
       "<table border=\"1\" class=\"dataframe\">\n",
       "  <thead>\n",
       "    <tr style=\"text-align: right;\">\n",
       "      <th></th>\n",
       "      <th>0</th>\n",
       "      <th>1</th>\n",
       "    </tr>\n",
       "  </thead>\n",
       "  <tbody>\n",
       "    <tr>\n",
       "      <th>0</th>\n",
       "      <td>Julian</td>\n",
       "      <td>Averroes was a great philosopher, but the end ...</td>\n",
       "    </tr>\n",
       "    <tr>\n",
       "      <th>1</th>\n",
       "      <td>Haider Hussain</td>\n",
       "      <td>Two important takeaways from the book:1. On it...</td>\n",
       "    </tr>\n",
       "    <tr>\n",
       "      <th>2</th>\n",
       "      <td>H.A.A. Zayour</td>\n",
       "      <td>I want to read this book for a second time, an...</td>\n",
       "    </tr>\n",
       "    <tr>\n",
       "      <th>3</th>\n",
       "      <td>Ismaïl  Ismaïlovitch</td>\n",
       "      <td>After reading this book, I have a better idea ...</td>\n",
       "    </tr>\n",
       "    <tr>\n",
       "      <th>4</th>\n",
       "      <td>Edwin Setiadi</td>\n",
       "      <td>Averroes, also known as Ibn Rushd, was a legal...</td>\n",
       "    </tr>\n",
       "    <tr>\n",
       "      <th>5</th>\n",
       "      <td>Barry Edwards</td>\n",
       "      <td>I must say that I am quite conflicted about th...</td>\n",
       "    </tr>\n",
       "    <tr>\n",
       "      <th>6</th>\n",
       "      <td>Maher Khaled</td>\n",
       "      <td>NaN</td>\n",
       "    </tr>\n",
       "    <tr>\n",
       "      <th>7</th>\n",
       "      <td>Loubna Mckouar</td>\n",
       "      <td>NaN</td>\n",
       "    </tr>\n",
       "  </tbody>\n",
       "</table>\n",
       "</div>"
      ],
      "text/plain": [
       "                       0                                                  1\n",
       "0                 Julian  Averroes was a great philosopher, but the end ...\n",
       "1         Haider Hussain  Two important takeaways from the book:1. On it...\n",
       "2          H.A.A. Zayour  I want to read this book for a second time, an...\n",
       "3  Ismaïl  Ismaïlovitch   After reading this book, I have a better idea ...\n",
       "4          Edwin Setiadi  Averroes, also known as Ibn Rushd, was a legal...\n",
       "5          Barry Edwards  I must say that I am quite conflicted about th...\n",
       "6           Maher Khaled                                                NaN\n",
       "7         Loubna Mckouar                                                NaN"
      ]
     },
     "execution_count": 43,
     "metadata": {},
     "output_type": "execute_result"
    }
   ],
   "source": [
    "df=pd.concat([user_usernames_series,user_reviews_series],axis=1)\n",
    "df"
   ]
  },
  {
   "cell_type": "markdown",
   "id": "0566a6da",
   "metadata": {},
   "source": [
    "#### Fill in the missing values manually"
   ]
  },
  {
   "cell_type": "code",
   "execution_count": 49,
   "id": "0a4bb780",
   "metadata": {},
   "outputs": [],
   "source": [
    "df.iloc[6][1]='very good quick read'"
   ]
  },
  {
   "cell_type": "code",
   "execution_count": 52,
   "id": "f07e9db0",
   "metadata": {},
   "outputs": [],
   "source": [
    "df.iloc[7][1]='A must read'"
   ]
  },
  {
   "cell_type": "code",
   "execution_count": 54,
   "id": "f00f58de",
   "metadata": {},
   "outputs": [],
   "source": [
    "df.columns=['user','review']"
   ]
  },
  {
   "cell_type": "markdown",
   "id": "e4db07d8",
   "metadata": {},
   "source": [
    "# Final dataframe"
   ]
  },
  {
   "cell_type": "code",
   "execution_count": 58,
   "id": "df93ea7a",
   "metadata": {},
   "outputs": [
    {
     "data": {
      "text/html": [
       "<div>\n",
       "<style scoped>\n",
       "    .dataframe tbody tr th:only-of-type {\n",
       "        vertical-align: middle;\n",
       "    }\n",
       "\n",
       "    .dataframe tbody tr th {\n",
       "        vertical-align: top;\n",
       "    }\n",
       "\n",
       "    .dataframe thead th {\n",
       "        text-align: right;\n",
       "    }\n",
       "</style>\n",
       "<table border=\"1\" class=\"dataframe\">\n",
       "  <thead>\n",
       "    <tr style=\"text-align: right;\">\n",
       "      <th></th>\n",
       "      <th>user</th>\n",
       "      <th>review</th>\n",
       "    </tr>\n",
       "  </thead>\n",
       "  <tbody>\n",
       "    <tr>\n",
       "      <th>0</th>\n",
       "      <td>Julian</td>\n",
       "      <td>Averroes was a great philosopher, but the end ...</td>\n",
       "    </tr>\n",
       "    <tr>\n",
       "      <th>1</th>\n",
       "      <td>Haider Hussain</td>\n",
       "      <td>Two important takeaways from the book:1. On it...</td>\n",
       "    </tr>\n",
       "    <tr>\n",
       "      <th>2</th>\n",
       "      <td>H.A.A. Zayour</td>\n",
       "      <td>I want to read this book for a second time, an...</td>\n",
       "    </tr>\n",
       "    <tr>\n",
       "      <th>3</th>\n",
       "      <td>Ismaïl  Ismaïlovitch</td>\n",
       "      <td>After reading this book, I have a better idea ...</td>\n",
       "    </tr>\n",
       "    <tr>\n",
       "      <th>4</th>\n",
       "      <td>Edwin Setiadi</td>\n",
       "      <td>Averroes, also known as Ibn Rushd, was a legal...</td>\n",
       "    </tr>\n",
       "    <tr>\n",
       "      <th>5</th>\n",
       "      <td>Barry Edwards</td>\n",
       "      <td>I must say that I am quite conflicted about th...</td>\n",
       "    </tr>\n",
       "    <tr>\n",
       "      <th>6</th>\n",
       "      <td>Maher Khaled</td>\n",
       "      <td>very good quick read</td>\n",
       "    </tr>\n",
       "    <tr>\n",
       "      <th>7</th>\n",
       "      <td>Loubna Mckouar</td>\n",
       "      <td>A must read</td>\n",
       "    </tr>\n",
       "  </tbody>\n",
       "</table>\n",
       "</div>"
      ],
      "text/plain": [
       "                    user                                             review\n",
       "0                 Julian  Averroes was a great philosopher, but the end ...\n",
       "1         Haider Hussain  Two important takeaways from the book:1. On it...\n",
       "2          H.A.A. Zayour  I want to read this book for a second time, an...\n",
       "3  Ismaïl  Ismaïlovitch   After reading this book, I have a better idea ...\n",
       "4          Edwin Setiadi  Averroes, also known as Ibn Rushd, was a legal...\n",
       "5          Barry Edwards  I must say that I am quite conflicted about th...\n",
       "6           Maher Khaled                               very good quick read\n",
       "7         Loubna Mckouar                                        A must read"
      ]
     },
     "execution_count": 58,
     "metadata": {},
     "output_type": "execute_result"
    }
   ],
   "source": [
    "df"
   ]
  },
  {
   "cell_type": "markdown",
   "id": "55b0da62",
   "metadata": {},
   "source": [
    "# Reviews analysis without text preprocessing"
   ]
  },
  {
   "cell_type": "markdown",
   "id": "98c9d8db",
   "metadata": {},
   "source": [
    "### For sentiment analysis, we will be using a pre trained model from Textblob"
   ]
  },
  {
   "cell_type": "markdown",
   "id": "6e305be4",
   "metadata": {},
   "source": [
    "Polarity=Polarity lies in the range of [-1,1] where 1\n",
    "means a positive statement and -1 means a negative\n",
    "statement.\n",
    "\n",
    "Subjectivity = Subjectivity refers that mostly it is a\n",
    "public opinion and not factual information [0,1]. The higher the number, it is most likely a public opinion not a factual inforamtion"
   ]
  },
  {
   "cell_type": "code",
   "execution_count": 66,
   "id": "dfffdaa7",
   "metadata": {},
   "outputs": [
    {
     "data": {
      "text/plain": [
       "\"Averroes was a great philosopher, but the end of his life was miserable his books burned he was exiled and I don't find this surprising; his ideas were not accepted, it was too hard for the people to understand it, to understand that his word is better for them and for humanity. in this book he tried to defend the ideas of Avicenna and Al-Farabi because they said that the world is old as a God and God does not know the molecules; because someone started a war on the philosophers by his book The Incoherence of the Philosophers by Mohammed al-Ghazali. Averroes also tried to say that the mind and religions can work together but at the end, Averroes lost everything Muslims now are studying Mohammed al-Ghazali and Ibn Taymiyyah, not Averroes.Update 6/5/2020 This review sounds childish now.\""
      ]
     },
     "execution_count": 66,
     "metadata": {},
     "output_type": "execute_result"
    }
   ],
   "source": [
    "df['review'][0]"
   ]
  },
  {
   "cell_type": "code",
   "execution_count": 67,
   "id": "c91c77fa",
   "metadata": {},
   "outputs": [],
   "source": [
    "blob=TextBlob(df['review'][0])"
   ]
  },
  {
   "cell_type": "code",
   "execution_count": 68,
   "id": "15f43a33",
   "metadata": {},
   "outputs": [
    {
     "data": {
      "text/plain": [
       "Sentiment(polarity=0.08690476190476189, subjectivity=0.6130952380952381)"
      ]
     },
     "execution_count": 68,
     "metadata": {},
     "output_type": "execute_result"
    }
   ],
   "source": [
    "blob.sentiment"
   ]
  },
  {
   "cell_type": "markdown",
   "id": "2491c4db",
   "metadata": {},
   "source": [
    "#### Define a function that will go through the column and get its sentiment score"
   ]
  },
  {
   "cell_type": "code",
   "execution_count": 69,
   "id": "4ddef32b",
   "metadata": {},
   "outputs": [],
   "source": [
    "def senti(x):\n",
    "    return TextBlob(x).sentiment"
   ]
  },
  {
   "cell_type": "code",
   "execution_count": 74,
   "id": "92bec8a3",
   "metadata": {},
   "outputs": [],
   "source": [
    "df['sentiment score']=df['review'].apply(senti)"
   ]
  },
  {
   "cell_type": "code",
   "execution_count": 80,
   "id": "b39a1958",
   "metadata": {},
   "outputs": [
    {
     "data": {
      "text/html": [
       "<div>\n",
       "<style scoped>\n",
       "    .dataframe tbody tr th:only-of-type {\n",
       "        vertical-align: middle;\n",
       "    }\n",
       "\n",
       "    .dataframe tbody tr th {\n",
       "        vertical-align: top;\n",
       "    }\n",
       "\n",
       "    .dataframe thead th {\n",
       "        text-align: right;\n",
       "    }\n",
       "</style>\n",
       "<table border=\"1\" class=\"dataframe\">\n",
       "  <thead>\n",
       "    <tr style=\"text-align: right;\">\n",
       "      <th></th>\n",
       "      <th>user</th>\n",
       "      <th>review</th>\n",
       "      <th>sentiment score</th>\n",
       "    </tr>\n",
       "  </thead>\n",
       "  <tbody>\n",
       "    <tr>\n",
       "      <th>0</th>\n",
       "      <td>Julian</td>\n",
       "      <td>Averroes was a great philosopher, but the end ...</td>\n",
       "      <td>(0.08690476190476189, 0.6130952380952381)</td>\n",
       "    </tr>\n",
       "    <tr>\n",
       "      <th>1</th>\n",
       "      <td>Haider Hussain</td>\n",
       "      <td>Two important takeaways from the book:1. On it...</td>\n",
       "      <td>(0.07499999999999998, 0.6563218390804597)</td>\n",
       "    </tr>\n",
       "    <tr>\n",
       "      <th>2</th>\n",
       "      <td>H.A.A. Zayour</td>\n",
       "      <td>I want to read this book for a second time, an...</td>\n",
       "      <td>(0.24992424242424244, 0.4967792207792208)</td>\n",
       "    </tr>\n",
       "    <tr>\n",
       "      <th>3</th>\n",
       "      <td>Ismaïl  Ismaïlovitch</td>\n",
       "      <td>After reading this book, I have a better idea ...</td>\n",
       "      <td>(0.3657954545454545, 0.4883928571428572)</td>\n",
       "    </tr>\n",
       "    <tr>\n",
       "      <th>4</th>\n",
       "      <td>Edwin Setiadi</td>\n",
       "      <td>Averroes, also known as Ibn Rushd, was a legal...</td>\n",
       "      <td>(0.23017241379310344, 0.4491379310344827)</td>\n",
       "    </tr>\n",
       "    <tr>\n",
       "      <th>5</th>\n",
       "      <td>Barry Edwards</td>\n",
       "      <td>I must say that I am quite conflicted about th...</td>\n",
       "      <td>(0.03942577030812325, 0.4927170868347339)</td>\n",
       "    </tr>\n",
       "    <tr>\n",
       "      <th>6</th>\n",
       "      <td>Maher Khaled</td>\n",
       "      <td>very good quick read</td>\n",
       "      <td>(0.6216666666666666, 0.6400000000000001)</td>\n",
       "    </tr>\n",
       "    <tr>\n",
       "      <th>7</th>\n",
       "      <td>Loubna Mckouar</td>\n",
       "      <td>A must read</td>\n",
       "      <td>(0.0, 0.0)</td>\n",
       "    </tr>\n",
       "  </tbody>\n",
       "</table>\n",
       "</div>"
      ],
      "text/plain": [
       "                    user                                             review  \\\n",
       "0                 Julian  Averroes was a great philosopher, but the end ...   \n",
       "1         Haider Hussain  Two important takeaways from the book:1. On it...   \n",
       "2          H.A.A. Zayour  I want to read this book for a second time, an...   \n",
       "3  Ismaïl  Ismaïlovitch   After reading this book, I have a better idea ...   \n",
       "4          Edwin Setiadi  Averroes, also known as Ibn Rushd, was a legal...   \n",
       "5          Barry Edwards  I must say that I am quite conflicted about th...   \n",
       "6           Maher Khaled                               very good quick read   \n",
       "7         Loubna Mckouar                                        A must read   \n",
       "\n",
       "                             sentiment score  \n",
       "0  (0.08690476190476189, 0.6130952380952381)  \n",
       "1  (0.07499999999999998, 0.6563218390804597)  \n",
       "2  (0.24992424242424244, 0.4967792207792208)  \n",
       "3   (0.3657954545454545, 0.4883928571428572)  \n",
       "4  (0.23017241379310344, 0.4491379310344827)  \n",
       "5  (0.03942577030812325, 0.4927170868347339)  \n",
       "6   (0.6216666666666666, 0.6400000000000001)  \n",
       "7                                 (0.0, 0.0)  "
      ]
     },
     "execution_count": 80,
     "metadata": {},
     "output_type": "execute_result"
    }
   ],
   "source": [
    "df"
   ]
  },
  {
   "cell_type": "markdown",
   "id": "eb86ec5c",
   "metadata": {},
   "source": [
    "# Reviews analysis with text preprocessing"
   ]
  },
  {
   "cell_type": "code",
   "execution_count": 82,
   "id": "899af787",
   "metadata": {},
   "outputs": [],
   "source": [
    "from nltk.corpus import stopwords\n",
    "from textblob import TextBlob\n",
    "from textblob import Word"
   ]
  },
  {
   "cell_type": "markdown",
   "id": "1e9e3a8b",
   "metadata": {},
   "source": [
    "### Lower casing the reviews."
   ]
  },
  {
   "cell_type": "code",
   "execution_count": 90,
   "id": "f85b27a5",
   "metadata": {},
   "outputs": [],
   "source": [
    "df['review']=df['review'].apply(lambda x : x.lower())"
   ]
  },
  {
   "cell_type": "code",
   "execution_count": 92,
   "id": "dd09792b",
   "metadata": {},
   "outputs": [
    {
     "data": {
      "text/plain": [
       "\"averroes was a great philosopher, but the end of his life was miserable his books burned he was exiled and i don't find this surprising; his ideas were not accepted, it was too hard for the people to understand it, to understand that his word is better for them and for humanity. in this book he tried to defend the ideas of avicenna and al-farabi because they said that the world is old as a god and god does not know the molecules; because someone started a war on the philosophers by his book the incoherence of the philosophers by mohammed al-ghazali. averroes also tried to say that the mind and religions can work together but at the end, averroes lost everything muslims now are studying mohammed al-ghazali and ibn taymiyyah, not averroes.update 6/5/2020 this review sounds childish now.\""
      ]
     },
     "execution_count": 92,
     "metadata": {},
     "output_type": "execute_result"
    }
   ],
   "source": [
    "df['review'][0]"
   ]
  },
  {
   "cell_type": "markdown",
   "id": "498fd4d5",
   "metadata": {},
   "source": [
    "### Removing punctuation"
   ]
  },
  {
   "cell_type": "code",
   "execution_count": 95,
   "id": "3b560025",
   "metadata": {},
   "outputs": [
    {
     "name": "stderr",
     "output_type": "stream",
     "text": [
      "<ipython-input-95-c8df73e0fd79>:1: FutureWarning: The default value of regex will change from True to False in a future version.\n",
      "  df['review']=df['review'].str.replace('[^\\w\\s]','')\n"
     ]
    }
   ],
   "source": [
    "df['review']=df['review'].str.replace('[^\\w\\s]','')"
   ]
  },
  {
   "cell_type": "code",
   "execution_count": 97,
   "id": "1ea6ac0c",
   "metadata": {},
   "outputs": [
    {
     "data": {
      "text/plain": [
       "'averroes was a great philosopher but the end of his life was miserable his books burned he was exiled and i dont find this surprising his ideas were not accepted it was too hard for the people to understand it to understand that his word is better for them and for humanity in this book he tried to defend the ideas of avicenna and alfarabi because they said that the world is old as a god and god does not know the molecules because someone started a war on the philosophers by his book the incoherence of the philosophers by mohammed alghazali averroes also tried to say that the mind and religions can work together but at the end averroes lost everything muslims now are studying mohammed alghazali and ibn taymiyyah not averroesupdate 652020 this review sounds childish now'"
      ]
     },
     "execution_count": 97,
     "metadata": {},
     "output_type": "execute_result"
    }
   ],
   "source": [
    "df['review'][0]"
   ]
  },
  {
   "cell_type": "markdown",
   "id": "17415ccc",
   "metadata": {},
   "source": [
    "### Removing stop words.\n",
    "\n",
    "Stop words=common word that carry no meaning.--->is,a,the"
   ]
  },
  {
   "cell_type": "markdown",
   "id": "9620fd0a",
   "metadata": {},
   "source": [
    "Logic behind removing stop word\n",
    "\n",
    "\n",
    "Split the word.\n",
    "\n",
    "Use list comprehension to return the word.\n",
    "\n",
    "Use if statement to return word which was not in stop words"
   ]
  },
  {
   "cell_type": "code",
   "execution_count": 105,
   "id": "d6b44a46",
   "metadata": {},
   "outputs": [],
   "source": [
    "stop=stopwords.words('english')"
   ]
  },
  {
   "cell_type": "code",
   "execution_count": 107,
   "id": "a042b010",
   "metadata": {},
   "outputs": [
    {
     "data": {
      "text/plain": [
       "['i',\n",
       " 'me',\n",
       " 'my',\n",
       " 'myself',\n",
       " 'we',\n",
       " 'our',\n",
       " 'ours',\n",
       " 'ourselves',\n",
       " 'you',\n",
       " \"you're\",\n",
       " \"you've\",\n",
       " \"you'll\",\n",
       " \"you'd\",\n",
       " 'your',\n",
       " 'yours',\n",
       " 'yourself',\n",
       " 'yourselves',\n",
       " 'he',\n",
       " 'him',\n",
       " 'his',\n",
       " 'himself',\n",
       " 'she',\n",
       " \"she's\",\n",
       " 'her',\n",
       " 'hers',\n",
       " 'herself',\n",
       " 'it',\n",
       " \"it's\",\n",
       " 'its',\n",
       " 'itself',\n",
       " 'they',\n",
       " 'them',\n",
       " 'their',\n",
       " 'theirs',\n",
       " 'themselves',\n",
       " 'what',\n",
       " 'which',\n",
       " 'who',\n",
       " 'whom',\n",
       " 'this',\n",
       " 'that',\n",
       " \"that'll\",\n",
       " 'these',\n",
       " 'those',\n",
       " 'am',\n",
       " 'is',\n",
       " 'are',\n",
       " 'was',\n",
       " 'were',\n",
       " 'be',\n",
       " 'been',\n",
       " 'being',\n",
       " 'have',\n",
       " 'has',\n",
       " 'had',\n",
       " 'having',\n",
       " 'do',\n",
       " 'does',\n",
       " 'did',\n",
       " 'doing',\n",
       " 'a',\n",
       " 'an',\n",
       " 'the',\n",
       " 'and',\n",
       " 'but',\n",
       " 'if',\n",
       " 'or',\n",
       " 'because',\n",
       " 'as',\n",
       " 'until',\n",
       " 'while',\n",
       " 'of',\n",
       " 'at',\n",
       " 'by',\n",
       " 'for',\n",
       " 'with',\n",
       " 'about',\n",
       " 'against',\n",
       " 'between',\n",
       " 'into',\n",
       " 'through',\n",
       " 'during',\n",
       " 'before',\n",
       " 'after',\n",
       " 'above',\n",
       " 'below',\n",
       " 'to',\n",
       " 'from',\n",
       " 'up',\n",
       " 'down',\n",
       " 'in',\n",
       " 'out',\n",
       " 'on',\n",
       " 'off',\n",
       " 'over',\n",
       " 'under',\n",
       " 'again',\n",
       " 'further',\n",
       " 'then',\n",
       " 'once',\n",
       " 'here',\n",
       " 'there',\n",
       " 'when',\n",
       " 'where',\n",
       " 'why',\n",
       " 'how',\n",
       " 'all',\n",
       " 'any',\n",
       " 'both',\n",
       " 'each',\n",
       " 'few',\n",
       " 'more',\n",
       " 'most',\n",
       " 'other',\n",
       " 'some',\n",
       " 'such',\n",
       " 'no',\n",
       " 'nor',\n",
       " 'not',\n",
       " 'only',\n",
       " 'own',\n",
       " 'same',\n",
       " 'so',\n",
       " 'than',\n",
       " 'too',\n",
       " 'very',\n",
       " 's',\n",
       " 't',\n",
       " 'can',\n",
       " 'will',\n",
       " 'just',\n",
       " 'don',\n",
       " \"don't\",\n",
       " 'should',\n",
       " \"should've\",\n",
       " 'now',\n",
       " 'd',\n",
       " 'll',\n",
       " 'm',\n",
       " 'o',\n",
       " 're',\n",
       " 've',\n",
       " 'y',\n",
       " 'ain',\n",
       " 'aren',\n",
       " \"aren't\",\n",
       " 'couldn',\n",
       " \"couldn't\",\n",
       " 'didn',\n",
       " \"didn't\",\n",
       " 'doesn',\n",
       " \"doesn't\",\n",
       " 'hadn',\n",
       " \"hadn't\",\n",
       " 'hasn',\n",
       " \"hasn't\",\n",
       " 'haven',\n",
       " \"haven't\",\n",
       " 'isn',\n",
       " \"isn't\",\n",
       " 'ma',\n",
       " 'mightn',\n",
       " \"mightn't\",\n",
       " 'mustn',\n",
       " \"mustn't\",\n",
       " 'needn',\n",
       " \"needn't\",\n",
       " 'shan',\n",
       " \"shan't\",\n",
       " 'shouldn',\n",
       " \"shouldn't\",\n",
       " 'wasn',\n",
       " \"wasn't\",\n",
       " 'weren',\n",
       " \"weren't\",\n",
       " 'won',\n",
       " \"won't\",\n",
       " 'wouldn',\n",
       " \"wouldn't\"]"
      ]
     },
     "execution_count": 107,
     "metadata": {},
     "output_type": "execute_result"
    }
   ],
   "source": [
    "stop"
   ]
  },
  {
   "cell_type": "code",
   "execution_count": 125,
   "id": "c5fa856c",
   "metadata": {},
   "outputs": [
    {
     "data": {
      "text/plain": [
       "778"
      ]
     },
     "execution_count": 125,
     "metadata": {},
     "output_type": "execute_result"
    }
   ],
   "source": [
    "len(df['review'][0])"
   ]
  },
  {
   "cell_type": "code",
   "execution_count": 130,
   "id": "2c49f776",
   "metadata": {},
   "outputs": [
    {
     "data": {
      "text/plain": [
       "139"
      ]
     },
     "execution_count": 130,
     "metadata": {},
     "output_type": "execute_result"
    }
   ],
   "source": [
    "first_review=df['review'][0]\n",
    "\n",
    "first_review_without_stopword=[word for word in first_review.split() if first_review not in stop]\n",
    "len(first_review_without_stopword)"
   ]
  },
  {
   "cell_type": "code",
   "execution_count": 131,
   "id": "f7baa15b",
   "metadata": {},
   "outputs": [
    {
     "data": {
      "text/plain": [
       "'averroes was a great philosopher but the end of his life was miserable his books burned he was exiled and i dont find this surprising his ideas were not accepted it was too hard for the people to understand it to understand that his word is better for them and for humanity in this book he tried to defend the ideas of avicenna and alfarabi because they said that the world is old as a god and god does not know the molecules because someone started a war on the philosophers by his book the incoherence of the philosophers by mohammed alghazali averroes also tried to say that the mind and religions can work together but at the end averroes lost everything muslims now are studying mohammed alghazali and ibn taymiyyah not averroesupdate 652020 this review sounds childish now'"
      ]
     },
     "execution_count": 131,
     "metadata": {},
     "output_type": "execute_result"
    }
   ],
   "source": [
    "first_review"
   ]
  },
  {
   "cell_type": "code",
   "execution_count": 134,
   "id": "cb3c5c9e",
   "metadata": {},
   "outputs": [
    {
     "data": {
      "text/plain": [
       "['averroes',\n",
       " 'was',\n",
       " 'a',\n",
       " 'great',\n",
       " 'philosopher',\n",
       " 'but',\n",
       " 'the',\n",
       " 'end',\n",
       " 'of',\n",
       " 'his',\n",
       " 'life',\n",
       " 'was',\n",
       " 'miserable',\n",
       " 'his',\n",
       " 'books',\n",
       " 'burned',\n",
       " 'he',\n",
       " 'was',\n",
       " 'exiled',\n",
       " 'and',\n",
       " 'i',\n",
       " 'dont',\n",
       " 'find',\n",
       " 'this',\n",
       " 'surprising',\n",
       " 'his',\n",
       " 'ideas',\n",
       " 'were',\n",
       " 'not',\n",
       " 'accepted',\n",
       " 'it',\n",
       " 'was',\n",
       " 'too',\n",
       " 'hard',\n",
       " 'for',\n",
       " 'the',\n",
       " 'people',\n",
       " 'to',\n",
       " 'understand',\n",
       " 'it',\n",
       " 'to',\n",
       " 'understand',\n",
       " 'that',\n",
       " 'his',\n",
       " 'word',\n",
       " 'is',\n",
       " 'better',\n",
       " 'for',\n",
       " 'them',\n",
       " 'and',\n",
       " 'for',\n",
       " 'humanity',\n",
       " 'in',\n",
       " 'this',\n",
       " 'book',\n",
       " 'he',\n",
       " 'tried',\n",
       " 'to',\n",
       " 'defend',\n",
       " 'the',\n",
       " 'ideas',\n",
       " 'of',\n",
       " 'avicenna',\n",
       " 'and',\n",
       " 'alfarabi',\n",
       " 'because',\n",
       " 'they',\n",
       " 'said',\n",
       " 'that',\n",
       " 'the',\n",
       " 'world',\n",
       " 'is',\n",
       " 'old',\n",
       " 'as',\n",
       " 'a',\n",
       " 'god',\n",
       " 'and',\n",
       " 'god',\n",
       " 'does',\n",
       " 'not',\n",
       " 'know',\n",
       " 'the',\n",
       " 'molecules',\n",
       " 'because',\n",
       " 'someone',\n",
       " 'started',\n",
       " 'a',\n",
       " 'war',\n",
       " 'on',\n",
       " 'the',\n",
       " 'philosophers',\n",
       " 'by',\n",
       " 'his',\n",
       " 'book',\n",
       " 'the',\n",
       " 'incoherence',\n",
       " 'of',\n",
       " 'the',\n",
       " 'philosophers',\n",
       " 'by',\n",
       " 'mohammed',\n",
       " 'alghazali',\n",
       " 'averroes',\n",
       " 'also',\n",
       " 'tried',\n",
       " 'to',\n",
       " 'say',\n",
       " 'that',\n",
       " 'the',\n",
       " 'mind',\n",
       " 'and',\n",
       " 'religions',\n",
       " 'can',\n",
       " 'work',\n",
       " 'together',\n",
       " 'but',\n",
       " 'at',\n",
       " 'the',\n",
       " 'end',\n",
       " 'averroes',\n",
       " 'lost',\n",
       " 'everything',\n",
       " 'muslims',\n",
       " 'now',\n",
       " 'are',\n",
       " 'studying',\n",
       " 'mohammed',\n",
       " 'alghazali',\n",
       " 'and',\n",
       " 'ibn',\n",
       " 'taymiyyah',\n",
       " 'not',\n",
       " 'averroesupdate',\n",
       " '652020',\n",
       " 'this',\n",
       " 'review',\n",
       " 'sounds',\n",
       " 'childish',\n",
       " 'now']"
      ]
     },
     "execution_count": 134,
     "metadata": {},
     "output_type": "execute_result"
    }
   ],
   "source": [
    "first_review_without_stopword"
   ]
  },
  {
   "cell_type": "code",
   "execution_count": 135,
   "id": "d3f7a803",
   "metadata": {},
   "outputs": [],
   "source": [
    "df['review']=df['review'].apply(lambda x:' '.join(x for x in x.split() if x not in stop))"
   ]
  },
  {
   "cell_type": "code",
   "execution_count": 136,
   "id": "67bea4b4",
   "metadata": {},
   "outputs": [
    {
     "data": {
      "text/html": [
       "<div>\n",
       "<style scoped>\n",
       "    .dataframe tbody tr th:only-of-type {\n",
       "        vertical-align: middle;\n",
       "    }\n",
       "\n",
       "    .dataframe tbody tr th {\n",
       "        vertical-align: top;\n",
       "    }\n",
       "\n",
       "    .dataframe thead th {\n",
       "        text-align: right;\n",
       "    }\n",
       "</style>\n",
       "<table border=\"1\" class=\"dataframe\">\n",
       "  <thead>\n",
       "    <tr style=\"text-align: right;\">\n",
       "      <th></th>\n",
       "      <th>user</th>\n",
       "      <th>review</th>\n",
       "      <th>sentiment score</th>\n",
       "    </tr>\n",
       "  </thead>\n",
       "  <tbody>\n",
       "    <tr>\n",
       "      <th>0</th>\n",
       "      <td>Julian</td>\n",
       "      <td>averroes great philosopher end life miserable ...</td>\n",
       "      <td>(0.08690476190476189, 0.6130952380952381)</td>\n",
       "    </tr>\n",
       "    <tr>\n",
       "      <th>1</th>\n",
       "      <td>Haider Hussain</td>\n",
       "      <td>two important takeaways book1 nothing ground b...</td>\n",
       "      <td>(0.07499999999999998, 0.6563218390804597)</td>\n",
       "    </tr>\n",
       "    <tr>\n",
       "      <th>2</th>\n",
       "      <td>H.A.A. Zayour</td>\n",
       "      <td>want read book second time employing essential...</td>\n",
       "      <td>(0.24992424242424244, 0.4967792207792208)</td>\n",
       "    </tr>\n",
       "    <tr>\n",
       "      <th>3</th>\n",
       "      <td>Ismaïl  Ismaïlovitch</td>\n",
       "      <td>reading book better idea philosophy averroes t...</td>\n",
       "      <td>(0.3657954545454545, 0.4883928571428572)</td>\n",
       "    </tr>\n",
       "    <tr>\n",
       "      <th>4</th>\n",
       "      <td>Edwin Setiadi</td>\n",
       "      <td>averroes also known ibn rushd legal scholar ma...</td>\n",
       "      <td>(0.23017241379310344, 0.4491379310344827)</td>\n",
       "    </tr>\n",
       "    <tr>\n",
       "      <th>5</th>\n",
       "      <td>Barry Edwards</td>\n",
       "      <td>must say quite conflicted book particularly ve...</td>\n",
       "      <td>(0.03942577030812325, 0.4927170868347339)</td>\n",
       "    </tr>\n",
       "    <tr>\n",
       "      <th>6</th>\n",
       "      <td>Maher Khaled</td>\n",
       "      <td>good quick read</td>\n",
       "      <td>(0.6216666666666666, 0.6400000000000001)</td>\n",
       "    </tr>\n",
       "    <tr>\n",
       "      <th>7</th>\n",
       "      <td>Loubna Mckouar</td>\n",
       "      <td>must read</td>\n",
       "      <td>(0.0, 0.0)</td>\n",
       "    </tr>\n",
       "  </tbody>\n",
       "</table>\n",
       "</div>"
      ],
      "text/plain": [
       "                    user                                             review  \\\n",
       "0                 Julian  averroes great philosopher end life miserable ...   \n",
       "1         Haider Hussain  two important takeaways book1 nothing ground b...   \n",
       "2          H.A.A. Zayour  want read book second time employing essential...   \n",
       "3  Ismaïl  Ismaïlovitch   reading book better idea philosophy averroes t...   \n",
       "4          Edwin Setiadi  averroes also known ibn rushd legal scholar ma...   \n",
       "5          Barry Edwards  must say quite conflicted book particularly ve...   \n",
       "6           Maher Khaled                                    good quick read   \n",
       "7         Loubna Mckouar                                          must read   \n",
       "\n",
       "                             sentiment score  \n",
       "0  (0.08690476190476189, 0.6130952380952381)  \n",
       "1  (0.07499999999999998, 0.6563218390804597)  \n",
       "2  (0.24992424242424244, 0.4967792207792208)  \n",
       "3   (0.3657954545454545, 0.4883928571428572)  \n",
       "4  (0.23017241379310344, 0.4491379310344827)  \n",
       "5  (0.03942577030812325, 0.4927170868347339)  \n",
       "6   (0.6216666666666666, 0.6400000000000001)  \n",
       "7                                 (0.0, 0.0)  "
      ]
     },
     "execution_count": 136,
     "metadata": {},
     "output_type": "execute_result"
    }
   ],
   "source": [
    "df"
   ]
  },
  {
   "cell_type": "code",
   "execution_count": 10,
   "id": "059a08ef",
   "metadata": {},
   "outputs": [
    {
     "data": {
      "text/html": [
       "<div>\n",
       "<style scoped>\n",
       "    .dataframe tbody tr th:only-of-type {\n",
       "        vertical-align: middle;\n",
       "    }\n",
       "\n",
       "    .dataframe tbody tr th {\n",
       "        vertical-align: top;\n",
       "    }\n",
       "\n",
       "    .dataframe thead th {\n",
       "        text-align: right;\n",
       "    }\n",
       "</style>\n",
       "<table border=\"1\" class=\"dataframe\">\n",
       "  <thead>\n",
       "    <tr style=\"text-align: right;\">\n",
       "      <th></th>\n",
       "      <th>user</th>\n",
       "      <th>review</th>\n",
       "      <th>sentiment score</th>\n",
       "    </tr>\n",
       "  </thead>\n",
       "  <tbody>\n",
       "    <tr>\n",
       "      <th>0</th>\n",
       "      <td>Julian</td>\n",
       "      <td>averroes great philosopher end life miserable ...</td>\n",
       "      <td>Sentiment(polarity=0.08690476190476189, subjec...</td>\n",
       "    </tr>\n",
       "    <tr>\n",
       "      <th>1</th>\n",
       "      <td>Haider Hussain</td>\n",
       "      <td>two important takeaways book1 nothing ground b...</td>\n",
       "      <td>Sentiment(polarity=0.07499999999999998, subjec...</td>\n",
       "    </tr>\n",
       "    <tr>\n",
       "      <th>2</th>\n",
       "      <td>H.A.A. Zayour</td>\n",
       "      <td>want read book second time employing essential...</td>\n",
       "      <td>Sentiment(polarity=0.24992424242424244, subjec...</td>\n",
       "    </tr>\n",
       "    <tr>\n",
       "      <th>3</th>\n",
       "      <td>Ismaïl  Ismaïlovitch</td>\n",
       "      <td>reading book better idea philosophy averroes t...</td>\n",
       "      <td>Sentiment(polarity=0.3657954545454545, subject...</td>\n",
       "    </tr>\n",
       "    <tr>\n",
       "      <th>4</th>\n",
       "      <td>Edwin Setiadi</td>\n",
       "      <td>averroes also known ibn rushd legal scholar ma...</td>\n",
       "      <td>Sentiment(polarity=0.23017241379310344, subjec...</td>\n",
       "    </tr>\n",
       "    <tr>\n",
       "      <th>5</th>\n",
       "      <td>Barry Edwards</td>\n",
       "      <td>must say quite conflicted book particularly ve...</td>\n",
       "      <td>Sentiment(polarity=0.03942577030812325, subjec...</td>\n",
       "    </tr>\n",
       "    <tr>\n",
       "      <th>6</th>\n",
       "      <td>Maher Khaled</td>\n",
       "      <td>good quick read</td>\n",
       "      <td>Sentiment(polarity=0.6216666666666666, subject...</td>\n",
       "    </tr>\n",
       "    <tr>\n",
       "      <th>7</th>\n",
       "      <td>Loubna Mckouar</td>\n",
       "      <td>must read</td>\n",
       "      <td>Sentiment(polarity=0.0, subjectivity=0.0)</td>\n",
       "    </tr>\n",
       "  </tbody>\n",
       "</table>\n",
       "</div>"
      ],
      "text/plain": [
       "                    user                                             review  \\\n",
       "0                 Julian  averroes great philosopher end life miserable ...   \n",
       "1         Haider Hussain  two important takeaways book1 nothing ground b...   \n",
       "2          H.A.A. Zayour  want read book second time employing essential...   \n",
       "3  Ismaïl  Ismaïlovitch   reading book better idea philosophy averroes t...   \n",
       "4          Edwin Setiadi  averroes also known ibn rushd legal scholar ma...   \n",
       "5          Barry Edwards  must say quite conflicted book particularly ve...   \n",
       "6           Maher Khaled                                    good quick read   \n",
       "7         Loubna Mckouar                                          must read   \n",
       "\n",
       "                                     sentiment score  \n",
       "0  Sentiment(polarity=0.08690476190476189, subjec...  \n",
       "1  Sentiment(polarity=0.07499999999999998, subjec...  \n",
       "2  Sentiment(polarity=0.24992424242424244, subjec...  \n",
       "3  Sentiment(polarity=0.3657954545454545, subject...  \n",
       "4  Sentiment(polarity=0.23017241379310344, subjec...  \n",
       "5  Sentiment(polarity=0.03942577030812325, subjec...  \n",
       "6  Sentiment(polarity=0.6216666666666666, subject...  \n",
       "7          Sentiment(polarity=0.0, subjectivity=0.0)  "
      ]
     },
     "execution_count": 10,
     "metadata": {},
     "output_type": "execute_result"
    }
   ],
   "source": [
    "df"
   ]
  },
  {
   "cell_type": "markdown",
   "id": "938a3bd2",
   "metadata": {},
   "source": [
    "# Building a word cloud"
   ]
  },
  {
   "cell_type": "code",
   "execution_count": 12,
   "id": "9b723ef4",
   "metadata": {},
   "outputs": [],
   "source": [
    "from wordcloud import WordCloud\n",
    "from wordcloud import STOPWORDS"
   ]
  },
  {
   "cell_type": "markdown",
   "id": "f11e5d6d",
   "metadata": {},
   "source": [
    "##### Concatenate the reviews as the word cloud function takes in a concatenated input text"
   ]
  },
  {
   "cell_type": "code",
   "execution_count": 16,
   "id": "0f57944b",
   "metadata": {},
   "outputs": [
    {
     "data": {
      "text/plain": [
       "'averroes great philosopher end life miserable books burned exiled dont find surprising ideas accepted hard people understand understand word better humanity book tried defend ideas avicenna alfarabi said world old god god know molecules someone started war philosophers book incoherence philosophers mohammed alghazali averroes also tried say mind religions work together end averroes lost everything muslims studying mohammed alghazali ibn taymiyyah averroesupdate 652020 review sounds childishtwo important takeaways book1 nothing ground breaking book however read keeping historical context mind time written issues touches important work2 expecting detailed discussion issues philosophy religion different page disappointed averroes briefly touches upon disentanglement philosophy religion arises title might bit misleading appropriately book prolegomena averroes touches upon three key issues different interpretations scriptural quranic texts consequences different interpretations ii interpret scripture iii important know audience every interpretation exegesis everyone instance allegorical interpretations expressed someone whose mental capacity enough understand apparent meaning led unbeliefaverroes criticizes mutazilites asharaites exposing masses allegorical interpretations quran suitable learned scholars view due allegorical interpretations especially false ones mutazilites asharaites supposition interpretations scripture ought expressed everyone sects islam arose result one accused others unbelief hearsaywant read book second time employing essential concept discussed brilliant scholar second read writing new thorough review general outline adopted views humbly rejectedput simple words amazed philosopher found great joy enlightenment read work although regard little bit elitistsuch organization brilliance lucidity ibn rushd simply amazing beautiful mindreading book better idea philosophy averroes translation notes hourani useful helps understand obscure passages believe ultimate message book help us live good life cited author certain passages like one right practice consists performing acts brings happiness avoiding acts brings miseryaverroes also known ibn rushd legal scholar maliki school islamic law inspired st thomas aquinas many muslim catholic jewish scholars alike time regarded founding father secular thought europe muslim painted sistine chapel guy turban scuola di atene painting grouped dante 14th century masterpiece divine comedy among great philosophers plato aristotlefamous bringing back almost vanished teachings aristotle commentary work trained law medicine philosophy became chief judge cordoba golden age inventions muslim world 12th century brought us algebra alchemy algorithm among many othershis life story alone reveals much lost islamic history rich culture muslims way renaissance started civilise west 2 centuries later resulting thinkings product advanced knowledge islamic golden age would make todays islamic culture defacto caliphate descendants muhhamad bin saud abdulwahhab looks medieval simplistic comparison yet like ibn alhaytam wrote theory gravity 600 years isaac newton altusi algazali whose work freemarket economy copied adam smith work averroes remains unknown modern worldthis wellresearched book written 1960 attempt bring back stories complex theological debates muslim scholars golden age islam book divided 3 parts 1 fascinating introduction sets intellectual scene c 1012th century muslim world 2 translation averroes writings 3 brilliant elaborating notes translation central averroes superb thoughts question era harmony religion philosophy may already settled ageold debate religion philosophy around 900 years agomust say quite conflicted book particularly version read dodo press quite shoddy work translation structured terms used confusing say least especially one already familiar larger philosophical context work written primarily say book written translators potentially limited understanding rather modern counterparts terms used ibn rushd makes book quite confusing read say wouldnt confusing read otherwise dont knowother ibn rushd seems touch upon interesting points novel arguments within context suspect especially earlier parts muddled translationgood quick readmust read'"
      ]
     },
     "execution_count": 16,
     "metadata": {},
     "output_type": "execute_result"
    }
   ],
   "source": [
    "reviews=''.join(df['review'])\n",
    "reviews"
   ]
  },
  {
   "cell_type": "code",
   "execution_count": 23,
   "id": "889b34d7",
   "metadata": {},
   "outputs": [
    {
     "data": {
      "text/plain": [
       "<Figure size 864x432 with 0 Axes>"
      ]
     },
     "execution_count": 23,
     "metadata": {},
     "output_type": "execute_result"
    },
    {
     "data": {
      "image/png": "[encoded data removed]",
      "text/plain": [
       "<Figure size 864x432 with 1 Axes>"
      ]
     },
     "metadata": {
      "needs_background": "light"
     },
     "output_type": "display_data"
    },
    {
     "data": {
      "text/plain": [
       "<Figure size 864x432 with 0 Axes>"
      ]
     },
     "metadata": {},
     "output_type": "display_data"
    }
   ],
   "source": [
    "plt.figure(figsize=(12,6))\n",
    "wordcloud=WordCloud(background_color='white').generate(reviews)\n",
    "plt.imshow(wordcloud,interpolation='bilinear')"
   ]
  },
  {
   "cell_type": "markdown",
   "id": "6c6b4747",
   "metadata": {},
   "source": [
    " Here we can see people mostly refer Ibnu Rushd as Averroes not Ibnu Rushd..."
   ]
  },
  {
   "cell_type": "markdown",
   "id": "596d8e8c",
   "metadata": {},
   "source": [
    "# Generate sentiment score with vader model"
   ]
  },
  {
   "cell_type": "markdown",
   "id": "01d64643",
   "metadata": {},
   "source": [
    "#### Taken from :https://github.com/cjhutto/vaderSentiment#:~:text=Fork%20813-,VADER%20Sentiment%20Analysis.,on%20texts%20from%20other%20domains."
   ]
  },
  {
   "cell_type": "markdown",
   "id": "915e7d98",
   "metadata": {},
   "source": [
    "The compound score is computed by summing the valence scores of each word in the lexicon, adjusted according to the rules, and then normalized to be between -1 (most extreme negative) and +1 (most extreme positive). This is the most useful metric if you want a single unidimensional measure of sentiment for a given sentence. Calling it a 'normalized, weighted composite score' is accurate.\n",
    "\n",
    "It is also useful for researchers who would like to set standardized thresholds for classifying sentences as either positive, neutral, or negative. Typical threshold values (used in the literature cited on this page) are:\n",
    "\n",
    "positive sentiment: compound score >= 0.05\n",
    "\n",
    "\n",
    "neutral sentiment: (compound score > -0.05) and (compound score < 0.05)\n",
    "\n",
    "\n",
    "negative sentiment: compound score <= -0.05\n",
    "\n",
    "\n",
    "NOTE: The compound score is the one most commonly used for sentiment analysis by most researchers, including the authors."
   ]
  },
  {
   "cell_type": "markdown",
   "id": "951ffca3",
   "metadata": {},
   "source": [
    "The pos, neu, and neg scores are ratios for proportions of text that fall in each category (so these should all add up to be 1... or close to it with float operation). These are the most useful metrics if you want to analyze the context & presentation of how sentiment is conveyed or embedded in rhetoric for a given sentence. For example, different writing styles may embed strongly positive or negative sentiment within varying proportions of neutral text -- i.e., some writing styles may reflect a penchant for strongly flavored rhetoric, whereas other styles may use a great deal of neutral text while still conveying a similar overall (compound) sentiment. As another example: researchers analyzing information presentation in journalistic or editorical news might desire to establish whether the proportions of text (associated with a topic or named entity, for example) are balanced with similar amounts of positively and negatively framed text versus being \"biased\" towards one polarity or the other for the topic/entity."
   ]
  },
  {
   "cell_type": "code",
   "execution_count": 24,
   "id": "2b8103a9",
   "metadata": {},
   "outputs": [],
   "source": [
    "from vaderSentiment.vaderSentiment import SentimentIntensityAnalyzer"
   ]
  },
  {
   "cell_type": "code",
   "execution_count": 26,
   "id": "cecf5ac6",
   "metadata": {},
   "outputs": [],
   "source": [
    "vader=SentimentIntensityAnalyzer()"
   ]
  },
  {
   "cell_type": "code",
   "execution_count": 27,
   "id": "a0c79a8e",
   "metadata": {},
   "outputs": [
    {
     "name": "stdout",
     "output_type": "stream",
     "text": [
      "{'neg': 0.178, 'neu': 0.662, 'pos': 0.16, 'compound': -0.1316}\n",
      "{'neg': 0.098, 'neu': 0.86, 'pos': 0.042, 'compound': -0.7964}\n",
      "{'neg': 0.0, 'neu': 0.584, 'pos': 0.416, 'compound': 0.9814}\n",
      "{'neg': 0.105, 'neu': 0.515, 'pos': 0.381, 'compound': 0.9337}\n",
      "{'neg': 0.018, 'neu': 0.799, 'pos': 0.183, 'compound': 0.9907}\n",
      "{'neg': 0.132, 'neu': 0.787, 'pos': 0.081, 'compound': -0.4985}\n",
      "{'neg': 0.0, 'neu': 0.408, 'pos': 0.592, 'compound': 0.4404}\n",
      "{'neg': 0.0, 'neu': 1.0, 'pos': 0.0, 'compound': 0.0}\n"
     ]
    }
   ],
   "source": [
    "for row in df['review']:\n",
    "    vc=vader.polarity_scores(row)\n",
    "    print(vc)"
   ]
  },
  {
   "cell_type": "code",
   "execution_count": 28,
   "id": "e470d7f7",
   "metadata": {},
   "outputs": [],
   "source": [
    "emptylist=[]"
   ]
  },
  {
   "cell_type": "code",
   "execution_count": 29,
   "id": "d7980c0e",
   "metadata": {},
   "outputs": [],
   "source": [
    "for row in df['review']:\n",
    "    vc=vader.polarity_scores(row)\n",
    "    emptylist.append(vc)"
   ]
  },
  {
   "cell_type": "code",
   "execution_count": 32,
   "id": "7425c171",
   "metadata": {},
   "outputs": [
    {
     "data": {
      "text/html": [
       "<div>\n",
       "<style scoped>\n",
       "    .dataframe tbody tr th:only-of-type {\n",
       "        vertical-align: middle;\n",
       "    }\n",
       "\n",
       "    .dataframe tbody tr th {\n",
       "        vertical-align: top;\n",
       "    }\n",
       "\n",
       "    .dataframe thead th {\n",
       "        text-align: right;\n",
       "    }\n",
       "</style>\n",
       "<table border=\"1\" class=\"dataframe\">\n",
       "  <thead>\n",
       "    <tr style=\"text-align: right;\">\n",
       "      <th></th>\n",
       "      <th>neg</th>\n",
       "      <th>neu</th>\n",
       "      <th>pos</th>\n",
       "      <th>compound</th>\n",
       "    </tr>\n",
       "  </thead>\n",
       "  <tbody>\n",
       "    <tr>\n",
       "      <th>0</th>\n",
       "      <td>0.178</td>\n",
       "      <td>0.662</td>\n",
       "      <td>0.160</td>\n",
       "      <td>-0.1316</td>\n",
       "    </tr>\n",
       "    <tr>\n",
       "      <th>1</th>\n",
       "      <td>0.098</td>\n",
       "      <td>0.860</td>\n",
       "      <td>0.042</td>\n",
       "      <td>-0.7964</td>\n",
       "    </tr>\n",
       "    <tr>\n",
       "      <th>2</th>\n",
       "      <td>0.000</td>\n",
       "      <td>0.584</td>\n",
       "      <td>0.416</td>\n",
       "      <td>0.9814</td>\n",
       "    </tr>\n",
       "    <tr>\n",
       "      <th>3</th>\n",
       "      <td>0.105</td>\n",
       "      <td>0.515</td>\n",
       "      <td>0.381</td>\n",
       "      <td>0.9337</td>\n",
       "    </tr>\n",
       "    <tr>\n",
       "      <th>4</th>\n",
       "      <td>0.018</td>\n",
       "      <td>0.799</td>\n",
       "      <td>0.183</td>\n",
       "      <td>0.9907</td>\n",
       "    </tr>\n",
       "    <tr>\n",
       "      <th>5</th>\n",
       "      <td>0.132</td>\n",
       "      <td>0.787</td>\n",
       "      <td>0.081</td>\n",
       "      <td>-0.4985</td>\n",
       "    </tr>\n",
       "    <tr>\n",
       "      <th>6</th>\n",
       "      <td>0.000</td>\n",
       "      <td>0.408</td>\n",
       "      <td>0.592</td>\n",
       "      <td>0.4404</td>\n",
       "    </tr>\n",
       "    <tr>\n",
       "      <th>7</th>\n",
       "      <td>0.000</td>\n",
       "      <td>1.000</td>\n",
       "      <td>0.000</td>\n",
       "      <td>0.0000</td>\n",
       "    </tr>\n",
       "  </tbody>\n",
       "</table>\n",
       "</div>"
      ],
      "text/plain": [
       "     neg    neu    pos  compound\n",
       "0  0.178  0.662  0.160   -0.1316\n",
       "1  0.098  0.860  0.042   -0.7964\n",
       "2  0.000  0.584  0.416    0.9814\n",
       "3  0.105  0.515  0.381    0.9337\n",
       "4  0.018  0.799  0.183    0.9907\n",
       "5  0.132  0.787  0.081   -0.4985\n",
       "6  0.000  0.408  0.592    0.4404\n",
       "7  0.000  1.000  0.000    0.0000"
      ]
     },
     "execution_count": 32,
     "metadata": {},
     "output_type": "execute_result"
    }
   ],
   "source": [
    "vader_sentiment=pd.DataFrame(emptylist)\n",
    "vader_sentiment"
   ]
  },
  {
   "cell_type": "code",
   "execution_count": 34,
   "id": "b76afca8",
   "metadata": {},
   "outputs": [
    {
     "data": {
      "text/html": [
       "<div>\n",
       "<style scoped>\n",
       "    .dataframe tbody tr th:only-of-type {\n",
       "        vertical-align: middle;\n",
       "    }\n",
       "\n",
       "    .dataframe tbody tr th {\n",
       "        vertical-align: top;\n",
       "    }\n",
       "\n",
       "    .dataframe thead th {\n",
       "        text-align: right;\n",
       "    }\n",
       "</style>\n",
       "<table border=\"1\" class=\"dataframe\">\n",
       "  <thead>\n",
       "    <tr style=\"text-align: right;\">\n",
       "      <th></th>\n",
       "      <th>user</th>\n",
       "      <th>review</th>\n",
       "      <th>sentiment score</th>\n",
       "      <th>neg</th>\n",
       "      <th>neu</th>\n",
       "      <th>pos</th>\n",
       "      <th>compound</th>\n",
       "    </tr>\n",
       "  </thead>\n",
       "  <tbody>\n",
       "    <tr>\n",
       "      <th>0</th>\n",
       "      <td>Julian</td>\n",
       "      <td>averroes great philosopher end life miserable ...</td>\n",
       "      <td>Sentiment(polarity=0.08690476190476189, subjec...</td>\n",
       "      <td>0.178</td>\n",
       "      <td>0.662</td>\n",
       "      <td>0.160</td>\n",
       "      <td>-0.1316</td>\n",
       "    </tr>\n",
       "    <tr>\n",
       "      <th>1</th>\n",
       "      <td>Haider Hussain</td>\n",
       "      <td>two important takeaways book1 nothing ground b...</td>\n",
       "      <td>Sentiment(polarity=0.07499999999999998, subjec...</td>\n",
       "      <td>0.098</td>\n",
       "      <td>0.860</td>\n",
       "      <td>0.042</td>\n",
       "      <td>-0.7964</td>\n",
       "    </tr>\n",
       "    <tr>\n",
       "      <th>2</th>\n",
       "      <td>H.A.A. Zayour</td>\n",
       "      <td>want read book second time employing essential...</td>\n",
       "      <td>Sentiment(polarity=0.24992424242424244, subjec...</td>\n",
       "      <td>0.000</td>\n",
       "      <td>0.584</td>\n",
       "      <td>0.416</td>\n",
       "      <td>0.9814</td>\n",
       "    </tr>\n",
       "    <tr>\n",
       "      <th>3</th>\n",
       "      <td>Ismaïl  Ismaïlovitch</td>\n",
       "      <td>reading book better idea philosophy averroes t...</td>\n",
       "      <td>Sentiment(polarity=0.3657954545454545, subject...</td>\n",
       "      <td>0.105</td>\n",
       "      <td>0.515</td>\n",
       "      <td>0.381</td>\n",
       "      <td>0.9337</td>\n",
       "    </tr>\n",
       "    <tr>\n",
       "      <th>4</th>\n",
       "      <td>Edwin Setiadi</td>\n",
       "      <td>averroes also known ibn rushd legal scholar ma...</td>\n",
       "      <td>Sentiment(polarity=0.23017241379310344, subjec...</td>\n",
       "      <td>0.018</td>\n",
       "      <td>0.799</td>\n",
       "      <td>0.183</td>\n",
       "      <td>0.9907</td>\n",
       "    </tr>\n",
       "    <tr>\n",
       "      <th>5</th>\n",
       "      <td>Barry Edwards</td>\n",
       "      <td>must say quite conflicted book particularly ve...</td>\n",
       "      <td>Sentiment(polarity=0.03942577030812325, subjec...</td>\n",
       "      <td>0.132</td>\n",
       "      <td>0.787</td>\n",
       "      <td>0.081</td>\n",
       "      <td>-0.4985</td>\n",
       "    </tr>\n",
       "    <tr>\n",
       "      <th>6</th>\n",
       "      <td>Maher Khaled</td>\n",
       "      <td>good quick read</td>\n",
       "      <td>Sentiment(polarity=0.6216666666666666, subject...</td>\n",
       "      <td>0.000</td>\n",
       "      <td>0.408</td>\n",
       "      <td>0.592</td>\n",
       "      <td>0.4404</td>\n",
       "    </tr>\n",
       "    <tr>\n",
       "      <th>7</th>\n",
       "      <td>Loubna Mckouar</td>\n",
       "      <td>must read</td>\n",
       "      <td>Sentiment(polarity=0.0, subjectivity=0.0)</td>\n",
       "      <td>0.000</td>\n",
       "      <td>1.000</td>\n",
       "      <td>0.000</td>\n",
       "      <td>0.0000</td>\n",
       "    </tr>\n",
       "  </tbody>\n",
       "</table>\n",
       "</div>"
      ],
      "text/plain": [
       "                    user                                             review  \\\n",
       "0                 Julian  averroes great philosopher end life miserable ...   \n",
       "1         Haider Hussain  two important takeaways book1 nothing ground b...   \n",
       "2          H.A.A. Zayour  want read book second time employing essential...   \n",
       "3  Ismaïl  Ismaïlovitch   reading book better idea philosophy averroes t...   \n",
       "4          Edwin Setiadi  averroes also known ibn rushd legal scholar ma...   \n",
       "5          Barry Edwards  must say quite conflicted book particularly ve...   \n",
       "6           Maher Khaled                                    good quick read   \n",
       "7         Loubna Mckouar                                          must read   \n",
       "\n",
       "                                     sentiment score    neg    neu    pos  \\\n",
       "0  Sentiment(polarity=0.08690476190476189, subjec...  0.178  0.662  0.160   \n",
       "1  Sentiment(polarity=0.07499999999999998, subjec...  0.098  0.860  0.042   \n",
       "2  Sentiment(polarity=0.24992424242424244, subjec...  0.000  0.584  0.416   \n",
       "3  Sentiment(polarity=0.3657954545454545, subject...  0.105  0.515  0.381   \n",
       "4  Sentiment(polarity=0.23017241379310344, subjec...  0.018  0.799  0.183   \n",
       "5  Sentiment(polarity=0.03942577030812325, subjec...  0.132  0.787  0.081   \n",
       "6  Sentiment(polarity=0.6216666666666666, subject...  0.000  0.408  0.592   \n",
       "7          Sentiment(polarity=0.0, subjectivity=0.0)  0.000  1.000  0.000   \n",
       "\n",
       "   compound  \n",
       "0   -0.1316  \n",
       "1   -0.7964  \n",
       "2    0.9814  \n",
       "3    0.9337  \n",
       "4    0.9907  \n",
       "5   -0.4985  \n",
       "6    0.4404  \n",
       "7    0.0000  "
      ]
     },
     "execution_count": 34,
     "metadata": {},
     "output_type": "execute_result"
    }
   ],
   "source": [
    "df=pd.concat([df,vader_sentiment],axis=1)\n",
    "df"
   ]
  },
  {
   "cell_type": "markdown",
   "id": "34605455",
   "metadata": {},
   "source": [
    "Based on the compound score, we will label it as positive and negative."
   ]
  },
  {
   "cell_type": "code",
   "execution_count": 41,
   "id": "e8436aec",
   "metadata": {},
   "outputs": [],
   "source": [
    "df['sentiment']=df['compound'].apply(lambda x: 'positive' if x>0.05 else 'negative')"
   ]
  },
  {
   "cell_type": "code",
   "execution_count": 42,
   "id": "c75193dd",
   "metadata": {},
   "outputs": [
    {
     "data": {
      "text/html": [
       "<div>\n",
       "<style scoped>\n",
       "    .dataframe tbody tr th:only-of-type {\n",
       "        vertical-align: middle;\n",
       "    }\n",
       "\n",
       "    .dataframe tbody tr th {\n",
       "        vertical-align: top;\n",
       "    }\n",
       "\n",
       "    .dataframe thead th {\n",
       "        text-align: right;\n",
       "    }\n",
       "</style>\n",
       "<table border=\"1\" class=\"dataframe\">\n",
       "  <thead>\n",
       "    <tr style=\"text-align: right;\">\n",
       "      <th></th>\n",
       "      <th>user</th>\n",
       "      <th>review</th>\n",
       "      <th>sentiment score</th>\n",
       "      <th>neg</th>\n",
       "      <th>neu</th>\n",
       "      <th>pos</th>\n",
       "      <th>compound</th>\n",
       "      <th>sentiment</th>\n",
       "    </tr>\n",
       "  </thead>\n",
       "  <tbody>\n",
       "    <tr>\n",
       "      <th>0</th>\n",
       "      <td>Julian</td>\n",
       "      <td>averroes great philosopher end life miserable ...</td>\n",
       "      <td>Sentiment(polarity=0.08690476190476189, subjec...</td>\n",
       "      <td>0.178</td>\n",
       "      <td>0.662</td>\n",
       "      <td>0.160</td>\n",
       "      <td>-0.1316</td>\n",
       "      <td>negative</td>\n",
       "    </tr>\n",
       "    <tr>\n",
       "      <th>1</th>\n",
       "      <td>Haider Hussain</td>\n",
       "      <td>two important takeaways book1 nothing ground b...</td>\n",
       "      <td>Sentiment(polarity=0.07499999999999998, subjec...</td>\n",
       "      <td>0.098</td>\n",
       "      <td>0.860</td>\n",
       "      <td>0.042</td>\n",
       "      <td>-0.7964</td>\n",
       "      <td>negative</td>\n",
       "    </tr>\n",
       "    <tr>\n",
       "      <th>2</th>\n",
       "      <td>H.A.A. Zayour</td>\n",
       "      <td>want read book second time employing essential...</td>\n",
       "      <td>Sentiment(polarity=0.24992424242424244, subjec...</td>\n",
       "      <td>0.000</td>\n",
       "      <td>0.584</td>\n",
       "      <td>0.416</td>\n",
       "      <td>0.9814</td>\n",
       "      <td>positive</td>\n",
       "    </tr>\n",
       "    <tr>\n",
       "      <th>3</th>\n",
       "      <td>Ismaïl  Ismaïlovitch</td>\n",
       "      <td>reading book better idea philosophy averroes t...</td>\n",
       "      <td>Sentiment(polarity=0.3657954545454545, subject...</td>\n",
       "      <td>0.105</td>\n",
       "      <td>0.515</td>\n",
       "      <td>0.381</td>\n",
       "      <td>0.9337</td>\n",
       "      <td>positive</td>\n",
       "    </tr>\n",
       "    <tr>\n",
       "      <th>4</th>\n",
       "      <td>Edwin Setiadi</td>\n",
       "      <td>averroes also known ibn rushd legal scholar ma...</td>\n",
       "      <td>Sentiment(polarity=0.23017241379310344, subjec...</td>\n",
       "      <td>0.018</td>\n",
       "      <td>0.799</td>\n",
       "      <td>0.183</td>\n",
       "      <td>0.9907</td>\n",
       "      <td>positive</td>\n",
       "    </tr>\n",
       "    <tr>\n",
       "      <th>5</th>\n",
       "      <td>Barry Edwards</td>\n",
       "      <td>must say quite conflicted book particularly ve...</td>\n",
       "      <td>Sentiment(polarity=0.03942577030812325, subjec...</td>\n",
       "      <td>0.132</td>\n",
       "      <td>0.787</td>\n",
       "      <td>0.081</td>\n",
       "      <td>-0.4985</td>\n",
       "      <td>negative</td>\n",
       "    </tr>\n",
       "    <tr>\n",
       "      <th>6</th>\n",
       "      <td>Maher Khaled</td>\n",
       "      <td>good quick read</td>\n",
       "      <td>Sentiment(polarity=0.6216666666666666, subject...</td>\n",
       "      <td>0.000</td>\n",
       "      <td>0.408</td>\n",
       "      <td>0.592</td>\n",
       "      <td>0.4404</td>\n",
       "      <td>positive</td>\n",
       "    </tr>\n",
       "    <tr>\n",
       "      <th>7</th>\n",
       "      <td>Loubna Mckouar</td>\n",
       "      <td>must read</td>\n",
       "      <td>Sentiment(polarity=0.0, subjectivity=0.0)</td>\n",
       "      <td>0.000</td>\n",
       "      <td>1.000</td>\n",
       "      <td>0.000</td>\n",
       "      <td>0.0000</td>\n",
       "      <td>negative</td>\n",
       "    </tr>\n",
       "  </tbody>\n",
       "</table>\n",
       "</div>"
      ],
      "text/plain": [
       "                    user                                             review  \\\n",
       "0                 Julian  averroes great philosopher end life miserable ...   \n",
       "1         Haider Hussain  two important takeaways book1 nothing ground b...   \n",
       "2          H.A.A. Zayour  want read book second time employing essential...   \n",
       "3  Ismaïl  Ismaïlovitch   reading book better idea philosophy averroes t...   \n",
       "4          Edwin Setiadi  averroes also known ibn rushd legal scholar ma...   \n",
       "5          Barry Edwards  must say quite conflicted book particularly ve...   \n",
       "6           Maher Khaled                                    good quick read   \n",
       "7         Loubna Mckouar                                          must read   \n",
       "\n",
       "                                     sentiment score    neg    neu    pos  \\\n",
       "0  Sentiment(polarity=0.08690476190476189, subjec...  0.178  0.662  0.160   \n",
       "1  Sentiment(polarity=0.07499999999999998, subjec...  0.098  0.860  0.042   \n",
       "2  Sentiment(polarity=0.24992424242424244, subjec...  0.000  0.584  0.416   \n",
       "3  Sentiment(polarity=0.3657954545454545, subject...  0.105  0.515  0.381   \n",
       "4  Sentiment(polarity=0.23017241379310344, subjec...  0.018  0.799  0.183   \n",
       "5  Sentiment(polarity=0.03942577030812325, subjec...  0.132  0.787  0.081   \n",
       "6  Sentiment(polarity=0.6216666666666666, subject...  0.000  0.408  0.592   \n",
       "7          Sentiment(polarity=0.0, subjectivity=0.0)  0.000  1.000  0.000   \n",
       "\n",
       "   compound sentiment  \n",
       "0   -0.1316  negative  \n",
       "1   -0.7964  negative  \n",
       "2    0.9814  positive  \n",
       "3    0.9337  positive  \n",
       "4    0.9907  positive  \n",
       "5   -0.4985  negative  \n",
       "6    0.4404  positive  \n",
       "7    0.0000  negative  "
      ]
     },
     "execution_count": 42,
     "metadata": {},
     "output_type": "execute_result"
    }
   ],
   "source": [
    "df"
   ]
  },
  {
   "cell_type": "code",
   "execution_count": 46,
   "id": "e7a0f5b4",
   "metadata": {},
   "outputs": [
    {
     "data": {
      "text/plain": [
       "negative    4\n",
       "positive    4\n",
       "Name: sentiment, dtype: int64"
      ]
     },
     "execution_count": 46,
     "metadata": {},
     "output_type": "execute_result"
    }
   ],
   "source": [
    "df['sentiment'].value_counts()"
   ]
  },
  {
   "cell_type": "code",
   "execution_count": 52,
   "id": "9491c77b",
   "metadata": {},
   "outputs": [
    {
     "name": "stderr",
     "output_type": "stream",
     "text": [
      "c:\\users\\aliff\\appdata\\local\\programs\\python\\python39\\lib\\site-packages\\seaborn\\_decorators.py:36: FutureWarning: Pass the following variable as a keyword arg: x. From version 0.12, the only valid positional argument will be `data`, and passing other arguments without an explicit keyword will result in an error or misinterpretation.\n",
      "  warnings.warn(\n"
     ]
    },
    {
     "data": {
      "text/plain": [
       "<AxesSubplot:xlabel='sentiment', ylabel='count'>"
      ]
     },
     "execution_count": 52,
     "metadata": {},
     "output_type": "execute_result"
    },
    {
     "data": {
      "image/png": "[encoded data removed]",
      "text/plain": [
       "<Figure size 864x432 with 1 Axes>"
      ]
     },
     "metadata": {
      "needs_background": "light"
     },
     "output_type": "display_data"
    }
   ],
   "source": [
    "plt.figure(figsize=(12,6))\n",
    "sns.countplot(df['sentiment'],palette='ocean')"
   ]
  },
  {
   "cell_type": "code",
   "execution_count": null,
   "id": "6f4d3db5",
   "metadata": {},
   "outputs": [],
   "source": []
  }
 ],
 "metadata": {
  "kernelspec": {
   "display_name": "Python 3",
   "language": "python",
   "name": "python3"
  },
  "language_info": {
   "codemirror_mode": {
    "name": "ipython",
    "version": 3
   },
   "file_extension": ".py",
   "mimetype": "text/x-python",
   "name": "python",
   "nbconvert_exporter": "python",
   "pygments_lexer": "ipython3",
   "version": "3.9.5"
  }
 },
 "nbformat": 4,
 "nbformat_minor": 5
}
