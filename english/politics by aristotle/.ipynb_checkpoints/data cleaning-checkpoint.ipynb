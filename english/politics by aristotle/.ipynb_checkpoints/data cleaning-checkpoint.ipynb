{
 "cells": [
  {
   "cell_type": "code",
   "execution_count": 58,
   "id": "97660d80",
   "metadata": {},
   "outputs": [
    {
     "name": "stderr",
     "output_type": "stream",
     "text": [
      "[nltk_data] Downloading package stopwords to\n",
      "[nltk_data]     C:\\Users\\user\\AppData\\Roaming\\nltk_data...\n",
      "[nltk_data]   Unzipping corpora\\stopwords.zip.\n"
     ]
    },
    {
     "data": {
      "text/plain": [
       "True"
      ]
     },
     "execution_count": 58,
     "metadata": {},
     "output_type": "execute_result"
    }
   ],
   "source": [
    "import pandas as pd \n",
    "from textblob import TextBlob\n",
    "from nltk.corpus import stopwords\n",
    "from textblob import Word\n",
    "import re\n",
    "import nltk\n",
    "from wordcloud import STOPWORDS\n",
    "nltk.download('stopwords')"
   ]
  },
  {
   "cell_type": "code",
   "execution_count": 35,
   "id": "4886bc18",
   "metadata": {},
   "outputs": [],
   "source": [
    "df=pd.read_csv('df.csv')"
   ]
  },
  {
   "cell_type": "code",
   "execution_count": 36,
   "id": "10a492ec",
   "metadata": {},
   "outputs": [],
   "source": [
    "df=df.drop([df.columns[0],df.columns[1]],axis=1)"
   ]
  },
  {
   "cell_type": "code",
   "execution_count": 37,
   "id": "bc03364b",
   "metadata": {},
   "outputs": [
    {
     "data": {
      "text/html": [
       "<div>\n",
       "<style scoped>\n",
       "    .dataframe tbody tr th:only-of-type {\n",
       "        vertical-align: middle;\n",
       "    }\n",
       "\n",
       "    .dataframe tbody tr th {\n",
       "        vertical-align: top;\n",
       "    }\n",
       "\n",
       "    .dataframe thead th {\n",
       "        text-align: right;\n",
       "    }\n",
       "</style>\n",
       "<table border=\"1\" class=\"dataframe\">\n",
       "  <thead>\n",
       "    <tr style=\"text-align: right;\">\n",
       "      <th></th>\n",
       "      <th>0</th>\n",
       "      <th>0.1</th>\n",
       "      <th>0.2</th>\n",
       "    </tr>\n",
       "  </thead>\n",
       "  <tbody>\n",
       "    <tr>\n",
       "      <th>0</th>\n",
       "      <td>Fergus</td>\n",
       "      <td>All people desire the Good. So says Aristotle....</td>\n",
       "      <td>it was amazing</td>\n",
       "    </tr>\n",
       "    <tr>\n",
       "      <th>1</th>\n",
       "      <td>Ahmad Sharabiani</td>\n",
       "      <td>Πολιτικά = Politics, AristotleAristotle's Poli...</td>\n",
       "      <td>really liked it</td>\n",
       "    </tr>\n",
       "    <tr>\n",
       "      <th>2</th>\n",
       "      <td>Tim</td>\n",
       "      <td>I personally find it tough to do any sort of a...</td>\n",
       "      <td>it was amazing</td>\n",
       "    </tr>\n",
       "    <tr>\n",
       "      <th>3</th>\n",
       "      <td>Erick</td>\n",
       "      <td>Despite the warnings and protests that I have ...</td>\n",
       "      <td>really liked it</td>\n",
       "    </tr>\n",
       "    <tr>\n",
       "      <th>4</th>\n",
       "      <td>J</td>\n",
       "      <td>This is quite a turn away from the optimistic ...</td>\n",
       "      <td>it was ok</td>\n",
       "    </tr>\n",
       "    <tr>\n",
       "      <th>...</th>\n",
       "      <td>...</td>\n",
       "      <td>...</td>\n",
       "      <td>...</td>\n",
       "    </tr>\n",
       "    <tr>\n",
       "      <th>295</th>\n",
       "      <td>James Lang</td>\n",
       "      <td>Well it feels a little strange to give three s...</td>\n",
       "      <td>liked it</td>\n",
       "    </tr>\n",
       "    <tr>\n",
       "      <th>296</th>\n",
       "      <td>Milena M</td>\n",
       "      <td>Here Aristotle represents some of the fundamen...</td>\n",
       "      <td>really liked it</td>\n",
       "    </tr>\n",
       "    <tr>\n",
       "      <th>297</th>\n",
       "      <td>Cami</td>\n",
       "      <td>There is more relevant information in this boo...</td>\n",
       "      <td>really liked it</td>\n",
       "    </tr>\n",
       "    <tr>\n",
       "      <th>298</th>\n",
       "      <td>K</td>\n",
       "      <td>Contains Aristotle's ideas for what government...</td>\n",
       "      <td>did not like it</td>\n",
       "    </tr>\n",
       "    <tr>\n",
       "      <th>299</th>\n",
       "      <td>Jason Jewell</td>\n",
       "      <td>Many of the modern world's problems are the re...</td>\n",
       "      <td>it was amazing</td>\n",
       "    </tr>\n",
       "  </tbody>\n",
       "</table>\n",
       "<p>300 rows × 3 columns</p>\n",
       "</div>"
      ],
      "text/plain": [
       "                    0                                                0.1  \\\n",
       "0              Fergus  All people desire the Good. So says Aristotle....   \n",
       "1    Ahmad Sharabiani  Πολιτικά = Politics, AristotleAristotle's Poli...   \n",
       "2                 Tim  I personally find it tough to do any sort of a...   \n",
       "3               Erick  Despite the warnings and protests that I have ...   \n",
       "4                   J  This is quite a turn away from the optimistic ...   \n",
       "..                ...                                                ...   \n",
       "295        James Lang  Well it feels a little strange to give three s...   \n",
       "296          Milena M  Here Aristotle represents some of the fundamen...   \n",
       "297              Cami  There is more relevant information in this boo...   \n",
       "298                 K  Contains Aristotle's ideas for what government...   \n",
       "299      Jason Jewell  Many of the modern world's problems are the re...   \n",
       "\n",
       "                 0.2  \n",
       "0     it was amazing  \n",
       "1    really liked it  \n",
       "2     it was amazing  \n",
       "3    really liked it  \n",
       "4          it was ok  \n",
       "..               ...  \n",
       "295         liked it  \n",
       "296  really liked it  \n",
       "297  really liked it  \n",
       "298  did not like it  \n",
       "299   it was amazing  \n",
       "\n",
       "[300 rows x 3 columns]"
      ]
     },
     "execution_count": 37,
     "metadata": {},
     "output_type": "execute_result"
    }
   ],
   "source": [
    "df"
   ]
  },
  {
   "cell_type": "markdown",
   "id": "d19d075c",
   "metadata": {},
   "source": [
    "# Setting columns names"
   ]
  },
  {
   "cell_type": "code",
   "execution_count": 38,
   "id": "6aee012e",
   "metadata": {},
   "outputs": [],
   "source": [
    "df.columns=['username','review','star_rating']"
   ]
  },
  {
   "cell_type": "code",
   "execution_count": 39,
   "id": "9dc064a8",
   "metadata": {},
   "outputs": [
    {
     "data": {
      "text/html": [
       "<div>\n",
       "<style scoped>\n",
       "    .dataframe tbody tr th:only-of-type {\n",
       "        vertical-align: middle;\n",
       "    }\n",
       "\n",
       "    .dataframe tbody tr th {\n",
       "        vertical-align: top;\n",
       "    }\n",
       "\n",
       "    .dataframe thead th {\n",
       "        text-align: right;\n",
       "    }\n",
       "</style>\n",
       "<table border=\"1\" class=\"dataframe\">\n",
       "  <thead>\n",
       "    <tr style=\"text-align: right;\">\n",
       "      <th></th>\n",
       "      <th>username</th>\n",
       "      <th>review</th>\n",
       "      <th>star_rating</th>\n",
       "    </tr>\n",
       "  </thead>\n",
       "  <tbody>\n",
       "    <tr>\n",
       "      <th>0</th>\n",
       "      <td>Fergus</td>\n",
       "      <td>All people desire the Good. So says Aristotle....</td>\n",
       "      <td>it was amazing</td>\n",
       "    </tr>\n",
       "    <tr>\n",
       "      <th>1</th>\n",
       "      <td>Ahmad Sharabiani</td>\n",
       "      <td>Πολιτικά = Politics, AristotleAristotle's Poli...</td>\n",
       "      <td>really liked it</td>\n",
       "    </tr>\n",
       "    <tr>\n",
       "      <th>2</th>\n",
       "      <td>Tim</td>\n",
       "      <td>I personally find it tough to do any sort of a...</td>\n",
       "      <td>it was amazing</td>\n",
       "    </tr>\n",
       "    <tr>\n",
       "      <th>3</th>\n",
       "      <td>Erick</td>\n",
       "      <td>Despite the warnings and protests that I have ...</td>\n",
       "      <td>really liked it</td>\n",
       "    </tr>\n",
       "    <tr>\n",
       "      <th>4</th>\n",
       "      <td>J</td>\n",
       "      <td>This is quite a turn away from the optimistic ...</td>\n",
       "      <td>it was ok</td>\n",
       "    </tr>\n",
       "    <tr>\n",
       "      <th>...</th>\n",
       "      <td>...</td>\n",
       "      <td>...</td>\n",
       "      <td>...</td>\n",
       "    </tr>\n",
       "    <tr>\n",
       "      <th>295</th>\n",
       "      <td>James Lang</td>\n",
       "      <td>Well it feels a little strange to give three s...</td>\n",
       "      <td>liked it</td>\n",
       "    </tr>\n",
       "    <tr>\n",
       "      <th>296</th>\n",
       "      <td>Milena M</td>\n",
       "      <td>Here Aristotle represents some of the fundamen...</td>\n",
       "      <td>really liked it</td>\n",
       "    </tr>\n",
       "    <tr>\n",
       "      <th>297</th>\n",
       "      <td>Cami</td>\n",
       "      <td>There is more relevant information in this boo...</td>\n",
       "      <td>really liked it</td>\n",
       "    </tr>\n",
       "    <tr>\n",
       "      <th>298</th>\n",
       "      <td>K</td>\n",
       "      <td>Contains Aristotle's ideas for what government...</td>\n",
       "      <td>did not like it</td>\n",
       "    </tr>\n",
       "    <tr>\n",
       "      <th>299</th>\n",
       "      <td>Jason Jewell</td>\n",
       "      <td>Many of the modern world's problems are the re...</td>\n",
       "      <td>it was amazing</td>\n",
       "    </tr>\n",
       "  </tbody>\n",
       "</table>\n",
       "<p>300 rows × 3 columns</p>\n",
       "</div>"
      ],
      "text/plain": [
       "             username                                             review  \\\n",
       "0              Fergus  All people desire the Good. So says Aristotle....   \n",
       "1    Ahmad Sharabiani  Πολιτικά = Politics, AristotleAristotle's Poli...   \n",
       "2                 Tim  I personally find it tough to do any sort of a...   \n",
       "3               Erick  Despite the warnings and protests that I have ...   \n",
       "4                   J  This is quite a turn away from the optimistic ...   \n",
       "..                ...                                                ...   \n",
       "295        James Lang  Well it feels a little strange to give three s...   \n",
       "296          Milena M  Here Aristotle represents some of the fundamen...   \n",
       "297              Cami  There is more relevant information in this boo...   \n",
       "298                 K  Contains Aristotle's ideas for what government...   \n",
       "299      Jason Jewell  Many of the modern world's problems are the re...   \n",
       "\n",
       "         star_rating  \n",
       "0     it was amazing  \n",
       "1    really liked it  \n",
       "2     it was amazing  \n",
       "3    really liked it  \n",
       "4          it was ok  \n",
       "..               ...  \n",
       "295         liked it  \n",
       "296  really liked it  \n",
       "297  really liked it  \n",
       "298  did not like it  \n",
       "299   it was amazing  \n",
       "\n",
       "[300 rows x 3 columns]"
      ]
     },
     "execution_count": 39,
     "metadata": {},
     "output_type": "execute_result"
    }
   ],
   "source": [
    "df"
   ]
  },
  {
   "cell_type": "markdown",
   "id": "0840afd8",
   "metadata": {},
   "source": [
    "# Converting star_rating to numbers"
   ]
  },
  {
   "cell_type": "code",
   "execution_count": 41,
   "id": "13bc6103",
   "metadata": {},
   "outputs": [],
   "source": [
    "def convert_star(star):\n",
    "    if star.lower()=='it was amazing':\n",
    "        star_rating=5\n",
    "    elif star.lower()=='really liked it':\n",
    "        star_rating=4\n",
    "    elif star.lower()=='liked it':\n",
    "        star_rating=3\n",
    "    elif star.lower()=='it was ok':\n",
    "        star_rating=2\n",
    "    elif star.lower()=='did not like it':\n",
    "        star_rating=1\n",
    "    else:\n",
    "        star_rating='NULL'\n",
    "    return star_rating\n",
    "    "
   ]
  },
  {
   "cell_type": "code",
   "execution_count": 42,
   "id": "eb6aa48c",
   "metadata": {},
   "outputs": [],
   "source": [
    "df['num_star_rating']=df['star_rating'].apply(convert_star)"
   ]
  },
  {
   "cell_type": "code",
   "execution_count": 43,
   "id": "20aeb4ad",
   "metadata": {},
   "outputs": [
    {
     "data": {
      "text/html": [
       "<div>\n",
       "<style scoped>\n",
       "    .dataframe tbody tr th:only-of-type {\n",
       "        vertical-align: middle;\n",
       "    }\n",
       "\n",
       "    .dataframe tbody tr th {\n",
       "        vertical-align: top;\n",
       "    }\n",
       "\n",
       "    .dataframe thead th {\n",
       "        text-align: right;\n",
       "    }\n",
       "</style>\n",
       "<table border=\"1\" class=\"dataframe\">\n",
       "  <thead>\n",
       "    <tr style=\"text-align: right;\">\n",
       "      <th></th>\n",
       "      <th>username</th>\n",
       "      <th>review</th>\n",
       "      <th>star_rating</th>\n",
       "      <th>num_star_rating</th>\n",
       "    </tr>\n",
       "  </thead>\n",
       "  <tbody>\n",
       "    <tr>\n",
       "      <th>0</th>\n",
       "      <td>Fergus</td>\n",
       "      <td>All people desire the Good. So says Aristotle....</td>\n",
       "      <td>it was amazing</td>\n",
       "      <td>5</td>\n",
       "    </tr>\n",
       "    <tr>\n",
       "      <th>1</th>\n",
       "      <td>Ahmad Sharabiani</td>\n",
       "      <td>Πολιτικά = Politics, AristotleAristotle's Poli...</td>\n",
       "      <td>really liked it</td>\n",
       "      <td>4</td>\n",
       "    </tr>\n",
       "    <tr>\n",
       "      <th>2</th>\n",
       "      <td>Tim</td>\n",
       "      <td>I personally find it tough to do any sort of a...</td>\n",
       "      <td>it was amazing</td>\n",
       "      <td>5</td>\n",
       "    </tr>\n",
       "    <tr>\n",
       "      <th>3</th>\n",
       "      <td>Erick</td>\n",
       "      <td>Despite the warnings and protests that I have ...</td>\n",
       "      <td>really liked it</td>\n",
       "      <td>4</td>\n",
       "    </tr>\n",
       "    <tr>\n",
       "      <th>4</th>\n",
       "      <td>J</td>\n",
       "      <td>This is quite a turn away from the optimistic ...</td>\n",
       "      <td>it was ok</td>\n",
       "      <td>2</td>\n",
       "    </tr>\n",
       "    <tr>\n",
       "      <th>...</th>\n",
       "      <td>...</td>\n",
       "      <td>...</td>\n",
       "      <td>...</td>\n",
       "      <td>...</td>\n",
       "    </tr>\n",
       "    <tr>\n",
       "      <th>295</th>\n",
       "      <td>James Lang</td>\n",
       "      <td>Well it feels a little strange to give three s...</td>\n",
       "      <td>liked it</td>\n",
       "      <td>3</td>\n",
       "    </tr>\n",
       "    <tr>\n",
       "      <th>296</th>\n",
       "      <td>Milena M</td>\n",
       "      <td>Here Aristotle represents some of the fundamen...</td>\n",
       "      <td>really liked it</td>\n",
       "      <td>4</td>\n",
       "    </tr>\n",
       "    <tr>\n",
       "      <th>297</th>\n",
       "      <td>Cami</td>\n",
       "      <td>There is more relevant information in this boo...</td>\n",
       "      <td>really liked it</td>\n",
       "      <td>4</td>\n",
       "    </tr>\n",
       "    <tr>\n",
       "      <th>298</th>\n",
       "      <td>K</td>\n",
       "      <td>Contains Aristotle's ideas for what government...</td>\n",
       "      <td>did not like it</td>\n",
       "      <td>1</td>\n",
       "    </tr>\n",
       "    <tr>\n",
       "      <th>299</th>\n",
       "      <td>Jason Jewell</td>\n",
       "      <td>Many of the modern world's problems are the re...</td>\n",
       "      <td>it was amazing</td>\n",
       "      <td>5</td>\n",
       "    </tr>\n",
       "  </tbody>\n",
       "</table>\n",
       "<p>300 rows × 4 columns</p>\n",
       "</div>"
      ],
      "text/plain": [
       "             username                                             review  \\\n",
       "0              Fergus  All people desire the Good. So says Aristotle....   \n",
       "1    Ahmad Sharabiani  Πολιτικά = Politics, AristotleAristotle's Poli...   \n",
       "2                 Tim  I personally find it tough to do any sort of a...   \n",
       "3               Erick  Despite the warnings and protests that I have ...   \n",
       "4                   J  This is quite a turn away from the optimistic ...   \n",
       "..                ...                                                ...   \n",
       "295        James Lang  Well it feels a little strange to give three s...   \n",
       "296          Milena M  Here Aristotle represents some of the fundamen...   \n",
       "297              Cami  There is more relevant information in this boo...   \n",
       "298                 K  Contains Aristotle's ideas for what government...   \n",
       "299      Jason Jewell  Many of the modern world's problems are the re...   \n",
       "\n",
       "         star_rating num_star_rating  \n",
       "0     it was amazing               5  \n",
       "1    really liked it               4  \n",
       "2     it was amazing               5  \n",
       "3    really liked it               4  \n",
       "4          it was ok               2  \n",
       "..               ...             ...  \n",
       "295         liked it               3  \n",
       "296  really liked it               4  \n",
       "297  really liked it               4  \n",
       "298  did not like it               1  \n",
       "299   it was amazing               5  \n",
       "\n",
       "[300 rows x 4 columns]"
      ]
     },
     "execution_count": 43,
     "metadata": {},
     "output_type": "execute_result"
    }
   ],
   "source": [
    "df"
   ]
  },
  {
   "cell_type": "code",
   "execution_count": 44,
   "id": "42e89403",
   "metadata": {},
   "outputs": [
    {
     "data": {
      "text/plain": [
       "really liked it    103\n",
       "it was amazing      85\n",
       "liked it            49\n",
       "it was ok           30\n",
       "NONE                23\n",
       "did not like it     10\n",
       "Name: star_rating, dtype: int64"
      ]
     },
     "execution_count": 44,
     "metadata": {},
     "output_type": "execute_result"
    }
   ],
   "source": [
    "df['star_rating'].value_counts()"
   ]
  },
  {
   "cell_type": "code",
   "execution_count": 45,
   "id": "0c837f52",
   "metadata": {},
   "outputs": [
    {
     "data": {
      "text/plain": [
       "4       103\n",
       "5        85\n",
       "3        49\n",
       "2        30\n",
       "NULL     23\n",
       "1        10\n",
       "Name: num_star_rating, dtype: int64"
      ]
     },
     "execution_count": 45,
     "metadata": {},
     "output_type": "execute_result"
    }
   ],
   "source": [
    "df['num_star_rating'].value_counts()"
   ]
  },
  {
   "cell_type": "markdown",
   "id": "182081b3",
   "metadata": {},
   "source": [
    "# Convert reviews text to lower case"
   ]
  },
  {
   "cell_type": "code",
   "execution_count": 52,
   "id": "d307f8a5",
   "metadata": {},
   "outputs": [],
   "source": [
    "df['review']=df['review'].apply(lambda x:x.lower())"
   ]
  },
  {
   "cell_type": "markdown",
   "id": "7164f6be",
   "metadata": {},
   "source": [
    "# Removing punctuation"
   ]
  },
  {
   "cell_type": "code",
   "execution_count": 56,
   "id": "646daf5b",
   "metadata": {},
   "outputs": [],
   "source": [
    "df['review']=df['review'].apply(lambda x:re.sub(r'[\\W\\s]', ' ', x))"
   ]
  },
  {
   "cell_type": "markdown",
   "id": "b1838cb0",
   "metadata": {},
   "source": [
    "# Remove stop words"
   ]
  },
  {
   "cell_type": "code",
   "execution_count": 59,
   "id": "727e385c",
   "metadata": {},
   "outputs": [],
   "source": [
    "stop=stopwords.words('english')"
   ]
  },
  {
   "cell_type": "code",
   "execution_count": 64,
   "id": "36187500",
   "metadata": {},
   "outputs": [],
   "source": [
    "df['review']=df['review'].apply(lambda x : ' '.join(review for review in x.split() if review not in stop))"
   ]
  },
  {
   "cell_type": "markdown",
   "id": "75c1fd1f",
   "metadata": {},
   "source": [
    "# Cleaned data"
   ]
  },
  {
   "cell_type": "code",
   "execution_count": 65,
   "id": "e9e51ef4",
   "metadata": {},
   "outputs": [
    {
     "data": {
      "text/html": [
       "<div>\n",
       "<style scoped>\n",
       "    .dataframe tbody tr th:only-of-type {\n",
       "        vertical-align: middle;\n",
       "    }\n",
       "\n",
       "    .dataframe tbody tr th {\n",
       "        vertical-align: top;\n",
       "    }\n",
       "\n",
       "    .dataframe thead th {\n",
       "        text-align: right;\n",
       "    }\n",
       "</style>\n",
       "<table border=\"1\" class=\"dataframe\">\n",
       "  <thead>\n",
       "    <tr style=\"text-align: right;\">\n",
       "      <th></th>\n",
       "      <th>username</th>\n",
       "      <th>review</th>\n",
       "      <th>star_rating</th>\n",
       "      <th>num_star_rating</th>\n",
       "    </tr>\n",
       "  </thead>\n",
       "  <tbody>\n",
       "    <tr>\n",
       "      <th>0</th>\n",
       "      <td>Fergus</td>\n",
       "      <td>people desire good says aristotle yes everythi...</td>\n",
       "      <td>it was amazing</td>\n",
       "      <td>5</td>\n",
       "    </tr>\n",
       "    <tr>\n",
       "      <th>1</th>\n",
       "      <td>Ahmad Sharabiani</td>\n",
       "      <td>πολιτικά politics aristotlearistotle politics ...</td>\n",
       "      <td>really liked it</td>\n",
       "      <td>4</td>\n",
       "    </tr>\n",
       "    <tr>\n",
       "      <th>2</th>\n",
       "      <td>Tim</td>\n",
       "      <td>personally find tough sort review classics eve...</td>\n",
       "      <td>it was amazing</td>\n",
       "      <td>5</td>\n",
       "    </tr>\n",
       "    <tr>\n",
       "      <th>3</th>\n",
       "      <td>Erick</td>\n",
       "      <td>despite warnings protests received goodreads f...</td>\n",
       "      <td>really liked it</td>\n",
       "      <td>4</td>\n",
       "    </tr>\n",
       "    <tr>\n",
       "      <th>4</th>\n",
       "      <td>J</td>\n",
       "      <td>quite turn away optimistic figure tone nicomac...</td>\n",
       "      <td>it was ok</td>\n",
       "      <td>2</td>\n",
       "    </tr>\n",
       "    <tr>\n",
       "      <th>...</th>\n",
       "      <td>...</td>\n",
       "      <td>...</td>\n",
       "      <td>...</td>\n",
       "      <td>...</td>\n",
       "    </tr>\n",
       "    <tr>\n",
       "      <th>295</th>\n",
       "      <td>James Lang</td>\n",
       "      <td>well feels little strange give three stars ari...</td>\n",
       "      <td>liked it</td>\n",
       "      <td>3</td>\n",
       "    </tr>\n",
       "    <tr>\n",
       "      <th>296</th>\n",
       "      <td>Milena M</td>\n",
       "      <td>aristotle represents fundamental ideas politic...</td>\n",
       "      <td>really liked it</td>\n",
       "      <td>4</td>\n",
       "    </tr>\n",
       "    <tr>\n",
       "      <th>297</th>\n",
       "      <td>Cami</td>\n",
       "      <td>relevant information book think since book rea...</td>\n",
       "      <td>really liked it</td>\n",
       "      <td>4</td>\n",
       "    </tr>\n",
       "    <tr>\n",
       "      <th>298</th>\n",
       "      <td>K</td>\n",
       "      <td>contains aristotle ideas governments work best...</td>\n",
       "      <td>did not like it</td>\n",
       "      <td>1</td>\n",
       "    </tr>\n",
       "    <tr>\n",
       "      <th>299</th>\n",
       "      <td>Jason Jewell</td>\n",
       "      <td>many modern world problems result forgetting l...</td>\n",
       "      <td>it was amazing</td>\n",
       "      <td>5</td>\n",
       "    </tr>\n",
       "  </tbody>\n",
       "</table>\n",
       "<p>300 rows × 4 columns</p>\n",
       "</div>"
      ],
      "text/plain": [
       "             username                                             review  \\\n",
       "0              Fergus  people desire good says aristotle yes everythi...   \n",
       "1    Ahmad Sharabiani  πολιτικά politics aristotlearistotle politics ...   \n",
       "2                 Tim  personally find tough sort review classics eve...   \n",
       "3               Erick  despite warnings protests received goodreads f...   \n",
       "4                   J  quite turn away optimistic figure tone nicomac...   \n",
       "..                ...                                                ...   \n",
       "295        James Lang  well feels little strange give three stars ari...   \n",
       "296          Milena M  aristotle represents fundamental ideas politic...   \n",
       "297              Cami  relevant information book think since book rea...   \n",
       "298                 K  contains aristotle ideas governments work best...   \n",
       "299      Jason Jewell  many modern world problems result forgetting l...   \n",
       "\n",
       "         star_rating num_star_rating  \n",
       "0     it was amazing               5  \n",
       "1    really liked it               4  \n",
       "2     it was amazing               5  \n",
       "3    really liked it               4  \n",
       "4          it was ok               2  \n",
       "..               ...             ...  \n",
       "295         liked it               3  \n",
       "296  really liked it               4  \n",
       "297  really liked it               4  \n",
       "298  did not like it               1  \n",
       "299   it was amazing               5  \n",
       "\n",
       "[300 rows x 4 columns]"
      ]
     },
     "execution_count": 65,
     "metadata": {},
     "output_type": "execute_result"
    }
   ],
   "source": [
    "df"
   ]
  },
  {
   "cell_type": "code",
   "execution_count": 67,
   "id": "4f645fbb",
   "metadata": {},
   "outputs": [
    {
     "data": {
      "text/plain": [
       "'come aristotle really wrote lame book man gonna go read plato republic shake funk mean hey know supposed one world greatest thinkers founder formal logic dude ethics suck jazz talking book everyone needs ruled lack rationality rule need ruled others mean guess ends happening people lack rationality blindly follow groups like republican tea party propaganda corporate controlled media cool slavery bad sadly appears words prophetic us become wage slaves sure city important family turn important individual tottle talks politics like organism instead machine collection parts none exist without others aristotle said city polis laws economic stability pursuing good noble life stated goal perform noble acts political partnership must regarded therefore sake noble actions sake living together different thomas hobbes example said social contract individuals leave state nature fear violent death aristotle think inspired go read something fun'"
      ]
     },
     "execution_count": 67,
     "metadata": {},
     "output_type": "execute_result"
    }
   ],
   "source": [
    "df['review'][9]"
   ]
  },
  {
   "cell_type": "markdown",
   "id": "2bd5b794",
   "metadata": {},
   "source": [
    "# Save final data"
   ]
  },
  {
   "cell_type": "code",
   "execution_count": 68,
   "id": "808c17bb",
   "metadata": {},
   "outputs": [],
   "source": [
    "df.to_csv('df_final.csv')"
   ]
  },
  {
   "cell_type": "code",
   "execution_count": null,
   "id": "54fab3ba",
   "metadata": {},
   "outputs": [],
   "source": []
  }
 ],
 "metadata": {
  "kernelspec": {
   "display_name": "Python 3 (ipykernel)",
   "language": "python",
   "name": "python3"
  },
  "language_info": {
   "codemirror_mode": {
    "name": "ipython",
    "version": 3
   },
   "file_extension": ".py",
   "mimetype": "text/x-python",
   "name": "python",
   "nbconvert_exporter": "python",
   "pygments_lexer": "ipython3",
   "version": "3.7.8"
  }
 },
 "nbformat": 4,
 "nbformat_minor": 5
}
